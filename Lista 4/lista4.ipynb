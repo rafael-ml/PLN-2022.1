{
 "cells": [
  {
   "cell_type": "code",
   "execution_count": 3,
   "metadata": {},
   "outputs": [],
   "source": [
    "import numpy as np\n",
    "import pandas as pd\n",
    "import matplotlib.pyplot as plt\n",
    "import seaborn as sns\n",
    "#from sklearnex import patch_sklearn\n",
    "from sklearn.model_selection import train_test_split\n",
    "from sklearn.linear_model import LogisticRegression\n",
    "from sklearn.linear_model import LogisticRegression, SGDClassifier\n",
    "from sklearn.naive_bayes import GaussianNB\n",
    "from sklearn.model_selection import GridSearchCV\n",
    "from sklearn import metrics\n",
    "from tqdm import tqdm, tnrange\n",
    "from sklearn.model_selection import cross_val_score\n",
    "import torch\n",
    "import transformers as ppb\n",
    "import warnings\n",
    "#patch_sklearn()\n",
    "warnings.filterwarnings('ignore')"
   ]
  },
  {
   "cell_type": "code",
   "execution_count": null,
   "metadata": {},
   "outputs": [],
   "source": [
    "device = torch.device('cuda')\n",
    "torch.cuda.set_device(0)\n",
    "print('Using device:', device)\n",
    "print()"
   ]
  },
  {
   "cell_type": "code",
   "execution_count": 3,
   "metadata": {},
   "outputs": [
    {
     "name": "stdout",
     "output_type": "stream",
     "text": [
      "NVIDIA GeForce RTX 3060\n",
      "Memory Usage:\n",
      "Allocated: 0.0 GB\n",
      "Cached: 0.0 GB\n"
     ]
    }
   ],
   "source": [
    "if device.type == 'cuda':\n",
    "    print(torch.cuda.get_device_name(0))\n",
    "    print('Memory Usage:')\n",
    "    print('Allocated:', round(torch.cuda.memory_allocated(0)/1024**3,1), 'GB')\n",
    "    print('Cached:', round(torch.cuda.memory_cached(0)/1024**3,1), 'GB')"
   ]
  },
  {
   "cell_type": "markdown",
   "metadata": {},
   "source": [
    "# 1. Estude o notebook “A Visual Notebook to Using BERT for the First Time.ipynb”, anexo a essa lista."
   ]
  },
  {
   "cell_type": "markdown",
   "metadata": {},
   "source": [
    "## a) Resolva o mesmo problema de classificação da segunda questão da segunda lista, usando uma combinação de DistilBERT com os três classificadores usados na segunda lista."
   ]
  },
  {
   "cell_type": "code",
   "execution_count": 2,
   "metadata": {},
   "outputs": [
    {
     "data": {
      "text/plain": [
       "0    uk manufacturing sector continue face serious ...\n",
       "1    climate change fight aids leading list concern...\n",
       "2    shares europe leading reinsurers travel firms ...\n",
       "3    shares india largest power producer national t...\n",
       "4    luxury goods group lvmh sold loss making chris...\n",
       "Name: clean_text, dtype: object"
      ]
     },
     "metadata": {},
     "output_type": "display_data"
    },
    {
     "name": "stdout",
     "output_type": "stream",
     "text": [
      "(2225, 5)\n"
     ]
    }
   ],
   "source": [
    "df = pd.read_csv(\"clean_dataset_no_stemming.csv\")\n",
    "display(df['clean_text'].head(5))\n",
    "print(df.shape)"
   ]
  },
  {
   "cell_type": "markdown",
   "metadata": {},
   "source": [
    "### Binarizando"
   ]
  },
  {
   "cell_type": "code",
   "execution_count": 5,
   "metadata": {},
   "outputs": [
    {
     "name": "stdout",
     "output_type": "stream",
     "text": [
      "0    1714\n",
      "1     511\n",
      "Name: binary_target, dtype: int64\n"
     ]
    }
   ],
   "source": [
    "new_target = {'sport': 1, 'business': 0, 'politics': 0, 'tech': 0, 'entertainment': 0}\n",
    "df['binary_target'] = df['target'].map(new_target)\n",
    "print(df['binary_target'].value_counts())"
   ]
  },
  {
   "cell_type": "markdown",
   "metadata": {},
   "source": [
    "### Carregando modelo BERT"
   ]
  },
  {
   "cell_type": "code",
   "execution_count": 6,
   "metadata": {},
   "outputs": [
    {
     "name": "stderr",
     "output_type": "stream",
     "text": [
      "Some weights of the model checkpoint at distilbert-base-uncased were not used when initializing DistilBertModel: ['vocab_transform.weight', 'vocab_projector.bias', 'vocab_transform.bias', 'vocab_projector.weight', 'vocab_layer_norm.weight', 'vocab_layer_norm.bias']\n",
      "- This IS expected if you are initializing DistilBertModel from the checkpoint of a model trained on another task or with another architecture (e.g. initializing a BertForSequenceClassification model from a BertForPreTraining model).\n",
      "- This IS NOT expected if you are initializing DistilBertModel from the checkpoint of a model that you expect to be exactly identical (initializing a BertForSequenceClassification model from a BertForSequenceClassification model).\n"
     ]
    }
   ],
   "source": [
    "# For DistilBERT:\n",
    "model_class, tokenizer_class, pretrained_weights = (ppb.DistilBertModel, ppb.DistilBertTokenizer, 'distilbert-base-uncased')\n",
    "\n",
    "## Want BERT instead of distilBERT? Uncomment the following line:\n",
    "#model_class, tokenizer_class, pretrained_weights = (ppb.BertModel, ppb.BertTokenizer, 'bert-base-uncased')\n",
    "\n",
    "# Load pretrained model/tokenizer\n",
    "tokenizer = tokenizer_class.from_pretrained(pretrained_weights)\n",
    "model = model_class.from_pretrained(pretrained_weights)\n",
    "model = model.to(device)"
   ]
  },
  {
   "cell_type": "markdown",
   "metadata": {},
   "source": [
    "### Tokenizando"
   ]
  },
  {
   "cell_type": "code",
   "execution_count": 7,
   "metadata": {},
   "outputs": [],
   "source": [
    "tokenized = df['clean_text'].apply((lambda x: tokenizer.encode(x, add_special_tokens=True, truncation= True)))"
   ]
  },
  {
   "cell_type": "markdown",
   "metadata": {},
   "source": [
    "### Padding"
   ]
  },
  {
   "cell_type": "code",
   "execution_count": 8,
   "metadata": {},
   "outputs": [
    {
     "name": "stdout",
     "output_type": "stream",
     "text": [
      "512\n"
     ]
    }
   ],
   "source": [
    "max_len = 0\n",
    "counter = 0\n",
    "max_possible_len = 512\n",
    "for index,i in enumerate(tokenized.values):\n",
    "    # cropping input to length 512\n",
    "    if len(i) > max_possible_len:\n",
    "        tokenized.values[index] = i[:max_possible_len-1]\n",
    "        # get the length\n",
    "    if len(i) > max_len:\n",
    "        max_len = len(tokenized.values[index])\n",
    "print(max_len)\n",
    "padded = np.array([i + [0]*(max_len-len(i)) for i in tokenized.values])"
   ]
  },
  {
   "cell_type": "code",
   "execution_count": 9,
   "metadata": {},
   "outputs": [
    {
     "data": {
      "text/plain": [
       "(2225, 512)"
      ]
     },
     "execution_count": 9,
     "metadata": {},
     "output_type": "execute_result"
    }
   ],
   "source": [
    "np.array(padded).shape"
   ]
  },
  {
   "cell_type": "markdown",
   "metadata": {},
   "source": [
    "### Masking"
   ]
  },
  {
   "cell_type": "code",
   "execution_count": 10,
   "metadata": {},
   "outputs": [
    {
     "data": {
      "text/plain": [
       "(2225, 512)"
      ]
     },
     "execution_count": 10,
     "metadata": {},
     "output_type": "execute_result"
    }
   ],
   "source": [
    "attention_mask = np.where(padded != 0, 1, 0)\n",
    "attention_mask.shape"
   ]
  },
  {
   "cell_type": "markdown",
   "metadata": {},
   "source": [
    "### Deep Learning"
   ]
  },
  {
   "cell_type": "code",
   "execution_count": 11,
   "metadata": {},
   "outputs": [
    {
     "name": "stderr",
     "output_type": "stream",
     "text": [
      "100%|██████████| 11/11 [00:17<00:00,  1.61s/it]\n"
     ]
    }
   ],
   "source": [
    "batch_size = 220\n",
    "\n",
    "features_x = []\n",
    "attention_x = []\n",
    "\n",
    "input_ids = torch.tensor(padded)#.to(device) \n",
    "attention_mask = torch.tensor(attention_mask)#.to(device)\n",
    "\n",
    "for i in tqdm(range(int(input_ids.shape[0]/batch_size)+1)):\n",
    "    input_data = input_ids[i*batch_size:(i+1)*batch_size].to(device) \n",
    "    attention_data = attention_mask[i*batch_size:(i+1)*batch_size].to(device)\n",
    "    with torch.no_grad():\n",
    "        last_hidden_states = model(input_data, attention_mask=attention_data)\n",
    "    x = last_hidden_states[0][:,0,:].cpu().numpy()\n",
    "    features_x.extend(x)\n"
   ]
  },
  {
   "cell_type": "code",
   "execution_count": 12,
   "metadata": {},
   "outputs": [],
   "source": [
    "del last_hidden_states"
   ]
  },
  {
   "cell_type": "code",
   "execution_count": 13,
   "metadata": {},
   "outputs": [],
   "source": [
    "labels = df['binary_target'].values"
   ]
  },
  {
   "cell_type": "code",
   "execution_count": 14,
   "metadata": {},
   "outputs": [],
   "source": [
    "train_features, test_features, train_labels, test_labels = train_test_split(features_x, labels, test_size = 0.2, stratify= labels)"
   ]
  },
  {
   "cell_type": "code",
   "execution_count": 15,
   "metadata": {},
   "outputs": [
    {
     "name": "stdout",
     "output_type": "stream",
     "text": [
      "Accuracy: 0.99\n",
      "Auc: 1.0\n",
      "Detail:\n",
      "              precision    recall  f1-score   support\n",
      "\n",
      "           0       1.00      0.99      1.00       343\n",
      "           1       0.97      1.00      0.99       102\n",
      "\n",
      "    accuracy                           0.99       445\n",
      "   macro avg       0.99      1.00      0.99       445\n",
      "weighted avg       0.99      0.99      0.99       445\n",
      "\n"
     ]
    },
    {
     "data": {
      "image/png": "[encoded data removed]",
      "text/plain": [
       "<Figure size 640x480 with 1 Axes>"
      ]
     },
     "metadata": {},
     "output_type": "display_data"
    }
   ],
   "source": [
    "def bert_logistic_regression(X_train,X_test,y_train,y_test):\n",
    "    clf = LogisticRegression(n_jobs = -1)\n",
    "    clf.fit(X_train,y_train)\n",
    "\n",
    "    predicted = clf.predict(X_test)\n",
    "    predicted_prob = clf.predict_proba(X_test)\n",
    "    y_test1 = y_test.reshape(-1,1).flatten()\n",
    "\n",
    "    classes = np.unique(y_test1)\n",
    "    y_test_array = pd.get_dummies(y_test1, drop_first=False).values\n",
    "        \n",
    "    ## Accuracy, Precision, Recall\n",
    "    accuracy = metrics.accuracy_score(y_test1, predicted)\n",
    "    auc = metrics.roc_auc_score(y_test_array, predicted_prob)\n",
    "    print(\"Accuracy:\",  round(accuracy,2))\n",
    "    print(\"Auc:\", round(auc,2))\n",
    "    print(\"Detail:\")\n",
    "    print(metrics.classification_report(y_test1, predicted))\n",
    "        \n",
    "    ## Plot confusion matrix\n",
    "    cm = metrics.confusion_matrix(y_test1, predicted)\n",
    "    fig, ax = plt.subplots()\n",
    "    sns.heatmap(cm, annot=True, fmt='d', ax=ax, cmap=plt.cm.Blues, \n",
    "                cbar=False)\n",
    "    ax.set(xlabel=\"Pred\", ylabel=\"True\", xticklabels=classes, \n",
    "        yticklabels=classes, title=\"Confusion matrix\")\n",
    "    plt.yticks(rotation=0)\n",
    "\n",
    "    return metrics.classification_report(y_test1, predicted,output_dict=True)\n",
    "\n",
    "metrics_bert_lr = bert_logistic_regression(train_features,test_features,train_labels,test_labels)"
   ]
  },
  {
   "cell_type": "code",
   "execution_count": 16,
   "metadata": {},
   "outputs": [
    {
     "name": "stdout",
     "output_type": "stream",
     "text": [
      "Accuracy: 0.98\n",
      "Auc: 0.99\n",
      "Detail:\n",
      "              precision    recall  f1-score   support\n",
      "\n",
      "           0       0.98      0.99      0.99       343\n",
      "           1       0.96      0.94      0.95       102\n",
      "\n",
      "    accuracy                           0.98       445\n",
      "   macro avg       0.97      0.96      0.97       445\n",
      "weighted avg       0.98      0.98      0.98       445\n",
      "\n"
     ]
    },
    {
     "data": {
      "image/png": "[encoded data removed]",
      "text/plain": [
       "<Figure size 640x480 with 1 Axes>"
      ]
     },
     "metadata": {},
     "output_type": "display_data"
    }
   ],
   "source": [
    "def bert_gaussian_nb(X_train,X_test,y_train,y_test):\n",
    "    clf = GaussianNB()\n",
    "    clf.fit(X_train,y_train)\n",
    "\n",
    "    predicted = clf.predict(X_test)\n",
    "    predicted_prob = clf.predict_proba(X_test)\n",
    "    y_test1 = y_test.reshape(-1,1).flatten()\n",
    "\n",
    "    classes = np.unique(y_test1)\n",
    "    y_test_array = pd.get_dummies(y_test1, drop_first=False).values\n",
    "        \n",
    "    ## Accuracy, Precision, Recall\n",
    "    accuracy = metrics.accuracy_score(y_test1, predicted)\n",
    "    auc = metrics.roc_auc_score(y_test_array, predicted_prob)\n",
    "    print(\"Accuracy:\",  round(accuracy,2))\n",
    "    print(\"Auc:\", round(auc,2))\n",
    "    print(\"Detail:\")\n",
    "    print(metrics.classification_report(y_test1, predicted))\n",
    "        \n",
    "    ## Plot confusion matrix\n",
    "    cm = metrics.confusion_matrix(y_test1, predicted)\n",
    "    fig, ax = plt.subplots()\n",
    "    sns.heatmap(cm, annot=True, fmt='d', ax=ax, cmap=plt.cm.Blues, \n",
    "                cbar=False)\n",
    "    ax.set(xlabel=\"Pred\", ylabel=\"True\", xticklabels=classes, \n",
    "        yticklabels=classes, title=\"Confusion matrix\")\n",
    "    plt.yticks(rotation=0)\n",
    "\n",
    "    return metrics.classification_report(y_test1, predicted,output_dict=True)\n",
    "\n",
    "metrics_bert_gaussian_nb = bert_gaussian_nb(train_features,test_features,train_labels,test_labels)"
   ]
  },
  {
   "cell_type": "code",
   "execution_count": 17,
   "metadata": {},
   "outputs": [
    {
     "name": "stdout",
     "output_type": "stream",
     "text": [
      "Accuracy: 0.97\n",
      "Auc: 0.98\n",
      "Detail:\n",
      "              precision    recall  f1-score   support\n",
      "\n",
      "           0       1.00      0.96      0.98       343\n",
      "           1       0.89      1.00      0.94       102\n",
      "\n",
      "    accuracy                           0.97       445\n",
      "   macro avg       0.94      0.98      0.96       445\n",
      "weighted avg       0.97      0.97      0.97       445\n",
      "\n"
     ]
    },
    {
     "data": {
      "image/png": "[encoded data removed]",
      "text/plain": [
       "<Figure size 640x480 with 1 Axes>"
      ]
     },
     "metadata": {},
     "output_type": "display_data"
    }
   ],
   "source": [
    "def bert_sgd(X_train,X_test,y_train,y_test):\n",
    "    clf = SGDClassifier(n_jobs = -1, loss = 'modified_huber')\n",
    "    clf.fit(X_train,y_train)\n",
    "\n",
    "    predicted = clf.predict(X_test)\n",
    "    predicted_prob = clf.predict_proba(X_test)\n",
    "    y_test1 = y_test.reshape(-1,1).flatten()\n",
    "\n",
    "    classes = np.unique(y_test1)\n",
    "    y_test_array = pd.get_dummies(y_test1, drop_first=False).values\n",
    "        \n",
    "    ## Accuracy, Precision, Recall\n",
    "    accuracy = metrics.accuracy_score(y_test1, predicted)\n",
    "    auc = metrics.roc_auc_score(y_test_array, predicted_prob)\n",
    "    print(\"Accuracy:\",  round(accuracy,2))\n",
    "    print(\"Auc:\", round(auc,2))\n",
    "    print(\"Detail:\")\n",
    "    print(metrics.classification_report(y_test1, predicted))\n",
    "        \n",
    "    ## Plot confusion matrix\n",
    "    cm = metrics.confusion_matrix(y_test1, predicted)\n",
    "    fig, ax = plt.subplots()\n",
    "    sns.heatmap(cm, annot=True, fmt='d', ax=ax, cmap=plt.cm.Blues, \n",
    "                cbar=False)\n",
    "    ax.set(xlabel=\"Pred\", ylabel=\"True\", xticklabels=classes, \n",
    "        yticklabels=classes, title=\"Confusion matrix\")\n",
    "    plt.yticks(rotation=0)\n",
    "\n",
    "    return metrics.classification_report(y_test1, predicted,output_dict=True)\n",
    "\n",
    "metrics_bert_sgd = bert_sgd(train_features,test_features,train_labels,test_labels)"
   ]
  },
  {
   "cell_type": "code",
   "execution_count": 18,
   "metadata": {},
   "outputs": [],
   "source": [
    "torch.cuda.empty_cache()"
   ]
  },
  {
   "cell_type": "markdown",
   "metadata": {},
   "source": [
    "## b) Compare todos os resultados."
   ]
  },
  {
   "cell_type": "code",
   "execution_count": 20,
   "metadata": {},
   "outputs": [
    {
     "name": "stdout",
     "output_type": "stream",
     "text": [
      "F1 Score de todas as variações com DistilBERT:\n",
      "DistilBERT_LogisticRegression -> 0.9905574299233983\n",
      "DistilBERT_NaiveBayes -> 0.9679800828920101\n",
      "DistilBERT_SGD -> 0.960387836292548\n",
      "\n",
      "F1 Score de todas as 6 variações da lista 2:\n",
      "CountVectorizer_LogisticRegression -> 0.9978756896853286\n",
      "TF_IDF_LogisticRegression -> 0.9508113318695443\n",
      "CountVectorizer_NaiveBayes -> 0.9652806652806654\n",
      "TF_IDF_NaiveBayes -> 0.9647656095470429\n",
      "CountVectorizer_SGD -> 0.991483068135455\n",
      "TF_IDF_SGD -> 0.9936270690559857\n",
      "\n",
      "F1 Score de todos os modelos com Doc2Vec:\n",
      "Doc2Vec_LogisticRegression -> 0.9954576981137208\n",
      "Doc2Vec_NaiveBayes -> 0.7139673243811819\n",
      "Doc2Vec_SGD -> 0.9885528232370834\n",
      "\n",
      "F1 Score de todos os modelos com Deep Learning:\n",
      "Conv1D -> 0.9821192622184753\n",
      "LSTM -> 0.9948031306266785\n"
     ]
    }
   ],
   "source": [
    "metric_list = [metrics_bert_lr,metrics_bert_gaussian_nb,metrics_bert_sgd]\n",
    "metrics = ['DistilBERT_LogisticRegression','DistilBERT_NaiveBayes','DistilBERT_SGD']\n",
    "\n",
    "print('F1 Score de todas as variações com DistilBERT:')\n",
    "\n",
    "for i, metric in enumerate(metric_list):\n",
    "    print( metrics[i] + ' -> ' + str(metric['macro avg']['f1-score']))\n",
    "\n",
    "print('''\\nF1 Score de todas as 6 variações da lista 2:\n",
    "CountVectorizer_LogisticRegression -> 0.9978756896853286\n",
    "TF_IDF_LogisticRegression -> 0.9508113318695443\n",
    "CountVectorizer_NaiveBayes -> 0.9652806652806654\n",
    "TF_IDF_NaiveBayes -> 0.9647656095470429\n",
    "CountVectorizer_SGD -> 0.991483068135455\n",
    "TF_IDF_SGD -> 0.9936270690559857\n",
    "\\nF1 Score de todos os modelos com Doc2Vec:\n",
    "Doc2Vec_LogisticRegression -> 0.9954576981137208\n",
    "Doc2Vec_NaiveBayes -> 0.7139673243811819\n",
    "Doc2Vec_SGD -> 0.9885528232370834\n",
    "\\nF1 Score de todos os modelos com Deep Learning:\n",
    "Conv1D -> 0.9821192622184753\n",
    "LSTM -> 0.9948031306266785''')"
   ]
  },
  {
   "cell_type": "markdown",
   "metadata": {},
   "source": [
    "# 2. Estude e pesquise sobre o BERTopic, uma adaptação do BERT para modelagem de tópicos. O código fonte está disponível em https://github.com/MaartenGr/BERTopic."
   ]
  },
  {
   "cell_type": "markdown",
   "metadata": {},
   "source": [
    "## a) Extraia os tópicos de sua base, exibindo as informações dos tópicos (palavras mais relevantes)."
   ]
  },
  {
   "cell_type": "code",
   "execution_count": 1,
   "metadata": {},
   "outputs": [
    {
     "name": "stderr",
     "output_type": "stream",
     "text": [
      "c:\\Users\\Alvaro\\anaconda3\\envs\\pln\\lib\\site-packages\\tqdm\\auto.py:22: TqdmWarning: IProgress not found. Please update jupyter and ipywidgets. See https://ipywidgets.readthedocs.io/en/stable/user_install.html\n",
      "  from .autonotebook import tqdm as notebook_tqdm\n"
     ]
    }
   ],
   "source": [
    "from bertopic import BERTopic\n",
    "import pandas as pd\n",
    "\n",
    "df = pd.read_csv(\"../clean_dataset_no_stemming.csv\")\n",
    "docs = df['clean_text'].to_list()"
   ]
  },
  {
   "cell_type": "code",
   "execution_count": 2,
   "metadata": {},
   "outputs": [],
   "source": [
    "model = BERTopic(language=\"english\")\n",
    "topics, probs = model.fit_transform(docs)"
   ]
  },
  {
   "cell_type": "code",
   "execution_count": 3,
   "metadata": {},
   "outputs": [
    {
     "data": {
      "text/html": [
       "<div>\n",
       "<style scoped>\n",
       "    .dataframe tbody tr th:only-of-type {\n",
       "        vertical-align: middle;\n",
       "    }\n",
       "\n",
       "    .dataframe tbody tr th {\n",
       "        vertical-align: top;\n",
       "    }\n",
       "\n",
       "    .dataframe thead th {\n",
       "        text-align: right;\n",
       "    }\n",
       "</style>\n",
       "<table border=\"1\" class=\"dataframe\">\n",
       "  <thead>\n",
       "    <tr style=\"text-align: right;\">\n",
       "      <th></th>\n",
       "      <th>Topic</th>\n",
       "      <th>Count</th>\n",
       "      <th>Name</th>\n",
       "    </tr>\n",
       "  </thead>\n",
       "  <tbody>\n",
       "    <tr>\n",
       "      <th>0</th>\n",
       "      <td>-1</td>\n",
       "      <td>350</td>\n",
       "      <td>-1_said_mr_would_government</td>\n",
       "    </tr>\n",
       "    <tr>\n",
       "      <th>1</th>\n",
       "      <td>0</td>\n",
       "      <td>261</td>\n",
       "      <td>0_mobile_people_technology_games</td>\n",
       "    </tr>\n",
       "    <tr>\n",
       "      <th>2</th>\n",
       "      <td>1</td>\n",
       "      <td>175</td>\n",
       "      <td>1_chelsea_club_arsenal_liverpool</td>\n",
       "    </tr>\n",
       "    <tr>\n",
       "      <th>3</th>\n",
       "      <td>2</td>\n",
       "      <td>160</td>\n",
       "      <td>2_film_best_actor_films</td>\n",
       "    </tr>\n",
       "    <tr>\n",
       "      <th>4</th>\n",
       "      <td>3</td>\n",
       "      <td>150</td>\n",
       "      <td>3_england_wales_ireland_rugby</td>\n",
       "    </tr>\n",
       "    <tr>\n",
       "      <th>5</th>\n",
       "      <td>4</td>\n",
       "      <td>119</td>\n",
       "      <td>4_music_band_album_song</td>\n",
       "    </tr>\n",
       "    <tr>\n",
       "      <th>6</th>\n",
       "      <td>5</td>\n",
       "      <td>86</td>\n",
       "      <td>5_roddick_open_seed_australian</td>\n",
       "    </tr>\n",
       "    <tr>\n",
       "      <th>7</th>\n",
       "      <td>6</td>\n",
       "      <td>71</td>\n",
       "      <td>6_race_olympic_indoor_champion</td>\n",
       "    </tr>\n",
       "    <tr>\n",
       "      <th>8</th>\n",
       "      <td>7</td>\n",
       "      <td>59</td>\n",
       "      <td>7_show_tv_series_channel</td>\n",
       "    </tr>\n",
       "    <tr>\n",
       "      <th>9</th>\n",
       "      <td>8</td>\n",
       "      <td>57</td>\n",
       "      <td>8_police_said_government_rights</td>\n",
       "    </tr>\n",
       "    <tr>\n",
       "      <th>10</th>\n",
       "      <td>9</td>\n",
       "      <td>51</td>\n",
       "      <td>9_mr_blair_labour_brown</td>\n",
       "    </tr>\n",
       "    <tr>\n",
       "      <th>11</th>\n",
       "      <td>10</td>\n",
       "      <td>46</td>\n",
       "      <td>10_ebbers_fraud_company_mr</td>\n",
       "    </tr>\n",
       "    <tr>\n",
       "      <th>12</th>\n",
       "      <td>11</td>\n",
       "      <td>44</td>\n",
       "      <td>11_spam_mail_virus_site</td>\n",
       "    </tr>\n",
       "    <tr>\n",
       "      <th>13</th>\n",
       "      <td>12</td>\n",
       "      <td>35</td>\n",
       "      <td>12_airline_airlines_air_boeing</td>\n",
       "    </tr>\n",
       "    <tr>\n",
       "      <th>14</th>\n",
       "      <td>13</td>\n",
       "      <td>31</td>\n",
       "      <td>13_dvd_file_dvds_peer</td>\n",
       "    </tr>\n",
       "    <tr>\n",
       "      <th>15</th>\n",
       "      <td>14</td>\n",
       "      <td>31</td>\n",
       "      <td>14_yukos_russian_gazprom_russia</td>\n",
       "    </tr>\n",
       "    <tr>\n",
       "      <th>16</th>\n",
       "      <td>15</td>\n",
       "      <td>30</td>\n",
       "      <td>15_sri_lanka_indonesia_countries</td>\n",
       "    </tr>\n",
       "    <tr>\n",
       "      <th>17</th>\n",
       "      <td>16</td>\n",
       "      <td>30</td>\n",
       "      <td>16_deutsche_boerse_lse_euronext</td>\n",
       "    </tr>\n",
       "    <tr>\n",
       "      <th>18</th>\n",
       "      <td>17</td>\n",
       "      <td>29</td>\n",
       "      <td>17_gm_fiat_car_sales</td>\n",
       "    </tr>\n",
       "    <tr>\n",
       "      <th>19</th>\n",
       "      <td>18</td>\n",
       "      <td>29</td>\n",
       "      <td>18_china_economy_japan_growth</td>\n",
       "    </tr>\n",
       "    <tr>\n",
       "      <th>20</th>\n",
       "      <td>19</td>\n",
       "      <td>28</td>\n",
       "      <td>19_kenteris_iaaf_doping_thanou</td>\n",
       "    </tr>\n",
       "    <tr>\n",
       "      <th>21</th>\n",
       "      <td>20</td>\n",
       "      <td>27</td>\n",
       "      <td>20_music_digital_players_chart</td>\n",
       "    </tr>\n",
       "    <tr>\n",
       "      <th>22</th>\n",
       "      <td>21</td>\n",
       "      <td>24</td>\n",
       "      <td>21_wage_workers_minimum_pension</td>\n",
       "    </tr>\n",
       "    <tr>\n",
       "      <th>23</th>\n",
       "      <td>22</td>\n",
       "      <td>23</td>\n",
       "      <td>22_shares_profit_firm_profits</td>\n",
       "    </tr>\n",
       "    <tr>\n",
       "      <th>24</th>\n",
       "      <td>23</td>\n",
       "      <td>22</td>\n",
       "      <td>23_education_schools_children_pupils</td>\n",
       "    </tr>\n",
       "    <tr>\n",
       "      <th>25</th>\n",
       "      <td>24</td>\n",
       "      <td>20</td>\n",
       "      <td>24_jewish_campbell_labour_mr</td>\n",
       "    </tr>\n",
       "    <tr>\n",
       "      <th>26</th>\n",
       "      <td>25</td>\n",
       "      <td>19</td>\n",
       "      <td>25_jobs_growth_economy_rate</td>\n",
       "    </tr>\n",
       "    <tr>\n",
       "      <th>27</th>\n",
       "      <td>26</td>\n",
       "      <td>18</td>\n",
       "      <td>26_microsoft_spyware_software_windows</td>\n",
       "    </tr>\n",
       "    <tr>\n",
       "      <th>28</th>\n",
       "      <td>27</td>\n",
       "      <td>18</td>\n",
       "      <td>27_countries_hiv_aids_aid</td>\n",
       "    </tr>\n",
       "    <tr>\n",
       "      <th>29</th>\n",
       "      <td>28</td>\n",
       "      <td>17</td>\n",
       "      <td>28_wine_southcorp_beer_sales</td>\n",
       "    </tr>\n",
       "    <tr>\n",
       "      <th>30</th>\n",
       "      <td>29</td>\n",
       "      <td>17</td>\n",
       "      <td>29_howard_tory_mr_party</td>\n",
       "    </tr>\n",
       "    <tr>\n",
       "      <th>31</th>\n",
       "      <td>30</td>\n",
       "      <td>17</td>\n",
       "      <td>30_growth_germany_economy_economic</td>\n",
       "    </tr>\n",
       "    <tr>\n",
       "      <th>32</th>\n",
       "      <td>31</td>\n",
       "      <td>16</td>\n",
       "      <td>31_brown_chancellor_budget_election</td>\n",
       "    </tr>\n",
       "    <tr>\n",
       "      <th>33</th>\n",
       "      <td>32</td>\n",
       "      <td>16</td>\n",
       "      <td>32_asylum_immigration_uk_system</td>\n",
       "    </tr>\n",
       "    <tr>\n",
       "      <th>34</th>\n",
       "      <td>33</td>\n",
       "      <td>16</td>\n",
       "      <td>33_kennedy_lib_party_dems</td>\n",
       "    </tr>\n",
       "    <tr>\n",
       "      <th>35</th>\n",
       "      <td>34</td>\n",
       "      <td>13</td>\n",
       "      <td>34_kilroy_ukip_silk_party</td>\n",
       "    </tr>\n",
       "    <tr>\n",
       "      <th>36</th>\n",
       "      <td>35</td>\n",
       "      <td>12</td>\n",
       "      <td>35_argentina_venezuela_cuba_chavez</td>\n",
       "    </tr>\n",
       "    <tr>\n",
       "      <th>37</th>\n",
       "      <td>36</td>\n",
       "      <td>12</td>\n",
       "      <td>36_dollar_euro_currency_us</td>\n",
       "    </tr>\n",
       "    <tr>\n",
       "      <th>38</th>\n",
       "      <td>37</td>\n",
       "      <td>12</td>\n",
       "      <td>37_council_local_government_councils</td>\n",
       "    </tr>\n",
       "    <tr>\n",
       "      <th>39</th>\n",
       "      <td>38</td>\n",
       "      <td>12</td>\n",
       "      <td>38_oil_cairn_india_ongc</td>\n",
       "    </tr>\n",
       "    <tr>\n",
       "      <th>40</th>\n",
       "      <td>39</td>\n",
       "      <td>11</td>\n",
       "      <td>39_rates_bank_manufacturing_mpc</td>\n",
       "    </tr>\n",
       "    <tr>\n",
       "      <th>41</th>\n",
       "      <td>40</td>\n",
       "      <td>11</td>\n",
       "      <td>40_mortgage_prices_housing_house</td>\n",
       "    </tr>\n",
       "  </tbody>\n",
       "</table>\n",
       "</div>"
      ],
      "text/plain": [
       "    Topic  Count                                   Name\n",
       "0      -1    350            -1_said_mr_would_government\n",
       "1       0    261       0_mobile_people_technology_games\n",
       "2       1    175       1_chelsea_club_arsenal_liverpool\n",
       "3       2    160                2_film_best_actor_films\n",
       "4       3    150          3_england_wales_ireland_rugby\n",
       "5       4    119                4_music_band_album_song\n",
       "6       5     86         5_roddick_open_seed_australian\n",
       "7       6     71         6_race_olympic_indoor_champion\n",
       "8       7     59               7_show_tv_series_channel\n",
       "9       8     57        8_police_said_government_rights\n",
       "10      9     51                9_mr_blair_labour_brown\n",
       "11     10     46             10_ebbers_fraud_company_mr\n",
       "12     11     44                11_spam_mail_virus_site\n",
       "13     12     35         12_airline_airlines_air_boeing\n",
       "14     13     31                  13_dvd_file_dvds_peer\n",
       "15     14     31        14_yukos_russian_gazprom_russia\n",
       "16     15     30       15_sri_lanka_indonesia_countries\n",
       "17     16     30        16_deutsche_boerse_lse_euronext\n",
       "18     17     29                   17_gm_fiat_car_sales\n",
       "19     18     29          18_china_economy_japan_growth\n",
       "20     19     28         19_kenteris_iaaf_doping_thanou\n",
       "21     20     27         20_music_digital_players_chart\n",
       "22     21     24        21_wage_workers_minimum_pension\n",
       "23     22     23          22_shares_profit_firm_profits\n",
       "24     23     22   23_education_schools_children_pupils\n",
       "25     24     20           24_jewish_campbell_labour_mr\n",
       "26     25     19            25_jobs_growth_economy_rate\n",
       "27     26     18  26_microsoft_spyware_software_windows\n",
       "28     27     18              27_countries_hiv_aids_aid\n",
       "29     28     17           28_wine_southcorp_beer_sales\n",
       "30     29     17                29_howard_tory_mr_party\n",
       "31     30     17     30_growth_germany_economy_economic\n",
       "32     31     16    31_brown_chancellor_budget_election\n",
       "33     32     16        32_asylum_immigration_uk_system\n",
       "34     33     16              33_kennedy_lib_party_dems\n",
       "35     34     13              34_kilroy_ukip_silk_party\n",
       "36     35     12     35_argentina_venezuela_cuba_chavez\n",
       "37     36     12             36_dollar_euro_currency_us\n",
       "38     37     12   37_council_local_government_councils\n",
       "39     38     12                38_oil_cairn_india_ongc\n",
       "40     39     11        39_rates_bank_manufacturing_mpc\n",
       "41     40     11       40_mortgage_prices_housing_house"
      ]
     },
     "execution_count": 3,
     "metadata": {},
     "output_type": "execute_result"
    }
   ],
   "source": [
    "model.get_topic_info()"
   ]
  },
  {
   "cell_type": "markdown",
   "metadata": {},
   "source": [
    "-1_said_would_mr_people é outlier e deve ser ignorado"
   ]
  },
  {
   "cell_type": "code",
   "execution_count": 5,
   "metadata": {},
   "outputs": [
    {
     "data": {
      "text/html": [
       "<div>\n",
       "<style scoped>\n",
       "    .dataframe tbody tr th:only-of-type {\n",
       "        vertical-align: middle;\n",
       "    }\n",
       "\n",
       "    .dataframe tbody tr th {\n",
       "        vertical-align: top;\n",
       "    }\n",
       "\n",
       "    .dataframe thead th {\n",
       "        text-align: right;\n",
       "    }\n",
       "</style>\n",
       "<table border=\"1\" class=\"dataframe\">\n",
       "  <thead>\n",
       "    <tr style=\"text-align: right;\">\n",
       "      <th></th>\n",
       "      <th>Topic</th>\n",
       "      <th>Count</th>\n",
       "    </tr>\n",
       "  </thead>\n",
       "  <tbody>\n",
       "    <tr>\n",
       "      <th>0</th>\n",
       "      <td>-1</td>\n",
       "      <td>425</td>\n",
       "    </tr>\n",
       "    <tr>\n",
       "      <th>1</th>\n",
       "      <td>0</td>\n",
       "      <td>337</td>\n",
       "    </tr>\n",
       "    <tr>\n",
       "      <th>2</th>\n",
       "      <td>1</td>\n",
       "      <td>159</td>\n",
       "    </tr>\n",
       "    <tr>\n",
       "      <th>3</th>\n",
       "      <td>2</td>\n",
       "      <td>117</td>\n",
       "    </tr>\n",
       "    <tr>\n",
       "      <th>4</th>\n",
       "      <td>3</td>\n",
       "      <td>71</td>\n",
       "    </tr>\n",
       "  </tbody>\n",
       "</table>\n",
       "</div>"
      ],
      "text/plain": [
       "   Topic  Count\n",
       "0     -1    425\n",
       "1      0    337\n",
       "2      1    159\n",
       "3      2    117\n",
       "4      3     71"
      ]
     },
     "execution_count": 5,
     "metadata": {},
     "output_type": "execute_result"
    }
   ],
   "source": [
    "model.get_topic_freq().head(5)"
   ]
  },
  {
   "cell_type": "code",
   "execution_count": 6,
   "metadata": {},
   "outputs": [
    {
     "data": {
      "text/plain": [
       "[('england', 0.01932160890943407),\n",
       " ('club', 0.016687252421740167),\n",
       " ('game', 0.01597304308682058),\n",
       " ('side', 0.014178340015847179),\n",
       " ('wales', 0.012886270175525695),\n",
       " ('players', 0.012800971694446559),\n",
       " ('ireland', 0.012516599601880491),\n",
       " ('rugby', 0.012322156294364475),\n",
       " ('half', 0.01206383123998931),\n",
       " ('chelsea', 0.011792507199783565)]"
      ]
     },
     "execution_count": 6,
     "metadata": {},
     "output_type": "execute_result"
    }
   ],
   "source": [
    "model.get_topic(0)[:10]"
   ]
  },
  {
   "cell_type": "code",
   "execution_count": 7,
   "metadata": {},
   "outputs": [
    {
     "data": {
      "text/plain": [
       "[11, 29, 26, 37, 33, 9, -1, 9, 9, 9]"
      ]
     },
     "execution_count": 7,
     "metadata": {},
     "output_type": "execute_result"
    }
   ],
   "source": [
    "model.topics_[:10]"
   ]
  },
  {
   "cell_type": "code",
   "execution_count": 9,
   "metadata": {},
   "outputs": [
    {
     "name": "stdout",
     "output_type": "stream",
     "text": [
      "2225 2225\n"
     ]
    }
   ],
   "source": [
    "print(len(topics), len(probs)) # pega o tópico de cada documento"
   ]
  },
  {
   "cell_type": "code",
   "execution_count": 10,
   "metadata": {},
   "outputs": [
    {
     "name": "stdout",
     "output_type": "stream",
     "text": [
      "    Topic  Count                                       Name\n",
      "0      -1    425                    -1_said_would_mr_people\n",
      "1       0    337                   0_england_club_game_side\n",
      "2       1    159                    1_film_best_actor_films\n",
      "3       2    117                    2_music_band_album_song\n",
      "4       3     71             3_race_olympic_indoor_champion\n",
      "5       4     54           4_police_rights_government_human\n",
      "6       5     51            5_ebbers_fraud_company_worldcom\n",
      "7       6     50  6_technology_gadgets_digital_technologies\n",
      "8       7     50                  7_roddick_seed_nadal_open\n",
      "9       8     47                    8_blair_labour_mr_brown\n",
      "10      9     44                     9_spam_mail_virus_site\n",
      "11     10     43          10_mobile_phone_phones_technology\n",
      "12     11     35              11_airline_airlines_air_delta\n",
      "13     12     32               12_rates_growth_economy_bank\n",
      "14     13     32                  13_games_game_xbox_gaming\n",
      "15     14     30            14_yukos_russian_gazprom_russia\n",
      "16     15     29                       15_gm_fiat_car_sales\n",
      "17     16     28             16_kenteris_iaaf_doping_thanou\n",
      "18     17     28                      17_dvd_file_dvds_peer\n",
      "19     18     27             18_music_digital_players_chart\n",
      "20     19     24            19_wage_workers_minimum_pension\n",
      "21     20     24                 20_search_blogs_web_google\n",
      "22     21     23                   21_show_comedy_series_tv\n",
      "23     22     23     22_education_schools_students_children\n",
      "24     23     22  23_argentina_government_venezuela_country\n",
      "25     24     22            24_shares_profits_profit_nasdaq\n",
      "26     25     22          25_mirza_davenport_williams_round\n",
      "27     26     21         26_growth_germany_economy_economic\n",
      "28     27     21                  27_oil_crude_prices_cairn\n",
      "29     28     21            28_boerse_deutsche_lse_euronext\n",
      "30     29     20             29_sri_lanka_indonesia_tsunami\n",
      "31     30     19      30_microsoft_spyware_software_windows\n",
      "32     31     19                   31_jewish_labour_lord_mr\n",
      "33     32     18       32_council_local_councils_government\n",
      "34     33     18             33_wine_southcorp_brands_sales\n",
      "35     34     18                  34_countries_hiv_aids_aid\n",
      "36     35     18                    35_show_fox_audience_tv\n",
      "37     36     17                  36_kennedy_lib_party_dems\n",
      "38     37     17                      37_howard_tory_mr_tax\n",
      "39     38     16            38_asylum_immigration_uk_system\n",
      "40     39     15        39_brown_chancellor_election_budget\n",
      "41     40     13         40_bt_broadband_speeds_connections\n",
      "42     41     13                   41_china_chinese_net_dam\n",
      "43     42     13                   42_tv_programmes_hdtv_hd\n",
      "44     43     12                 43_dollar_euro_currency_us\n",
      "45     44     12                  44_kilroy_ukip_silk_party\n",
      "46     45     12                45_nintendo_ds_handheld_psp\n",
      "47     46     11           46_japan_economy_japanese_growth\n",
      "48     47     11        47_eu_constitution_referendum_straw\n",
      "49     48     11         48_mortgage_prices_housing_lending\n",
      "50     49     10                    49_davis_film_ossie_lee\n"
     ]
    }
   ],
   "source": [
    "my_info = model.get_topic_info()\n",
    "print(my_info)"
   ]
  },
  {
   "cell_type": "code",
   "execution_count": 23,
   "metadata": {},
   "outputs": [
    {
     "name": "stdout",
     "output_type": "stream",
     "text": [
      "0\t->\t 0_england_club_game_side\n",
      "\t->\t[('england', '0.019'), ('club', '0.017'), ('game', '0.016'), ('side', '0.014'), ('wales', '0.013'), ('players', '0.013')]\n",
      "1\t->\t 1_film_best_actor_films\n",
      "\t->\t[('film', '0.054'), ('best', '0.030'), ('actor', '0.021'), ('films', '0.020'), ('director', '0.019'), ('awards', '0.018')]\n",
      "2\t->\t 2_music_band_album_song\n",
      "\t->\t[('music', '0.031'), ('band', '0.030'), ('album', '0.029'), ('song', '0.023'), ('best', '0.019'), ('rock', '0.017')]\n",
      "3\t->\t 3_race_olympic_indoor_champion\n",
      "\t->\t[('race', '0.035'), ('olympic', '0.035'), ('indoor', '0.030'), ('champion', '0.027'), ('championships', '0.026'), ('holmes', '0.024')]\n",
      "4\t->\t 4_police_rights_government_human\n",
      "\t->\t[('police', '0.026'), ('rights', '0.020'), ('government', '0.019'), ('human', '0.019'), ('said', '0.017'), ('law', '0.017')]\n",
      "5\t->\t 5_ebbers_fraud_company_worldcom\n",
      "\t->\t[('ebbers', '0.032'), ('fraud', '0.031'), ('company', '0.026'), ('worldcom', '0.025'), ('mr', '0.025'), ('sec', '0.021')]\n",
      "6\t->\t 6_technology_gadgets_digital_technologies\n",
      "\t->\t[('technology', '0.023'), ('gadgets', '0.021'), ('digital', '0.020'), ('technologies', '0.018'), ('people', '0.017'), ('devices', '0.015')]\n",
      "7\t->\t 7_roddick_seed_nadal_open\n",
      "\t->\t[('roddick', '0.058'), ('seed', '0.037'), ('nadal', '0.036'), ('open', '0.034'), ('set', '0.030'), ('federer', '0.028')]\n",
      "8\t->\t 8_blair_labour_mr_brown\n",
      "\t->\t[('blair', '0.049'), ('labour', '0.047'), ('mr', '0.046'), ('brown', '0.045'), ('election', '0.036'), ('prime', '0.034')]\n",
      "9\t->\t 9_spam_mail_virus_site\n",
      "\t->\t[('spam', '0.046'), ('mail', '0.044'), ('virus', '0.038'), ('site', '0.030'), ('attacks', '0.029'), ('security', '0.028')]\n",
      "10\t->\t 10_mobile_phone_phones_technology\n",
      "\t->\t[('mobile', '0.059'), ('phone', '0.042'), ('phones', '0.034'), ('technology', '0.022'), ('people', '0.022'), ('mobiles', '0.021')]\n",
      "11\t->\t 11_airline_airlines_air_delta\n",
      "\t->\t[('airline', '0.051'), ('airlines', '0.037'), ('air', '0.035'), ('delta', '0.024'), ('boeing', '0.024'), ('airbus', '0.024')]\n",
      "12\t->\t 12_rates_growth_economy_bank\n",
      "\t->\t[('rates', '0.049'), ('growth', '0.041'), ('economy', '0.037'), ('bank', '0.035'), ('rate', '0.034'), ('manufacturing', '0.031')]\n",
      "13\t->\t 13_games_game_xbox_gaming\n",
      "\t->\t[('games', '0.046'), ('game', '0.039'), ('xbox', '0.024'), ('gaming', '0.024'), ('gamers', '0.020'), ('ea', '0.018')]\n",
      "14\t->\t 14_yukos_russian_gazprom_russia\n",
      "\t->\t[('yukos', '0.093'), ('russian', '0.054'), ('gazprom', '0.048'), ('russia', '0.040'), ('rosneft', '0.040'), ('yugansk', '0.036')]\n",
      "15\t->\t 15_gm_fiat_car_sales\n",
      "\t->\t[('gm', '0.070'), ('fiat', '0.065'), ('car', '0.058'), ('sales', '0.043'), ('bmw', '0.037'), ('cars', '0.029')]\n",
      "16\t->\t 16_kenteris_iaaf_doping_thanou\n",
      "\t->\t[('kenteris', '0.065'), ('iaaf', '0.061'), ('doping', '0.059'), ('thanou', '0.058'), ('conte', '0.053'), ('drugs', '0.051')]\n",
      "17\t->\t 17_dvd_file_dvds_peer\n",
      "\t->\t[('dvd', '0.042'), ('file', '0.040'), ('dvds', '0.031'), ('peer', '0.029'), ('bittorrent', '0.027'), ('files', '0.026')]\n",
      "18\t->\t 18_music_digital_players_chart\n",
      "\t->\t[('music', '0.086'), ('digital', '0.031'), ('players', '0.028'), ('chart', '0.025'), ('download', '0.024'), ('industry', '0.023')]\n",
      "19\t->\t 19_wage_workers_minimum_pension\n",
      "\t->\t[('wage', '0.045'), ('workers', '0.041'), ('minimum', '0.040'), ('pension', '0.039'), ('unions', '0.032'), ('pensions', '0.028')]\n",
      "20\t->\t 20_search_blogs_web_google\n",
      "\t->\t[('search', '0.090'), ('blogs', '0.045'), ('web', '0.045'), ('google', '0.042'), ('yahoo', '0.039'), ('jeeves', '0.029')]\n",
      "21\t->\t 21_show_comedy_series_tv\n",
      "\t->\t[('show', '0.051'), ('comedy', '0.033'), ('series', '0.029'), ('tv', '0.028'), ('celebrity', '0.026'), ('channel', '0.022')]\n",
      "22\t->\t 22_education_schools_students_children\n",
      "\t->\t[('education', '0.044'), ('schools', '0.041'), ('students', '0.038'), ('children', '0.028'), ('university', '0.027'), ('pupils', '0.027')]\n",
      "23\t->\t 23_argentina_government_venezuela_country\n",
      "\t->\t[('argentina', '0.029'), ('government', '0.026'), ('venezuela', '0.024'), ('country', '0.024'), ('cuba', '0.020'), ('chavez', '0.019')]\n",
      "24\t->\t 24_shares_profits_profit_nasdaq\n",
      "\t->\t[('shares', '0.042'), ('profits', '0.032'), ('profit', '0.031'), ('nasdaq', '0.027'), ('company', '0.026'), ('quarter', '0.026')]\n",
      "25\t->\t 25_mirza_davenport_williams_round\n",
      "\t->\t[('mirza', '0.056'), ('davenport', '0.054'), ('williams', '0.052'), ('round', '0.038'), ('serena', '0.035'), ('open', '0.035')]\n",
      "26\t->\t 26_growth_germany_economy_economic\n",
      "\t->\t[('growth', '0.041'), ('germany', '0.036'), ('economy', '0.035'), ('economic', '0.035'), ('unemployment', '0.033'), ('eu', '0.032')]\n",
      "27\t->\t 27_oil_crude_prices_cairn\n",
      "\t->\t[('oil', '0.092'), ('crude', '0.056'), ('prices', '0.048'), ('cairn', '0.041'), ('barrel', '0.037'), ('wmc', '0.035')]\n",
      "28\t->\t 28_boerse_deutsche_lse_euronext\n",
      "\t->\t[('boerse', '0.087'), ('deutsche', '0.087'), ('lse', '0.084'), ('euronext', '0.055'), ('exchange', '0.044'), ('bid', '0.042')]\n",
      "29\t->\t 29_sri_lanka_indonesia_tsunami\n",
      "\t->\t[('sri', '0.044'), ('lanka', '0.037'), ('indonesia', '0.034'), ('tsunami', '0.026'), ('disaster', '0.025'), ('economic', '0.025')]\n",
      "30\t->\t 30_microsoft_spyware_software_windows\n",
      "\t->\t[('microsoft', '0.070'), ('spyware', '0.064'), ('software', '0.062'), ('windows', '0.061'), ('security', '0.057'), ('programs', '0.044')]\n",
      "31\t->\t 31_jewish_labour_lord_mr\n",
      "\t->\t[('jewish', '0.043'), ('labour', '0.033'), ('lord', '0.033'), ('mr', '0.033'), ('livingstone', '0.032'), ('campbell', '0.032')]\n",
      "32\t->\t 32_council_local_councils_government\n",
      "\t->\t[('council', '0.048'), ('local', '0.036'), ('councils', '0.032'), ('government', '0.031'), ('care', '0.025'), ('tax', '0.025')]\n",
      "33\t->\t 33_wine_southcorp_brands_sales\n",
      "\t->\t[('wine', '0.052'), ('southcorp', '0.044'), ('brands', '0.034'), ('sales', '0.034'), ('feta', '0.029'), ('inbev', '0.029')]\n",
      "34\t->\t 34_countries_hiv_aids_aid\n",
      "\t->\t[('countries', '0.040'), ('hiv', '0.040'), ('aids', '0.036'), ('aid', '0.035'), ('africa', '0.034'), ('brown', '0.034')]\n",
      "35\t->\t 35_show_fox_audience_tv\n",
      "\t->\t[('show', '0.045'), ('fox', '0.036'), ('audience', '0.034'), ('tv', '0.033'), ('viewers', '0.031'), ('mtv', '0.031')]\n",
      "36\t->\t 36_kennedy_lib_party_dems\n",
      "\t->\t[('kennedy', '0.067'), ('lib', '0.058'), ('party', '0.056'), ('dems', '0.042'), ('tax', '0.039'), ('labour', '0.038')]\n",
      "37\t->\t 37_howard_tory_mr_tax\n",
      "\t->\t[('howard', '0.083'), ('tory', '0.054'), ('mr', '0.041'), ('tax', '0.037'), ('party', '0.037'), ('election', '0.037')]\n",
      "38\t->\t 38_asylum_immigration_uk_system\n",
      "\t->\t[('asylum', '0.074'), ('immigration', '0.060'), ('uk', '0.030'), ('system', '0.026'), ('tb', '0.024'), ('seekers', '0.023')]\n",
      "39\t->\t 39_brown_chancellor_election_budget\n",
      "\t->\t[('brown', '0.061'), ('chancellor', '0.052'), ('election', '0.046'), ('budget', '0.040'), ('tax', '0.037'), ('labour', '0.033')]\n",
      "40\t->\t 40_bt_broadband_speeds_connections\n",
      "\t->\t[('bt', '0.097'), ('broadband', '0.097'), ('speeds', '0.039'), ('connections', '0.039'), ('service', '0.035'), ('lines', '0.030')]\n",
      "41\t->\t 41_china_chinese_net_dam\n",
      "\t->\t[('china', '0.110'), ('chinese', '0.044'), ('net', '0.037'), ('dam', '0.032'), ('cafes', '0.030'), ('gorges', '0.030')]\n",
      "42\t->\t 42_tv_programmes_hdtv_hd\n",
      "\t->\t[('tv', '0.070'), ('programmes', '0.048'), ('hdtv', '0.035'), ('hd', '0.034'), ('digital', '0.033'), ('iptv', '0.031')]\n",
      "43\t->\t 43_dollar_euro_currency_us\n",
      "\t->\t[('dollar', '0.141'), ('euro', '0.079'), ('currency', '0.057'), ('us', '0.051'), ('deficit', '0.035'), ('yen', '0.030')]\n",
      "44\t->\t 44_kilroy_ukip_silk_party\n",
      "\t->\t[('kilroy', '0.124'), ('ukip', '0.117'), ('silk', '0.116'), ('party', '0.071'), ('veritas', '0.043'), ('mr', '0.035')]\n",
      "45\t->\t 45_nintendo_ds_handheld_psp\n",
      "\t->\t[('nintendo', '0.115'), ('ds', '0.105'), ('handheld', '0.078'), ('psp', '0.072'), ('sony', '0.066'), ('gaming', '0.057')]\n",
      "46\t->\t 46_japan_economy_japanese_growth\n",
      "\t->\t[('japan', '0.073'), ('economy', '0.068'), ('japanese', '0.049'), ('growth', '0.046'), ('recession', '0.034'), ('quarter', '0.034')]\n",
      "47\t->\t 47_eu_constitution_referendum_straw\n",
      "\t->\t[('eu', '0.107'), ('constitution', '0.080'), ('referendum', '0.065'), ('straw', '0.056'), ('turkey', '0.052'), ('rebate', '0.043')]\n",
      "48\t->\t 48_mortgage_prices_housing_lending\n",
      "\t->\t[('mortgage', '0.084'), ('prices', '0.080'), ('housing', '0.069'), ('lending', '0.066'), ('house', '0.065'), ('market', '0.063')]\n",
      "49\t->\t 49_davis_film_ossie_lee\n",
      "\t->\t[('davis', '0.056'), ('film', '0.043'), ('ossie', '0.039'), ('lee', '0.031'), ('festival', '0.027'), ('dee', '0.025')]\n"
     ]
    }
   ],
   "source": [
    "# ignora a primeira linha pois é outliers\n",
    "for index, row in my_info[1:].iterrows():\n",
    "    print(f\"{row['Topic']}\\t->\\t {row['Name']}\\n\\t->\\t{[(i[0], '{:.3f}'.format(i[1])) for i in model.get_topic(row['Topic'])[:6]]}\")"
   ]
  },
  {
   "cell_type": "markdown",
   "metadata": {},
   "source": [
    "## b) Exiba visualizações com gráficos de barra e usando visualize topics()."
   ]
  },
  {
   "cell_type": "code",
   "execution_count": 3,
   "metadata": {},
   "outputs": [
    {
     "data": {
      "application/vnd.plotly.v1+json": {
       "config": {
        "plotlyServerURL": "https://plot.ly"
       },
       "data": [
        {
         "customdata": [
          [
           0,
           "club | chelsea | arsenal | liverpool | league",
           179
          ],
          [
           1,
           "film | best | actor | films | director",
           160
          ],
          [
           2,
           "england | wales | ireland | rugby | nations",
           151
          ],
          [
           3,
           "music | band | album | song | best",
           123
          ],
          [
           4,
           "virus | security | spam | mail | users",
           71
          ],
          [
           5,
           "race | olympic | indoor | champion | championships",
           70
          ],
          [
           6,
           "show | tv | series | channel | comedy",
           58
          ],
          [
           7,
           "roddick | seed | open | nadal | set",
           56
          ],
          [
           8,
           "police | government | rights | said | human",
           53
          ],
          [
           9,
           "ebbers | fraud | worldcom | company | mr",
           50
          ],
          [
           10,
           "blair | labour | mr | brown | election",
           50
          ],
          [
           11,
           "mobile | phone | phones | people | mobiles",
           49
          ],
          [
           12,
           "technology | digital | technologies | people | devices",
           37
          ],
          [
           13,
           "airline | airlines | air | boeing | delta",
           35
          ],
          [
           14,
           "yukos | russian | gazprom | russia | rosneft",
           30
          ],
          [
           15,
           "games | game | xbox | gaming | ea",
           30
          ],
          [
           16,
           "boerse | deutsche | lse | euronext | exchange",
           30
          ],
          [
           17,
           "rates | growth | economy | bank | rate",
           29
          ],
          [
           18,
           "gm | fiat | car | sales | bmw",
           28
          ],
          [
           19,
           "kenteris | iaaf | doping | thanou | conte",
           28
          ],
          [
           20,
           "sri | lanka | indonesia | countries | economic",
           27
          ],
          [
           21,
           "education | students | schools | children | university",
           26
          ],
          [
           22,
           "music | digital | players | chart | download",
           26
          ],
          [
           23,
           "broadband | bt | internet | access | service",
           25
          ],
          [
           24,
           "dvd | file | dvds | peer | files",
           25
          ],
          [
           25,
           "search | blogs | web | google | yahoo",
           24
          ],
          [
           26,
           "wage | workers | minimum | pension | unions",
           22
          ],
          [
           27,
           "mirza | davenport | williams | round | open",
           22
          ],
          [
           28,
           "growth | germany | economy | economic | unemployment",
           21
          ],
          [
           29,
           "shares | profit | profits | nasdaq | company",
           20
          ],
          [
           30,
           "howard | tory | mr | party | election",
           18
          ],
          [
           31,
           "kennedy | lib | party | dems | labour",
           17
          ],
          [
           32,
           "hiv | aids | countries | africa | brown",
           16
          ],
          [
           33,
           "wine | southcorp | beer | sales | brands",
           16
          ],
          [
           34,
           "council | local | government | councils | tax",
           14
          ],
          [
           35,
           "asylum | immigration | uk | system | tb",
           14
          ],
          [
           36,
           "dollar | euro | currency | us | deficit",
           13
          ],
          [
           37,
           "china | chinese | net | dam | cafes",
           12
          ],
          [
           38,
           "japan | economy | growth | japanese | recession",
           12
          ],
          [
           39,
           "kilroy | ukip | silk | party | veritas",
           12
          ],
          [
           40,
           "nintendo | ds | handheld | psp | sony",
           12
          ],
          [
           41,
           "brown | chancellor | election | labour | balls",
           12
          ],
          [
           42,
           "tv | programmes | hdtv | hd | iptv",
           12
          ],
          [
           43,
           "argentina | venezuela | cuba | chavez | president",
           11
          ],
          [
           44,
           "mortgage | prices | housing | house | lending",
           11
          ],
          [
           45,
           "jewish | labour | livingstone | campbell | mr",
           11
          ]
         ],
         "hovertemplate": "<b>Topic %{customdata[0]}</b><br>Words: %{customdata[1]}<br>Size: %{customdata[2]}",
         "legendgroup": "",
         "marker": {
          "color": "#B0BEC5",
          "line": {
           "color": "DarkSlateGrey",
           "width": 2
          },
          "size": [
           179,
           160,
           151,
           123,
           71,
           70,
           58,
           56,
           53,
           50,
           50,
           49,
           37,
           35,
           30,
           30,
           30,
           29,
           28,
           28,
           27,
           26,
           26,
           25,
           25,
           24,
           22,
           22,
           21,
           20,
           18,
           17,
           16,
           16,
           14,
           14,
           13,
           12,
           12,
           12,
           12,
           12,
           12,
           11,
           11,
           11
          ],
          "sizemode": "area",
          "sizeref": 0.111875,
          "symbol": "circle"
         },
         "mode": "markers",
         "name": "",
         "orientation": "v",
         "showlegend": false,
         "type": "scatter",
         "x": [
          9.394091606140137,
          4.668665885925293,
          9.394108772277832,
          4.408339023590088,
          2.312049150466919,
          10.243861198425293,
          4.4151105880737305,
          10.114279747009277,
          -6.096628665924072,
          8.684759140014648,
          -5.908987522125244,
          2.1577563285827637,
          1.993417501449585,
          -10.121903419494629,
          8.624475479125977,
          1.852924108505249,
          -10.202013969421387,
          1.7371481657028198,
          -10.385372161865234,
          8.465198516845703,
          1.5164767503738403,
          -6.526999473571777,
          -10.044426918029785,
          -1.040319800376892,
          -10.024608612060547,
          2.435731887817383,
          -6.684349060058594,
          10.009207725524902,
          2.0281789302825928,
          -10.629178047180176,
          -6.255019664764404,
          -6.437625408172607,
          -6.366160869598389,
          -10.51514720916748,
          -6.806747913360596,
          -6.019942283630371,
          1.744282841682434,
          -10.823731422424316,
          1.6513543128967285,
          -6.395763874053955,
          1.6958998441696167,
          -6.20449686050415,
          -0.9834170341491699,
          1.3999598026275635,
          1.9520001411437988,
          -6.049189567565918
         ],
         "xaxis": "x",
         "y": [
          1.1284939050674438,
          5.763450622558594,
          1.1285638809204102,
          5.507323741912842,
          14.974453926086426,
          17.483610153198242,
          5.513575553894043,
          17.354175567626953,
          6.391104698181152,
          -8.977182388305664,
          6.976286888122559,
          15.13027572631836,
          15.397627830505371,
          -3.455509901046753,
          -9.060979843139648,
          15.616437911987305,
          -3.188886880874634,
          -6.814629554748535,
          -3.7506303787231445,
          -8.804108619689941,
          -6.2172346115112305,
          8.627100944519043,
          16.823612213134766,
          9.864890098571777,
          16.80129623413086,
          14.872450828552246,
          8.849135398864746,
          17.249351501464844,
          -6.887631416320801,
          -4.03192663192749,
          6.9630866050720215,
          7.5907816886901855,
          8.5184965133667,
          -3.938784599304199,
          8.99286937713623,
          6.588951587677002,
          -6.809972763061523,
          -4.262856960296631,
          -7.255760192871094,
          7.140775680541992,
          15.815073013305664,
          7.651569843292236,
          9.809932708740234,
          -6.010330677032471,
          -6.622351169586182,
          6.829615592956543
         ],
         "yaxis": "y"
        }
       ],
       "layout": {
        "annotations": [
         {
          "showarrow": false,
          "text": "D1",
          "x": -12.447291135787964,
          "y": 4.843012428283692,
          "yshift": 10
         },
         {
          "showarrow": false,
          "text": "D2",
          "x": -0.3334253787994381,
          "xshift": 10,
          "y": 20.10615167617798
         }
        ],
        "height": 650,
        "hoverlabel": {
         "bgcolor": "white",
         "font": {
          "family": "Rockwell",
          "size": 16
         }
        },
        "legend": {
         "itemsizing": "constant",
         "tracegroupgap": 0
        },
        "margin": {
         "t": 60
        },
        "shapes": [
         {
          "line": {
           "color": "#CFD8DC",
           "width": 2
          },
          "type": "line",
          "x0": -0.3334253787994381,
          "x1": -0.3334253787994381,
          "y0": -10.420126819610596,
          "y1": 20.10615167617798
         },
         {
          "line": {
           "color": "#9E9E9E",
           "width": 2
          },
          "type": "line",
          "x0": -12.447291135787964,
          "x1": 11.780440378189088,
          "y0": 4.843012428283692,
          "y1": 4.843012428283692
         }
        ],
        "sliders": [
         {
          "active": 0,
          "pad": {
           "t": 50
          },
          "steps": [
           {
            "args": [
             {
              "marker.color": [
               [
                "red",
                "#B0BEC5",
                "#B0BEC5",
                "#B0BEC5",
                "#B0BEC5",
                "#B0BEC5",
                "#B0BEC5",
                "#B0BEC5",
                "#B0BEC5",
                "#B0BEC5",
                "#B0BEC5",
                "#B0BEC5",
                "#B0BEC5",
                "#B0BEC5",
                "#B0BEC5",
                "#B0BEC5",
                "#B0BEC5",
                "#B0BEC5",
                "#B0BEC5",
                "#B0BEC5",
                "#B0BEC5",
                "#B0BEC5",
                "#B0BEC5",
                "#B0BEC5",
                "#B0BEC5",
                "#B0BEC5",
                "#B0BEC5",
                "#B0BEC5",
                "#B0BEC5",
                "#B0BEC5",
                "#B0BEC5",
                "#B0BEC5",
                "#B0BEC5",
                "#B0BEC5",
                "#B0BEC5",
                "#B0BEC5",
                "#B0BEC5",
                "#B0BEC5",
                "#B0BEC5",
                "#B0BEC5",
                "#B0BEC5",
                "#B0BEC5",
                "#B0BEC5",
                "#B0BEC5",
                "#B0BEC5",
                "#B0BEC5"
               ]
              ]
             }
            ],
            "label": "Topic 0",
            "method": "update"
           },
           {
            "args": [
             {
              "marker.color": [
               [
                "#B0BEC5",
                "red",
                "#B0BEC5",
                "#B0BEC5",
                "#B0BEC5",
                "#B0BEC5",
                "#B0BEC5",
                "#B0BEC5",
                "#B0BEC5",
                "#B0BEC5",
                "#B0BEC5",
                "#B0BEC5",
                "#B0BEC5",
                "#B0BEC5",
                "#B0BEC5",
                "#B0BEC5",
                "#B0BEC5",
                "#B0BEC5",
                "#B0BEC5",
                "#B0BEC5",
                "#B0BEC5",
                "#B0BEC5",
                "#B0BEC5",
                "#B0BEC5",
                "#B0BEC5",
                "#B0BEC5",
                "#B0BEC5",
                "#B0BEC5",
                "#B0BEC5",
                "#B0BEC5",
                "#B0BEC5",
                "#B0BEC5",
                "#B0BEC5",
                "#B0BEC5",
                "#B0BEC5",
                "#B0BEC5",
                "#B0BEC5",
                "#B0BEC5",
                "#B0BEC5",
                "#B0BEC5",
                "#B0BEC5",
                "#B0BEC5",
                "#B0BEC5",
                "#B0BEC5",
                "#B0BEC5",
                "#B0BEC5"
               ]
              ]
             }
            ],
            "label": "Topic 1",
            "method": "update"
           },
           {
            "args": [
             {
              "marker.color": [
               [
                "#B0BEC5",
                "#B0BEC5",
                "red",
                "#B0BEC5",
                "#B0BEC5",
                "#B0BEC5",
                "#B0BEC5",
                "#B0BEC5",
                "#B0BEC5",
                "#B0BEC5",
                "#B0BEC5",
                "#B0BEC5",
                "#B0BEC5",
                "#B0BEC5",
                "#B0BEC5",
                "#B0BEC5",
                "#B0BEC5",
                "#B0BEC5",
                "#B0BEC5",
                "#B0BEC5",
                "#B0BEC5",
                "#B0BEC5",
                "#B0BEC5",
                "#B0BEC5",
                "#B0BEC5",
                "#B0BEC5",
                "#B0BEC5",
                "#B0BEC5",
                "#B0BEC5",
                "#B0BEC5",
                "#B0BEC5",
                "#B0BEC5",
                "#B0BEC5",
                "#B0BEC5",
                "#B0BEC5",
                "#B0BEC5",
                "#B0BEC5",
                "#B0BEC5",
                "#B0BEC5",
                "#B0BEC5",
                "#B0BEC5",
                "#B0BEC5",
                "#B0BEC5",
                "#B0BEC5",
                "#B0BEC5",
                "#B0BEC5"
               ]
              ]
             }
            ],
            "label": "Topic 2",
            "method": "update"
           },
           {
            "args": [
             {
              "marker.color": [
               [
                "#B0BEC5",
                "#B0BEC5",
                "#B0BEC5",
                "red",
                "#B0BEC5",
                "#B0BEC5",
                "#B0BEC5",
                "#B0BEC5",
                "#B0BEC5",
                "#B0BEC5",
                "#B0BEC5",
                "#B0BEC5",
                "#B0BEC5",
                "#B0BEC5",
                "#B0BEC5",
                "#B0BEC5",
                "#B0BEC5",
                "#B0BEC5",
                "#B0BEC5",
                "#B0BEC5",
                "#B0BEC5",
                "#B0BEC5",
                "#B0BEC5",
                "#B0BEC5",
                "#B0BEC5",
                "#B0BEC5",
                "#B0BEC5",
                "#B0BEC5",
                "#B0BEC5",
                "#B0BEC5",
                "#B0BEC5",
                "#B0BEC5",
                "#B0BEC5",
                "#B0BEC5",
                "#B0BEC5",
                "#B0BEC5",
                "#B0BEC5",
                "#B0BEC5",
                "#B0BEC5",
                "#B0BEC5",
                "#B0BEC5",
                "#B0BEC5",
                "#B0BEC5",
                "#B0BEC5",
                "#B0BEC5",
                "#B0BEC5"
               ]
              ]
             }
            ],
            "label": "Topic 3",
            "method": "update"
           },
           {
            "args": [
             {
              "marker.color": [
               [
                "#B0BEC5",
                "#B0BEC5",
                "#B0BEC5",
                "#B0BEC5",
                "red",
                "#B0BEC5",
                "#B0BEC5",
                "#B0BEC5",
                "#B0BEC5",
                "#B0BEC5",
                "#B0BEC5",
                "#B0BEC5",
                "#B0BEC5",
                "#B0BEC5",
                "#B0BEC5",
                "#B0BEC5",
                "#B0BEC5",
                "#B0BEC5",
                "#B0BEC5",
                "#B0BEC5",
                "#B0BEC5",
                "#B0BEC5",
                "#B0BEC5",
                "#B0BEC5",
                "#B0BEC5",
                "#B0BEC5",
                "#B0BEC5",
                "#B0BEC5",
                "#B0BEC5",
                "#B0BEC5",
                "#B0BEC5",
                "#B0BEC5",
                "#B0BEC5",
                "#B0BEC5",
                "#B0BEC5",
                "#B0BEC5",
                "#B0BEC5",
                "#B0BEC5",
                "#B0BEC5",
                "#B0BEC5",
                "#B0BEC5",
                "#B0BEC5",
                "#B0BEC5",
                "#B0BEC5",
                "#B0BEC5",
                "#B0BEC5"
               ]
              ]
             }
            ],
            "label": "Topic 4",
            "method": "update"
           },
           {
            "args": [
             {
              "marker.color": [
               [
                "#B0BEC5",
                "#B0BEC5",
                "#B0BEC5",
                "#B0BEC5",
                "#B0BEC5",
                "red",
                "#B0BEC5",
                "#B0BEC5",
                "#B0BEC5",
                "#B0BEC5",
                "#B0BEC5",
                "#B0BEC5",
                "#B0BEC5",
                "#B0BEC5",
                "#B0BEC5",
                "#B0BEC5",
                "#B0BEC5",
                "#B0BEC5",
                "#B0BEC5",
                "#B0BEC5",
                "#B0BEC5",
                "#B0BEC5",
                "#B0BEC5",
                "#B0BEC5",
                "#B0BEC5",
                "#B0BEC5",
                "#B0BEC5",
                "#B0BEC5",
                "#B0BEC5",
                "#B0BEC5",
                "#B0BEC5",
                "#B0BEC5",
                "#B0BEC5",
                "#B0BEC5",
                "#B0BEC5",
                "#B0BEC5",
                "#B0BEC5",
                "#B0BEC5",
                "#B0BEC5",
                "#B0BEC5",
                "#B0BEC5",
                "#B0BEC5",
                "#B0BEC5",
                "#B0BEC5",
                "#B0BEC5",
                "#B0BEC5"
               ]
              ]
             }
            ],
            "label": "Topic 5",
            "method": "update"
           },
           {
            "args": [
             {
              "marker.color": [
               [
                "#B0BEC5",
                "#B0BEC5",
                "#B0BEC5",
                "#B0BEC5",
                "#B0BEC5",
                "#B0BEC5",
                "red",
                "#B0BEC5",
                "#B0BEC5",
                "#B0BEC5",
                "#B0BEC5",
                "#B0BEC5",
                "#B0BEC5",
                "#B0BEC5",
                "#B0BEC5",
                "#B0BEC5",
                "#B0BEC5",
                "#B0BEC5",
                "#B0BEC5",
                "#B0BEC5",
                "#B0BEC5",
                "#B0BEC5",
                "#B0BEC5",
                "#B0BEC5",
                "#B0BEC5",
                "#B0BEC5",
                "#B0BEC5",
                "#B0BEC5",
                "#B0BEC5",
                "#B0BEC5",
                "#B0BEC5",
                "#B0BEC5",
                "#B0BEC5",
                "#B0BEC5",
                "#B0BEC5",
                "#B0BEC5",
                "#B0BEC5",
                "#B0BEC5",
                "#B0BEC5",
                "#B0BEC5",
                "#B0BEC5",
                "#B0BEC5",
                "#B0BEC5",
                "#B0BEC5",
                "#B0BEC5",
                "#B0BEC5"
               ]
              ]
             }
            ],
            "label": "Topic 6",
            "method": "update"
           },
           {
            "args": [
             {
              "marker.color": [
               [
                "#B0BEC5",
                "#B0BEC5",
                "#B0BEC5",
                "#B0BEC5",
                "#B0BEC5",
                "#B0BEC5",
                "#B0BEC5",
                "red",
                "#B0BEC5",
                "#B0BEC5",
                "#B0BEC5",
                "#B0BEC5",
                "#B0BEC5",
                "#B0BEC5",
                "#B0BEC5",
                "#B0BEC5",
                "#B0BEC5",
                "#B0BEC5",
                "#B0BEC5",
                "#B0BEC5",
                "#B0BEC5",
                "#B0BEC5",
                "#B0BEC5",
                "#B0BEC5",
                "#B0BEC5",
                "#B0BEC5",
                "#B0BEC5",
                "#B0BEC5",
                "#B0BEC5",
                "#B0BEC5",
                "#B0BEC5",
                "#B0BEC5",
                "#B0BEC5",
                "#B0BEC5",
                "#B0BEC5",
                "#B0BEC5",
                "#B0BEC5",
                "#B0BEC5",
                "#B0BEC5",
                "#B0BEC5",
                "#B0BEC5",
                "#B0BEC5",
                "#B0BEC5",
                "#B0BEC5",
                "#B0BEC5",
                "#B0BEC5"
               ]
              ]
             }
            ],
            "label": "Topic 7",
            "method": "update"
           },
           {
            "args": [
             {
              "marker.color": [
               [
                "#B0BEC5",
                "#B0BEC5",
                "#B0BEC5",
                "#B0BEC5",
                "#B0BEC5",
                "#B0BEC5",
                "#B0BEC5",
                "#B0BEC5",
                "red",
                "#B0BEC5",
                "#B0BEC5",
                "#B0BEC5",
                "#B0BEC5",
                "#B0BEC5",
                "#B0BEC5",
                "#B0BEC5",
                "#B0BEC5",
                "#B0BEC5",
                "#B0BEC5",
                "#B0BEC5",
                "#B0BEC5",
                "#B0BEC5",
                "#B0BEC5",
                "#B0BEC5",
                "#B0BEC5",
                "#B0BEC5",
                "#B0BEC5",
                "#B0BEC5",
                "#B0BEC5",
                "#B0BEC5",
                "#B0BEC5",
                "#B0BEC5",
                "#B0BEC5",
                "#B0BEC5",
                "#B0BEC5",
                "#B0BEC5",
                "#B0BEC5",
                "#B0BEC5",
                "#B0BEC5",
                "#B0BEC5",
                "#B0BEC5",
                "#B0BEC5",
                "#B0BEC5",
                "#B0BEC5",
                "#B0BEC5",
                "#B0BEC5"
               ]
              ]
             }
            ],
            "label": "Topic 8",
            "method": "update"
           },
           {
            "args": [
             {
              "marker.color": [
               [
                "#B0BEC5",
                "#B0BEC5",
                "#B0BEC5",
                "#B0BEC5",
                "#B0BEC5",
                "#B0BEC5",
                "#B0BEC5",
                "#B0BEC5",
                "#B0BEC5",
                "red",
                "#B0BEC5",
                "#B0BEC5",
                "#B0BEC5",
                "#B0BEC5",
                "#B0BEC5",
                "#B0BEC5",
                "#B0BEC5",
                "#B0BEC5",
                "#B0BEC5",
                "#B0BEC5",
                "#B0BEC5",
                "#B0BEC5",
                "#B0BEC5",
                "#B0BEC5",
                "#B0BEC5",
                "#B0BEC5",
                "#B0BEC5",
                "#B0BEC5",
                "#B0BEC5",
                "#B0BEC5",
                "#B0BEC5",
                "#B0BEC5",
                "#B0BEC5",
                "#B0BEC5",
                "#B0BEC5",
                "#B0BEC5",
                "#B0BEC5",
                "#B0BEC5",
                "#B0BEC5",
                "#B0BEC5",
                "#B0BEC5",
                "#B0BEC5",
                "#B0BEC5",
                "#B0BEC5",
                "#B0BEC5",
                "#B0BEC5"
               ]
              ]
             }
            ],
            "label": "Topic 9",
            "method": "update"
           },
           {
            "args": [
             {
              "marker.color": [
               [
                "#B0BEC5",
                "#B0BEC5",
                "#B0BEC5",
                "#B0BEC5",
                "#B0BEC5",
                "#B0BEC5",
                "#B0BEC5",
                "#B0BEC5",
                "#B0BEC5",
                "#B0BEC5",
                "red",
                "#B0BEC5",
                "#B0BEC5",
                "#B0BEC5",
                "#B0BEC5",
                "#B0BEC5",
                "#B0BEC5",
                "#B0BEC5",
                "#B0BEC5",
                "#B0BEC5",
                "#B0BEC5",
                "#B0BEC5",
                "#B0BEC5",
                "#B0BEC5",
                "#B0BEC5",
                "#B0BEC5",
                "#B0BEC5",
                "#B0BEC5",
                "#B0BEC5",
                "#B0BEC5",
                "#B0BEC5",
                "#B0BEC5",
                "#B0BEC5",
                "#B0BEC5",
                "#B0BEC5",
                "#B0BEC5",
                "#B0BEC5",
                "#B0BEC5",
                "#B0BEC5",
                "#B0BEC5",
                "#B0BEC5",
                "#B0BEC5",
                "#B0BEC5",
                "#B0BEC5",
                "#B0BEC5",
                "#B0BEC5"
               ]
              ]
             }
            ],
            "label": "Topic 10",
            "method": "update"
           },
           {
            "args": [
             {
              "marker.color": [
               [
                "#B0BEC5",
                "#B0BEC5",
                "#B0BEC5",
                "#B0BEC5",
                "#B0BEC5",
                "#B0BEC5",
                "#B0BEC5",
                "#B0BEC5",
                "#B0BEC5",
                "#B0BEC5",
                "#B0BEC5",
                "red",
                "#B0BEC5",
                "#B0BEC5",
                "#B0BEC5",
                "#B0BEC5",
                "#B0BEC5",
                "#B0BEC5",
                "#B0BEC5",
                "#B0BEC5",
                "#B0BEC5",
                "#B0BEC5",
                "#B0BEC5",
                "#B0BEC5",
                "#B0BEC5",
                "#B0BEC5",
                "#B0BEC5",
                "#B0BEC5",
                "#B0BEC5",
                "#B0BEC5",
                "#B0BEC5",
                "#B0BEC5",
                "#B0BEC5",
                "#B0BEC5",
                "#B0BEC5",
                "#B0BEC5",
                "#B0BEC5",
                "#B0BEC5",
                "#B0BEC5",
                "#B0BEC5",
                "#B0BEC5",
                "#B0BEC5",
                "#B0BEC5",
                "#B0BEC5",
                "#B0BEC5",
                "#B0BEC5"
               ]
              ]
             }
            ],
            "label": "Topic 11",
            "method": "update"
           },
           {
            "args": [
             {
              "marker.color": [
               [
                "#B0BEC5",
                "#B0BEC5",
                "#B0BEC5",
                "#B0BEC5",
                "#B0BEC5",
                "#B0BEC5",
                "#B0BEC5",
                "#B0BEC5",
                "#B0BEC5",
                "#B0BEC5",
                "#B0BEC5",
                "#B0BEC5",
                "red",
                "#B0BEC5",
                "#B0BEC5",
                "#B0BEC5",
                "#B0BEC5",
                "#B0BEC5",
                "#B0BEC5",
                "#B0BEC5",
                "#B0BEC5",
                "#B0BEC5",
                "#B0BEC5",
                "#B0BEC5",
                "#B0BEC5",
                "#B0BEC5",
                "#B0BEC5",
                "#B0BEC5",
                "#B0BEC5",
                "#B0BEC5",
                "#B0BEC5",
                "#B0BEC5",
                "#B0BEC5",
                "#B0BEC5",
                "#B0BEC5",
                "#B0BEC5",
                "#B0BEC5",
                "#B0BEC5",
                "#B0BEC5",
                "#B0BEC5",
                "#B0BEC5",
                "#B0BEC5",
                "#B0BEC5",
                "#B0BEC5",
                "#B0BEC5",
                "#B0BEC5"
               ]
              ]
             }
            ],
            "label": "Topic 12",
            "method": "update"
           },
           {
            "args": [
             {
              "marker.color": [
               [
                "#B0BEC5",
                "#B0BEC5",
                "#B0BEC5",
                "#B0BEC5",
                "#B0BEC5",
                "#B0BEC5",
                "#B0BEC5",
                "#B0BEC5",
                "#B0BEC5",
                "#B0BEC5",
                "#B0BEC5",
                "#B0BEC5",
                "#B0BEC5",
                "red",
                "#B0BEC5",
                "#B0BEC5",
                "#B0BEC5",
                "#B0BEC5",
                "#B0BEC5",
                "#B0BEC5",
                "#B0BEC5",
                "#B0BEC5",
                "#B0BEC5",
                "#B0BEC5",
                "#B0BEC5",
                "#B0BEC5",
                "#B0BEC5",
                "#B0BEC5",
                "#B0BEC5",
                "#B0BEC5",
                "#B0BEC5",
                "#B0BEC5",
                "#B0BEC5",
                "#B0BEC5",
                "#B0BEC5",
                "#B0BEC5",
                "#B0BEC5",
                "#B0BEC5",
                "#B0BEC5",
                "#B0BEC5",
                "#B0BEC5",
                "#B0BEC5",
                "#B0BEC5",
                "#B0BEC5",
                "#B0BEC5",
                "#B0BEC5"
               ]
              ]
             }
            ],
            "label": "Topic 13",
            "method": "update"
           },
           {
            "args": [
             {
              "marker.color": [
               [
                "#B0BEC5",
                "#B0BEC5",
                "#B0BEC5",
                "#B0BEC5",
                "#B0BEC5",
                "#B0BEC5",
                "#B0BEC5",
                "#B0BEC5",
                "#B0BEC5",
                "#B0BEC5",
                "#B0BEC5",
                "#B0BEC5",
                "#B0BEC5",
                "#B0BEC5",
                "red",
                "#B0BEC5",
                "#B0BEC5",
                "#B0BEC5",
                "#B0BEC5",
                "#B0BEC5",
                "#B0BEC5",
                "#B0BEC5",
                "#B0BEC5",
                "#B0BEC5",
                "#B0BEC5",
                "#B0BEC5",
                "#B0BEC5",
                "#B0BEC5",
                "#B0BEC5",
                "#B0BEC5",
                "#B0BEC5",
                "#B0BEC5",
                "#B0BEC5",
                "#B0BEC5",
                "#B0BEC5",
                "#B0BEC5",
                "#B0BEC5",
                "#B0BEC5",
                "#B0BEC5",
                "#B0BEC5",
                "#B0BEC5",
                "#B0BEC5",
                "#B0BEC5",
                "#B0BEC5",
                "#B0BEC5",
                "#B0BEC5"
               ]
              ]
             }
            ],
            "label": "Topic 14",
            "method": "update"
           },
           {
            "args": [
             {
              "marker.color": [
               [
                "#B0BEC5",
                "#B0BEC5",
                "#B0BEC5",
                "#B0BEC5",
                "#B0BEC5",
                "#B0BEC5",
                "#B0BEC5",
                "#B0BEC5",
                "#B0BEC5",
                "#B0BEC5",
                "#B0BEC5",
                "#B0BEC5",
                "#B0BEC5",
                "#B0BEC5",
                "#B0BEC5",
                "red",
                "#B0BEC5",
                "#B0BEC5",
                "#B0BEC5",
                "#B0BEC5",
                "#B0BEC5",
                "#B0BEC5",
                "#B0BEC5",
                "#B0BEC5",
                "#B0BEC5",
                "#B0BEC5",
                "#B0BEC5",
                "#B0BEC5",
                "#B0BEC5",
                "#B0BEC5",
                "#B0BEC5",
                "#B0BEC5",
                "#B0BEC5",
                "#B0BEC5",
                "#B0BEC5",
                "#B0BEC5",
                "#B0BEC5",
                "#B0BEC5",
                "#B0BEC5",
                "#B0BEC5",
                "#B0BEC5",
                "#B0BEC5",
                "#B0BEC5",
                "#B0BEC5",
                "#B0BEC5",
                "#B0BEC5"
               ]
              ]
             }
            ],
            "label": "Topic 15",
            "method": "update"
           },
           {
            "args": [
             {
              "marker.color": [
               [
                "#B0BEC5",
                "#B0BEC5",
                "#B0BEC5",
                "#B0BEC5",
                "#B0BEC5",
                "#B0BEC5",
                "#B0BEC5",
                "#B0BEC5",
                "#B0BEC5",
                "#B0BEC5",
                "#B0BEC5",
                "#B0BEC5",
                "#B0BEC5",
                "#B0BEC5",
                "#B0BEC5",
                "#B0BEC5",
                "red",
                "#B0BEC5",
                "#B0BEC5",
                "#B0BEC5",
                "#B0BEC5",
                "#B0BEC5",
                "#B0BEC5",
                "#B0BEC5",
                "#B0BEC5",
                "#B0BEC5",
                "#B0BEC5",
                "#B0BEC5",
                "#B0BEC5",
                "#B0BEC5",
                "#B0BEC5",
                "#B0BEC5",
                "#B0BEC5",
                "#B0BEC5",
                "#B0BEC5",
                "#B0BEC5",
                "#B0BEC5",
                "#B0BEC5",
                "#B0BEC5",
                "#B0BEC5",
                "#B0BEC5",
                "#B0BEC5",
                "#B0BEC5",
                "#B0BEC5",
                "#B0BEC5",
                "#B0BEC5"
               ]
              ]
             }
            ],
            "label": "Topic 16",
            "method": "update"
           },
           {
            "args": [
             {
              "marker.color": [
               [
                "#B0BEC5",
                "#B0BEC5",
                "#B0BEC5",
                "#B0BEC5",
                "#B0BEC5",
                "#B0BEC5",
                "#B0BEC5",
                "#B0BEC5",
                "#B0BEC5",
                "#B0BEC5",
                "#B0BEC5",
                "#B0BEC5",
                "#B0BEC5",
                "#B0BEC5",
                "#B0BEC5",
                "#B0BEC5",
                "#B0BEC5",
                "red",
                "#B0BEC5",
                "#B0BEC5",
                "#B0BEC5",
                "#B0BEC5",
                "#B0BEC5",
                "#B0BEC5",
                "#B0BEC5",
                "#B0BEC5",
                "#B0BEC5",
                "#B0BEC5",
                "#B0BEC5",
                "#B0BEC5",
                "#B0BEC5",
                "#B0BEC5",
                "#B0BEC5",
                "#B0BEC5",
                "#B0BEC5",
                "#B0BEC5",
                "#B0BEC5",
                "#B0BEC5",
                "#B0BEC5",
                "#B0BEC5",
                "#B0BEC5",
                "#B0BEC5",
                "#B0BEC5",
                "#B0BEC5",
                "#B0BEC5",
                "#B0BEC5"
               ]
              ]
             }
            ],
            "label": "Topic 17",
            "method": "update"
           },
           {
            "args": [
             {
              "marker.color": [
               [
                "#B0BEC5",
                "#B0BEC5",
                "#B0BEC5",
                "#B0BEC5",
                "#B0BEC5",
                "#B0BEC5",
                "#B0BEC5",
                "#B0BEC5",
                "#B0BEC5",
                "#B0BEC5",
                "#B0BEC5",
                "#B0BEC5",
                "#B0BEC5",
                "#B0BEC5",
                "#B0BEC5",
                "#B0BEC5",
                "#B0BEC5",
                "#B0BEC5",
                "red",
                "#B0BEC5",
                "#B0BEC5",
                "#B0BEC5",
                "#B0BEC5",
                "#B0BEC5",
                "#B0BEC5",
                "#B0BEC5",
                "#B0BEC5",
                "#B0BEC5",
                "#B0BEC5",
                "#B0BEC5",
                "#B0BEC5",
                "#B0BEC5",
                "#B0BEC5",
                "#B0BEC5",
                "#B0BEC5",
                "#B0BEC5",
                "#B0BEC5",
                "#B0BEC5",
                "#B0BEC5",
                "#B0BEC5",
                "#B0BEC5",
                "#B0BEC5",
                "#B0BEC5",
                "#B0BEC5",
                "#B0BEC5",
                "#B0BEC5"
               ]
              ]
             }
            ],
            "label": "Topic 18",
            "method": "update"
           },
           {
            "args": [
             {
              "marker.color": [
               [
                "#B0BEC5",
                "#B0BEC5",
                "#B0BEC5",
                "#B0BEC5",
                "#B0BEC5",
                "#B0BEC5",
                "#B0BEC5",
                "#B0BEC5",
                "#B0BEC5",
                "#B0BEC5",
                "#B0BEC5",
                "#B0BEC5",
                "#B0BEC5",
                "#B0BEC5",
                "#B0BEC5",
                "#B0BEC5",
                "#B0BEC5",
                "#B0BEC5",
                "#B0BEC5",
                "red",
                "#B0BEC5",
                "#B0BEC5",
                "#B0BEC5",
                "#B0BEC5",
                "#B0BEC5",
                "#B0BEC5",
                "#B0BEC5",
                "#B0BEC5",
                "#B0BEC5",
                "#B0BEC5",
                "#B0BEC5",
                "#B0BEC5",
                "#B0BEC5",
                "#B0BEC5",
                "#B0BEC5",
                "#B0BEC5",
                "#B0BEC5",
                "#B0BEC5",
                "#B0BEC5",
                "#B0BEC5",
                "#B0BEC5",
                "#B0BEC5",
                "#B0BEC5",
                "#B0BEC5",
                "#B0BEC5",
                "#B0BEC5"
               ]
              ]
             }
            ],
            "label": "Topic 19",
            "method": "update"
           },
           {
            "args": [
             {
              "marker.color": [
               [
                "#B0BEC5",
                "#B0BEC5",
                "#B0BEC5",
                "#B0BEC5",
                "#B0BEC5",
                "#B0BEC5",
                "#B0BEC5",
                "#B0BEC5",
                "#B0BEC5",
                "#B0BEC5",
                "#B0BEC5",
                "#B0BEC5",
                "#B0BEC5",
                "#B0BEC5",
                "#B0BEC5",
                "#B0BEC5",
                "#B0BEC5",
                "#B0BEC5",
                "#B0BEC5",
                "#B0BEC5",
                "red",
                "#B0BEC5",
                "#B0BEC5",
                "#B0BEC5",
                "#B0BEC5",
                "#B0BEC5",
                "#B0BEC5",
                "#B0BEC5",
                "#B0BEC5",
                "#B0BEC5",
                "#B0BEC5",
                "#B0BEC5",
                "#B0BEC5",
                "#B0BEC5",
                "#B0BEC5",
                "#B0BEC5",
                "#B0BEC5",
                "#B0BEC5",
                "#B0BEC5",
                "#B0BEC5",
                "#B0BEC5",
                "#B0BEC5",
                "#B0BEC5",
                "#B0BEC5",
                "#B0BEC5",
                "#B0BEC5"
               ]
              ]
             }
            ],
            "label": "Topic 20",
            "method": "update"
           },
           {
            "args": [
             {
              "marker.color": [
               [
                "#B0BEC5",
                "#B0BEC5",
                "#B0BEC5",
                "#B0BEC5",
                "#B0BEC5",
                "#B0BEC5",
                "#B0BEC5",
                "#B0BEC5",
                "#B0BEC5",
                "#B0BEC5",
                "#B0BEC5",
                "#B0BEC5",
                "#B0BEC5",
                "#B0BEC5",
                "#B0BEC5",
                "#B0BEC5",
                "#B0BEC5",
                "#B0BEC5",
                "#B0BEC5",
                "#B0BEC5",
                "#B0BEC5",
                "red",
                "#B0BEC5",
                "#B0BEC5",
                "#B0BEC5",
                "#B0BEC5",
                "#B0BEC5",
                "#B0BEC5",
                "#B0BEC5",
                "#B0BEC5",
                "#B0BEC5",
                "#B0BEC5",
                "#B0BEC5",
                "#B0BEC5",
                "#B0BEC5",
                "#B0BEC5",
                "#B0BEC5",
                "#B0BEC5",
                "#B0BEC5",
                "#B0BEC5",
                "#B0BEC5",
                "#B0BEC5",
                "#B0BEC5",
                "#B0BEC5",
                "#B0BEC5",
                "#B0BEC5"
               ]
              ]
             }
            ],
            "label": "Topic 21",
            "method": "update"
           },
           {
            "args": [
             {
              "marker.color": [
               [
                "#B0BEC5",
                "#B0BEC5",
                "#B0BEC5",
                "#B0BEC5",
                "#B0BEC5",
                "#B0BEC5",
                "#B0BEC5",
                "#B0BEC5",
                "#B0BEC5",
                "#B0BEC5",
                "#B0BEC5",
                "#B0BEC5",
                "#B0BEC5",
                "#B0BEC5",
                "#B0BEC5",
                "#B0BEC5",
                "#B0BEC5",
                "#B0BEC5",
                "#B0BEC5",
                "#B0BEC5",
                "#B0BEC5",
                "#B0BEC5",
                "red",
                "#B0BEC5",
                "#B0BEC5",
                "#B0BEC5",
                "#B0BEC5",
                "#B0BEC5",
                "#B0BEC5",
                "#B0BEC5",
                "#B0BEC5",
                "#B0BEC5",
                "#B0BEC5",
                "#B0BEC5",
                "#B0BEC5",
                "#B0BEC5",
                "#B0BEC5",
                "#B0BEC5",
                "#B0BEC5",
                "#B0BEC5",
                "#B0BEC5",
                "#B0BEC5",
                "#B0BEC5",
                "#B0BEC5",
                "#B0BEC5",
                "#B0BEC5"
               ]
              ]
             }
            ],
            "label": "Topic 22",
            "method": "update"
           },
           {
            "args": [
             {
              "marker.color": [
               [
                "#B0BEC5",
                "#B0BEC5",
                "#B0BEC5",
                "#B0BEC5",
                "#B0BEC5",
                "#B0BEC5",
                "#B0BEC5",
                "#B0BEC5",
                "#B0BEC5",
                "#B0BEC5",
                "#B0BEC5",
                "#B0BEC5",
                "#B0BEC5",
                "#B0BEC5",
                "#B0BEC5",
                "#B0BEC5",
                "#B0BEC5",
                "#B0BEC5",
                "#B0BEC5",
                "#B0BEC5",
                "#B0BEC5",
                "#B0BEC5",
                "#B0BEC5",
                "red",
                "#B0BEC5",
                "#B0BEC5",
                "#B0BEC5",
                "#B0BEC5",
                "#B0BEC5",
                "#B0BEC5",
                "#B0BEC5",
                "#B0BEC5",
                "#B0BEC5",
                "#B0BEC5",
                "#B0BEC5",
                "#B0BEC5",
                "#B0BEC5",
                "#B0BEC5",
                "#B0BEC5",
                "#B0BEC5",
                "#B0BEC5",
                "#B0BEC5",
                "#B0BEC5",
                "#B0BEC5",
                "#B0BEC5",
                "#B0BEC5"
               ]
              ]
             }
            ],
            "label": "Topic 23",
            "method": "update"
           },
           {
            "args": [
             {
              "marker.color": [
               [
                "#B0BEC5",
                "#B0BEC5",
                "#B0BEC5",
                "#B0BEC5",
                "#B0BEC5",
                "#B0BEC5",
                "#B0BEC5",
                "#B0BEC5",
                "#B0BEC5",
                "#B0BEC5",
                "#B0BEC5",
                "#B0BEC5",
                "#B0BEC5",
                "#B0BEC5",
                "#B0BEC5",
                "#B0BEC5",
                "#B0BEC5",
                "#B0BEC5",
                "#B0BEC5",
                "#B0BEC5",
                "#B0BEC5",
                "#B0BEC5",
                "#B0BEC5",
                "#B0BEC5",
                "red",
                "#B0BEC5",
                "#B0BEC5",
                "#B0BEC5",
                "#B0BEC5",
                "#B0BEC5",
                "#B0BEC5",
                "#B0BEC5",
                "#B0BEC5",
                "#B0BEC5",
                "#B0BEC5",
                "#B0BEC5",
                "#B0BEC5",
                "#B0BEC5",
                "#B0BEC5",
                "#B0BEC5",
                "#B0BEC5",
                "#B0BEC5",
                "#B0BEC5",
                "#B0BEC5",
                "#B0BEC5",
                "#B0BEC5"
               ]
              ]
             }
            ],
            "label": "Topic 24",
            "method": "update"
           },
           {
            "args": [
             {
              "marker.color": [
               [
                "#B0BEC5",
                "#B0BEC5",
                "#B0BEC5",
                "#B0BEC5",
                "#B0BEC5",
                "#B0BEC5",
                "#B0BEC5",
                "#B0BEC5",
                "#B0BEC5",
                "#B0BEC5",
                "#B0BEC5",
                "#B0BEC5",
                "#B0BEC5",
                "#B0BEC5",
                "#B0BEC5",
                "#B0BEC5",
                "#B0BEC5",
                "#B0BEC5",
                "#B0BEC5",
                "#B0BEC5",
                "#B0BEC5",
                "#B0BEC5",
                "#B0BEC5",
                "#B0BEC5",
                "#B0BEC5",
                "red",
                "#B0BEC5",
                "#B0BEC5",
                "#B0BEC5",
                "#B0BEC5",
                "#B0BEC5",
                "#B0BEC5",
                "#B0BEC5",
                "#B0BEC5",
                "#B0BEC5",
                "#B0BEC5",
                "#B0BEC5",
                "#B0BEC5",
                "#B0BEC5",
                "#B0BEC5",
                "#B0BEC5",
                "#B0BEC5",
                "#B0BEC5",
                "#B0BEC5",
                "#B0BEC5",
                "#B0BEC5"
               ]
              ]
             }
            ],
            "label": "Topic 25",
            "method": "update"
           },
           {
            "args": [
             {
              "marker.color": [
               [
                "#B0BEC5",
                "#B0BEC5",
                "#B0BEC5",
                "#B0BEC5",
                "#B0BEC5",
                "#B0BEC5",
                "#B0BEC5",
                "#B0BEC5",
                "#B0BEC5",
                "#B0BEC5",
                "#B0BEC5",
                "#B0BEC5",
                "#B0BEC5",
                "#B0BEC5",
                "#B0BEC5",
                "#B0BEC5",
                "#B0BEC5",
                "#B0BEC5",
                "#B0BEC5",
                "#B0BEC5",
                "#B0BEC5",
                "#B0BEC5",
                "#B0BEC5",
                "#B0BEC5",
                "#B0BEC5",
                "#B0BEC5",
                "red",
                "#B0BEC5",
                "#B0BEC5",
                "#B0BEC5",
                "#B0BEC5",
                "#B0BEC5",
                "#B0BEC5",
                "#B0BEC5",
                "#B0BEC5",
                "#B0BEC5",
                "#B0BEC5",
                "#B0BEC5",
                "#B0BEC5",
                "#B0BEC5",
                "#B0BEC5",
                "#B0BEC5",
                "#B0BEC5",
                "#B0BEC5",
                "#B0BEC5",
                "#B0BEC5"
               ]
              ]
             }
            ],
            "label": "Topic 26",
            "method": "update"
           },
           {
            "args": [
             {
              "marker.color": [
               [
                "#B0BEC5",
                "#B0BEC5",
                "#B0BEC5",
                "#B0BEC5",
                "#B0BEC5",
                "#B0BEC5",
                "#B0BEC5",
                "#B0BEC5",
                "#B0BEC5",
                "#B0BEC5",
                "#B0BEC5",
                "#B0BEC5",
                "#B0BEC5",
                "#B0BEC5",
                "#B0BEC5",
                "#B0BEC5",
                "#B0BEC5",
                "#B0BEC5",
                "#B0BEC5",
                "#B0BEC5",
                "#B0BEC5",
                "#B0BEC5",
                "#B0BEC5",
                "#B0BEC5",
                "#B0BEC5",
                "#B0BEC5",
                "#B0BEC5",
                "red",
                "#B0BEC5",
                "#B0BEC5",
                "#B0BEC5",
                "#B0BEC5",
                "#B0BEC5",
                "#B0BEC5",
                "#B0BEC5",
                "#B0BEC5",
                "#B0BEC5",
                "#B0BEC5",
                "#B0BEC5",
                "#B0BEC5",
                "#B0BEC5",
                "#B0BEC5",
                "#B0BEC5",
                "#B0BEC5",
                "#B0BEC5",
                "#B0BEC5"
               ]
              ]
             }
            ],
            "label": "Topic 27",
            "method": "update"
           },
           {
            "args": [
             {
              "marker.color": [
               [
                "#B0BEC5",
                "#B0BEC5",
                "#B0BEC5",
                "#B0BEC5",
                "#B0BEC5",
                "#B0BEC5",
                "#B0BEC5",
                "#B0BEC5",
                "#B0BEC5",
                "#B0BEC5",
                "#B0BEC5",
                "#B0BEC5",
                "#B0BEC5",
                "#B0BEC5",
                "#B0BEC5",
                "#B0BEC5",
                "#B0BEC5",
                "#B0BEC5",
                "#B0BEC5",
                "#B0BEC5",
                "#B0BEC5",
                "#B0BEC5",
                "#B0BEC5",
                "#B0BEC5",
                "#B0BEC5",
                "#B0BEC5",
                "#B0BEC5",
                "#B0BEC5",
                "red",
                "#B0BEC5",
                "#B0BEC5",
                "#B0BEC5",
                "#B0BEC5",
                "#B0BEC5",
                "#B0BEC5",
                "#B0BEC5",
                "#B0BEC5",
                "#B0BEC5",
                "#B0BEC5",
                "#B0BEC5",
                "#B0BEC5",
                "#B0BEC5",
                "#B0BEC5",
                "#B0BEC5",
                "#B0BEC5",
                "#B0BEC5"
               ]
              ]
             }
            ],
            "label": "Topic 28",
            "method": "update"
           },
           {
            "args": [
             {
              "marker.color": [
               [
                "#B0BEC5",
                "#B0BEC5",
                "#B0BEC5",
                "#B0BEC5",
                "#B0BEC5",
                "#B0BEC5",
                "#B0BEC5",
                "#B0BEC5",
                "#B0BEC5",
                "#B0BEC5",
                "#B0BEC5",
                "#B0BEC5",
                "#B0BEC5",
                "#B0BEC5",
                "#B0BEC5",
                "#B0BEC5",
                "#B0BEC5",
                "#B0BEC5",
                "#B0BEC5",
                "#B0BEC5",
                "#B0BEC5",
                "#B0BEC5",
                "#B0BEC5",
                "#B0BEC5",
                "#B0BEC5",
                "#B0BEC5",
                "#B0BEC5",
                "#B0BEC5",
                "#B0BEC5",
                "red",
                "#B0BEC5",
                "#B0BEC5",
                "#B0BEC5",
                "#B0BEC5",
                "#B0BEC5",
                "#B0BEC5",
                "#B0BEC5",
                "#B0BEC5",
                "#B0BEC5",
                "#B0BEC5",
                "#B0BEC5",
                "#B0BEC5",
                "#B0BEC5",
                "#B0BEC5",
                "#B0BEC5",
                "#B0BEC5"
               ]
              ]
             }
            ],
            "label": "Topic 29",
            "method": "update"
           },
           {
            "args": [
             {
              "marker.color": [
               [
                "#B0BEC5",
                "#B0BEC5",
                "#B0BEC5",
                "#B0BEC5",
                "#B0BEC5",
                "#B0BEC5",
                "#B0BEC5",
                "#B0BEC5",
                "#B0BEC5",
                "#B0BEC5",
                "#B0BEC5",
                "#B0BEC5",
                "#B0BEC5",
                "#B0BEC5",
                "#B0BEC5",
                "#B0BEC5",
                "#B0BEC5",
                "#B0BEC5",
                "#B0BEC5",
                "#B0BEC5",
                "#B0BEC5",
                "#B0BEC5",
                "#B0BEC5",
                "#B0BEC5",
                "#B0BEC5",
                "#B0BEC5",
                "#B0BEC5",
                "#B0BEC5",
                "#B0BEC5",
                "#B0BEC5",
                "red",
                "#B0BEC5",
                "#B0BEC5",
                "#B0BEC5",
                "#B0BEC5",
                "#B0BEC5",
                "#B0BEC5",
                "#B0BEC5",
                "#B0BEC5",
                "#B0BEC5",
                "#B0BEC5",
                "#B0BEC5",
                "#B0BEC5",
                "#B0BEC5",
                "#B0BEC5",
                "#B0BEC5"
               ]
              ]
             }
            ],
            "label": "Topic 30",
            "method": "update"
           },
           {
            "args": [
             {
              "marker.color": [
               [
                "#B0BEC5",
                "#B0BEC5",
                "#B0BEC5",
                "#B0BEC5",
                "#B0BEC5",
                "#B0BEC5",
                "#B0BEC5",
                "#B0BEC5",
                "#B0BEC5",
                "#B0BEC5",
                "#B0BEC5",
                "#B0BEC5",
                "#B0BEC5",
                "#B0BEC5",
                "#B0BEC5",
                "#B0BEC5",
                "#B0BEC5",
                "#B0BEC5",
                "#B0BEC5",
                "#B0BEC5",
                "#B0BEC5",
                "#B0BEC5",
                "#B0BEC5",
                "#B0BEC5",
                "#B0BEC5",
                "#B0BEC5",
                "#B0BEC5",
                "#B0BEC5",
                "#B0BEC5",
                "#B0BEC5",
                "#B0BEC5",
                "red",
                "#B0BEC5",
                "#B0BEC5",
                "#B0BEC5",
                "#B0BEC5",
                "#B0BEC5",
                "#B0BEC5",
                "#B0BEC5",
                "#B0BEC5",
                "#B0BEC5",
                "#B0BEC5",
                "#B0BEC5",
                "#B0BEC5",
                "#B0BEC5",
                "#B0BEC5"
               ]
              ]
             }
            ],
            "label": "Topic 31",
            "method": "update"
           },
           {
            "args": [
             {
              "marker.color": [
               [
                "#B0BEC5",
                "#B0BEC5",
                "#B0BEC5",
                "#B0BEC5",
                "#B0BEC5",
                "#B0BEC5",
                "#B0BEC5",
                "#B0BEC5",
                "#B0BEC5",
                "#B0BEC5",
                "#B0BEC5",
                "#B0BEC5",
                "#B0BEC5",
                "#B0BEC5",
                "#B0BEC5",
                "#B0BEC5",
                "#B0BEC5",
                "#B0BEC5",
                "#B0BEC5",
                "#B0BEC5",
                "#B0BEC5",
                "#B0BEC5",
                "#B0BEC5",
                "#B0BEC5",
                "#B0BEC5",
                "#B0BEC5",
                "#B0BEC5",
                "#B0BEC5",
                "#B0BEC5",
                "#B0BEC5",
                "#B0BEC5",
                "#B0BEC5",
                "red",
                "#B0BEC5",
                "#B0BEC5",
                "#B0BEC5",
                "#B0BEC5",
                "#B0BEC5",
                "#B0BEC5",
                "#B0BEC5",
                "#B0BEC5",
                "#B0BEC5",
                "#B0BEC5",
                "#B0BEC5",
                "#B0BEC5",
                "#B0BEC5"
               ]
              ]
             }
            ],
            "label": "Topic 32",
            "method": "update"
           },
           {
            "args": [
             {
              "marker.color": [
               [
                "#B0BEC5",
                "#B0BEC5",
                "#B0BEC5",
                "#B0BEC5",
                "#B0BEC5",
                "#B0BEC5",
                "#B0BEC5",
                "#B0BEC5",
                "#B0BEC5",
                "#B0BEC5",
                "#B0BEC5",
                "#B0BEC5",
                "#B0BEC5",
                "#B0BEC5",
                "#B0BEC5",
                "#B0BEC5",
                "#B0BEC5",
                "#B0BEC5",
                "#B0BEC5",
                "#B0BEC5",
                "#B0BEC5",
                "#B0BEC5",
                "#B0BEC5",
                "#B0BEC5",
                "#B0BEC5",
                "#B0BEC5",
                "#B0BEC5",
                "#B0BEC5",
                "#B0BEC5",
                "#B0BEC5",
                "#B0BEC5",
                "#B0BEC5",
                "#B0BEC5",
                "red",
                "#B0BEC5",
                "#B0BEC5",
                "#B0BEC5",
                "#B0BEC5",
                "#B0BEC5",
                "#B0BEC5",
                "#B0BEC5",
                "#B0BEC5",
                "#B0BEC5",
                "#B0BEC5",
                "#B0BEC5",
                "#B0BEC5"
               ]
              ]
             }
            ],
            "label": "Topic 33",
            "method": "update"
           },
           {
            "args": [
             {
              "marker.color": [
               [
                "#B0BEC5",
                "#B0BEC5",
                "#B0BEC5",
                "#B0BEC5",
                "#B0BEC5",
                "#B0BEC5",
                "#B0BEC5",
                "#B0BEC5",
                "#B0BEC5",
                "#B0BEC5",
                "#B0BEC5",
                "#B0BEC5",
                "#B0BEC5",
                "#B0BEC5",
                "#B0BEC5",
                "#B0BEC5",
                "#B0BEC5",
                "#B0BEC5",
                "#B0BEC5",
                "#B0BEC5",
                "#B0BEC5",
                "#B0BEC5",
                "#B0BEC5",
                "#B0BEC5",
                "#B0BEC5",
                "#B0BEC5",
                "#B0BEC5",
                "#B0BEC5",
                "#B0BEC5",
                "#B0BEC5",
                "#B0BEC5",
                "#B0BEC5",
                "#B0BEC5",
                "#B0BEC5",
                "red",
                "#B0BEC5",
                "#B0BEC5",
                "#B0BEC5",
                "#B0BEC5",
                "#B0BEC5",
                "#B0BEC5",
                "#B0BEC5",
                "#B0BEC5",
                "#B0BEC5",
                "#B0BEC5",
                "#B0BEC5"
               ]
              ]
             }
            ],
            "label": "Topic 34",
            "method": "update"
           },
           {
            "args": [
             {
              "marker.color": [
               [
                "#B0BEC5",
                "#B0BEC5",
                "#B0BEC5",
                "#B0BEC5",
                "#B0BEC5",
                "#B0BEC5",
                "#B0BEC5",
                "#B0BEC5",
                "#B0BEC5",
                "#B0BEC5",
                "#B0BEC5",
                "#B0BEC5",
                "#B0BEC5",
                "#B0BEC5",
                "#B0BEC5",
                "#B0BEC5",
                "#B0BEC5",
                "#B0BEC5",
                "#B0BEC5",
                "#B0BEC5",
                "#B0BEC5",
                "#B0BEC5",
                "#B0BEC5",
                "#B0BEC5",
                "#B0BEC5",
                "#B0BEC5",
                "#B0BEC5",
                "#B0BEC5",
                "#B0BEC5",
                "#B0BEC5",
                "#B0BEC5",
                "#B0BEC5",
                "#B0BEC5",
                "#B0BEC5",
                "#B0BEC5",
                "red",
                "#B0BEC5",
                "#B0BEC5",
                "#B0BEC5",
                "#B0BEC5",
                "#B0BEC5",
                "#B0BEC5",
                "#B0BEC5",
                "#B0BEC5",
                "#B0BEC5",
                "#B0BEC5"
               ]
              ]
             }
            ],
            "label": "Topic 35",
            "method": "update"
           },
           {
            "args": [
             {
              "marker.color": [
               [
                "#B0BEC5",
                "#B0BEC5",
                "#B0BEC5",
                "#B0BEC5",
                "#B0BEC5",
                "#B0BEC5",
                "#B0BEC5",
                "#B0BEC5",
                "#B0BEC5",
                "#B0BEC5",
                "#B0BEC5",
                "#B0BEC5",
                "#B0BEC5",
                "#B0BEC5",
                "#B0BEC5",
                "#B0BEC5",
                "#B0BEC5",
                "#B0BEC5",
                "#B0BEC5",
                "#B0BEC5",
                "#B0BEC5",
                "#B0BEC5",
                "#B0BEC5",
                "#B0BEC5",
                "#B0BEC5",
                "#B0BEC5",
                "#B0BEC5",
                "#B0BEC5",
                "#B0BEC5",
                "#B0BEC5",
                "#B0BEC5",
                "#B0BEC5",
                "#B0BEC5",
                "#B0BEC5",
                "#B0BEC5",
                "#B0BEC5",
                "red",
                "#B0BEC5",
                "#B0BEC5",
                "#B0BEC5",
                "#B0BEC5",
                "#B0BEC5",
                "#B0BEC5",
                "#B0BEC5",
                "#B0BEC5",
                "#B0BEC5"
               ]
              ]
             }
            ],
            "label": "Topic 36",
            "method": "update"
           },
           {
            "args": [
             {
              "marker.color": [
               [
                "#B0BEC5",
                "#B0BEC5",
                "#B0BEC5",
                "#B0BEC5",
                "#B0BEC5",
                "#B0BEC5",
                "#B0BEC5",
                "#B0BEC5",
                "#B0BEC5",
                "#B0BEC5",
                "#B0BEC5",
                "#B0BEC5",
                "#B0BEC5",
                "#B0BEC5",
                "#B0BEC5",
                "#B0BEC5",
                "#B0BEC5",
                "#B0BEC5",
                "#B0BEC5",
                "#B0BEC5",
                "#B0BEC5",
                "#B0BEC5",
                "#B0BEC5",
                "#B0BEC5",
                "#B0BEC5",
                "#B0BEC5",
                "#B0BEC5",
                "#B0BEC5",
                "#B0BEC5",
                "#B0BEC5",
                "#B0BEC5",
                "#B0BEC5",
                "#B0BEC5",
                "#B0BEC5",
                "#B0BEC5",
                "#B0BEC5",
                "#B0BEC5",
                "red",
                "#B0BEC5",
                "#B0BEC5",
                "#B0BEC5",
                "#B0BEC5",
                "#B0BEC5",
                "#B0BEC5",
                "#B0BEC5",
                "#B0BEC5"
               ]
              ]
             }
            ],
            "label": "Topic 37",
            "method": "update"
           },
           {
            "args": [
             {
              "marker.color": [
               [
                "#B0BEC5",
                "#B0BEC5",
                "#B0BEC5",
                "#B0BEC5",
                "#B0BEC5",
                "#B0BEC5",
                "#B0BEC5",
                "#B0BEC5",
                "#B0BEC5",
                "#B0BEC5",
                "#B0BEC5",
                "#B0BEC5",
                "#B0BEC5",
                "#B0BEC5",
                "#B0BEC5",
                "#B0BEC5",
                "#B0BEC5",
                "#B0BEC5",
                "#B0BEC5",
                "#B0BEC5",
                "#B0BEC5",
                "#B0BEC5",
                "#B0BEC5",
                "#B0BEC5",
                "#B0BEC5",
                "#B0BEC5",
                "#B0BEC5",
                "#B0BEC5",
                "#B0BEC5",
                "#B0BEC5",
                "#B0BEC5",
                "#B0BEC5",
                "#B0BEC5",
                "#B0BEC5",
                "#B0BEC5",
                "#B0BEC5",
                "#B0BEC5",
                "#B0BEC5",
                "red",
                "#B0BEC5",
                "#B0BEC5",
                "#B0BEC5",
                "#B0BEC5",
                "#B0BEC5",
                "#B0BEC5",
                "#B0BEC5"
               ]
              ]
             }
            ],
            "label": "Topic 38",
            "method": "update"
           },
           {
            "args": [
             {
              "marker.color": [
               [
                "#B0BEC5",
                "#B0BEC5",
                "#B0BEC5",
                "#B0BEC5",
                "#B0BEC5",
                "#B0BEC5",
                "#B0BEC5",
                "#B0BEC5",
                "#B0BEC5",
                "#B0BEC5",
                "#B0BEC5",
                "#B0BEC5",
                "#B0BEC5",
                "#B0BEC5",
                "#B0BEC5",
                "#B0BEC5",
                "#B0BEC5",
                "#B0BEC5",
                "#B0BEC5",
                "#B0BEC5",
                "#B0BEC5",
                "#B0BEC5",
                "#B0BEC5",
                "#B0BEC5",
                "#B0BEC5",
                "#B0BEC5",
                "#B0BEC5",
                "#B0BEC5",
                "#B0BEC5",
                "#B0BEC5",
                "#B0BEC5",
                "#B0BEC5",
                "#B0BEC5",
                "#B0BEC5",
                "#B0BEC5",
                "#B0BEC5",
                "#B0BEC5",
                "#B0BEC5",
                "#B0BEC5",
                "red",
                "#B0BEC5",
                "#B0BEC5",
                "#B0BEC5",
                "#B0BEC5",
                "#B0BEC5",
                "#B0BEC5"
               ]
              ]
             }
            ],
            "label": "Topic 39",
            "method": "update"
           },
           {
            "args": [
             {
              "marker.color": [
               [
                "#B0BEC5",
                "#B0BEC5",
                "#B0BEC5",
                "#B0BEC5",
                "#B0BEC5",
                "#B0BEC5",
                "#B0BEC5",
                "#B0BEC5",
                "#B0BEC5",
                "#B0BEC5",
                "#B0BEC5",
                "#B0BEC5",
                "#B0BEC5",
                "#B0BEC5",
                "#B0BEC5",
                "#B0BEC5",
                "#B0BEC5",
                "#B0BEC5",
                "#B0BEC5",
                "#B0BEC5",
                "#B0BEC5",
                "#B0BEC5",
                "#B0BEC5",
                "#B0BEC5",
                "#B0BEC5",
                "#B0BEC5",
                "#B0BEC5",
                "#B0BEC5",
                "#B0BEC5",
                "#B0BEC5",
                "#B0BEC5",
                "#B0BEC5",
                "#B0BEC5",
                "#B0BEC5",
                "#B0BEC5",
                "#B0BEC5",
                "#B0BEC5",
                "#B0BEC5",
                "#B0BEC5",
                "#B0BEC5",
                "red",
                "#B0BEC5",
                "#B0BEC5",
                "#B0BEC5",
                "#B0BEC5",
                "#B0BEC5"
               ]
              ]
             }
            ],
            "label": "Topic 40",
            "method": "update"
           },
           {
            "args": [
             {
              "marker.color": [
               [
                "#B0BEC5",
                "#B0BEC5",
                "#B0BEC5",
                "#B0BEC5",
                "#B0BEC5",
                "#B0BEC5",
                "#B0BEC5",
                "#B0BEC5",
                "#B0BEC5",
                "#B0BEC5",
                "#B0BEC5",
                "#B0BEC5",
                "#B0BEC5",
                "#B0BEC5",
                "#B0BEC5",
                "#B0BEC5",
                "#B0BEC5",
                "#B0BEC5",
                "#B0BEC5",
                "#B0BEC5",
                "#B0BEC5",
                "#B0BEC5",
                "#B0BEC5",
                "#B0BEC5",
                "#B0BEC5",
                "#B0BEC5",
                "#B0BEC5",
                "#B0BEC5",
                "#B0BEC5",
                "#B0BEC5",
                "#B0BEC5",
                "#B0BEC5",
                "#B0BEC5",
                "#B0BEC5",
                "#B0BEC5",
                "#B0BEC5",
                "#B0BEC5",
                "#B0BEC5",
                "#B0BEC5",
                "#B0BEC5",
                "#B0BEC5",
                "red",
                "#B0BEC5",
                "#B0BEC5",
                "#B0BEC5",
                "#B0BEC5"
               ]
              ]
             }
            ],
            "label": "Topic 41",
            "method": "update"
           },
           {
            "args": [
             {
              "marker.color": [
               [
                "#B0BEC5",
                "#B0BEC5",
                "#B0BEC5",
                "#B0BEC5",
                "#B0BEC5",
                "#B0BEC5",
                "#B0BEC5",
                "#B0BEC5",
                "#B0BEC5",
                "#B0BEC5",
                "#B0BEC5",
                "#B0BEC5",
                "#B0BEC5",
                "#B0BEC5",
                "#B0BEC5",
                "#B0BEC5",
                "#B0BEC5",
                "#B0BEC5",
                "#B0BEC5",
                "#B0BEC5",
                "#B0BEC5",
                "#B0BEC5",
                "#B0BEC5",
                "#B0BEC5",
                "#B0BEC5",
                "#B0BEC5",
                "#B0BEC5",
                "#B0BEC5",
                "#B0BEC5",
                "#B0BEC5",
                "#B0BEC5",
                "#B0BEC5",
                "#B0BEC5",
                "#B0BEC5",
                "#B0BEC5",
                "#B0BEC5",
                "#B0BEC5",
                "#B0BEC5",
                "#B0BEC5",
                "#B0BEC5",
                "#B0BEC5",
                "#B0BEC5",
                "red",
                "#B0BEC5",
                "#B0BEC5",
                "#B0BEC5"
               ]
              ]
             }
            ],
            "label": "Topic 42",
            "method": "update"
           },
           {
            "args": [
             {
              "marker.color": [
               [
                "#B0BEC5",
                "#B0BEC5",
                "#B0BEC5",
                "#B0BEC5",
                "#B0BEC5",
                "#B0BEC5",
                "#B0BEC5",
                "#B0BEC5",
                "#B0BEC5",
                "#B0BEC5",
                "#B0BEC5",
                "#B0BEC5",
                "#B0BEC5",
                "#B0BEC5",
                "#B0BEC5",
                "#B0BEC5",
                "#B0BEC5",
                "#B0BEC5",
                "#B0BEC5",
                "#B0BEC5",
                "#B0BEC5",
                "#B0BEC5",
                "#B0BEC5",
                "#B0BEC5",
                "#B0BEC5",
                "#B0BEC5",
                "#B0BEC5",
                "#B0BEC5",
                "#B0BEC5",
                "#B0BEC5",
                "#B0BEC5",
                "#B0BEC5",
                "#B0BEC5",
                "#B0BEC5",
                "#B0BEC5",
                "#B0BEC5",
                "#B0BEC5",
                "#B0BEC5",
                "#B0BEC5",
                "#B0BEC5",
                "#B0BEC5",
                "#B0BEC5",
                "#B0BEC5",
                "red",
                "#B0BEC5",
                "#B0BEC5"
               ]
              ]
             }
            ],
            "label": "Topic 43",
            "method": "update"
           },
           {
            "args": [
             {
              "marker.color": [
               [
                "#B0BEC5",
                "#B0BEC5",
                "#B0BEC5",
                "#B0BEC5",
                "#B0BEC5",
                "#B0BEC5",
                "#B0BEC5",
                "#B0BEC5",
                "#B0BEC5",
                "#B0BEC5",
                "#B0BEC5",
                "#B0BEC5",
                "#B0BEC5",
                "#B0BEC5",
                "#B0BEC5",
                "#B0BEC5",
                "#B0BEC5",
                "#B0BEC5",
                "#B0BEC5",
                "#B0BEC5",
                "#B0BEC5",
                "#B0BEC5",
                "#B0BEC5",
                "#B0BEC5",
                "#B0BEC5",
                "#B0BEC5",
                "#B0BEC5",
                "#B0BEC5",
                "#B0BEC5",
                "#B0BEC5",
                "#B0BEC5",
                "#B0BEC5",
                "#B0BEC5",
                "#B0BEC5",
                "#B0BEC5",
                "#B0BEC5",
                "#B0BEC5",
                "#B0BEC5",
                "#B0BEC5",
                "#B0BEC5",
                "#B0BEC5",
                "#B0BEC5",
                "#B0BEC5",
                "#B0BEC5",
                "red",
                "#B0BEC5"
               ]
              ]
             }
            ],
            "label": "Topic 44",
            "method": "update"
           },
           {
            "args": [
             {
              "marker.color": [
               [
                "#B0BEC5",
                "#B0BEC5",
                "#B0BEC5",
                "#B0BEC5",
                "#B0BEC5",
                "#B0BEC5",
                "#B0BEC5",
                "#B0BEC5",
                "#B0BEC5",
                "#B0BEC5",
                "#B0BEC5",
                "#B0BEC5",
                "#B0BEC5",
                "#B0BEC5",
                "#B0BEC5",
                "#B0BEC5",
                "#B0BEC5",
                "#B0BEC5",
                "#B0BEC5",
                "#B0BEC5",
                "#B0BEC5",
                "#B0BEC5",
                "#B0BEC5",
                "#B0BEC5",
                "#B0BEC5",
                "#B0BEC5",
                "#B0BEC5",
                "#B0BEC5",
                "#B0BEC5",
                "#B0BEC5",
                "#B0BEC5",
                "#B0BEC5",
                "#B0BEC5",
                "#B0BEC5",
                "#B0BEC5",
                "#B0BEC5",
                "#B0BEC5",
                "#B0BEC5",
                "#B0BEC5",
                "#B0BEC5",
                "#B0BEC5",
                "#B0BEC5",
                "#B0BEC5",
                "#B0BEC5",
                "#B0BEC5",
                "red"
               ]
              ]
             }
            ],
            "label": "Topic 45",
            "method": "update"
           }
          ]
         }
        ],
        "template": {
         "data": {
          "bar": [
           {
            "error_x": {
             "color": "rgb(36,36,36)"
            },
            "error_y": {
             "color": "rgb(36,36,36)"
            },
            "marker": {
             "line": {
              "color": "white",
              "width": 0.5
             },
             "pattern": {
              "fillmode": "overlay",
              "size": 10,
              "solidity": 0.2
             }
            },
            "type": "bar"
           }
          ],
          "barpolar": [
           {
            "marker": {
             "line": {
              "color": "white",
              "width": 0.5
             },
             "pattern": {
              "fillmode": "overlay",
              "size": 10,
              "solidity": 0.2
             }
            },
            "type": "barpolar"
           }
          ],
          "carpet": [
           {
            "aaxis": {
             "endlinecolor": "rgb(36,36,36)",
             "gridcolor": "white",
             "linecolor": "white",
             "minorgridcolor": "white",
             "startlinecolor": "rgb(36,36,36)"
            },
            "baxis": {
             "endlinecolor": "rgb(36,36,36)",
             "gridcolor": "white",
             "linecolor": "white",
             "minorgridcolor": "white",
             "startlinecolor": "rgb(36,36,36)"
            },
            "type": "carpet"
           }
          ],
          "choropleth": [
           {
            "colorbar": {
             "outlinewidth": 1,
             "tickcolor": "rgb(36,36,36)",
             "ticks": "outside"
            },
            "type": "choropleth"
           }
          ],
          "contour": [
           {
            "colorbar": {
             "outlinewidth": 1,
             "tickcolor": "rgb(36,36,36)",
             "ticks": "outside"
            },
            "colorscale": [
             [
              0,
              "#440154"
             ],
             [
              0.1111111111111111,
              "#482878"
             ],
             [
              0.2222222222222222,
              "#3e4989"
             ],
             [
              0.3333333333333333,
              "#31688e"
             ],
             [
              0.4444444444444444,
              "#26828e"
             ],
             [
              0.5555555555555556,
              "#1f9e89"
             ],
             [
              0.6666666666666666,
              "#35b779"
             ],
             [
              0.7777777777777778,
              "#6ece58"
             ],
             [
              0.8888888888888888,
              "#b5de2b"
             ],
             [
              1,
              "#fde725"
             ]
            ],
            "type": "contour"
           }
          ],
          "contourcarpet": [
           {
            "colorbar": {
             "outlinewidth": 1,
             "tickcolor": "rgb(36,36,36)",
             "ticks": "outside"
            },
            "type": "contourcarpet"
           }
          ],
          "heatmap": [
           {
            "colorbar": {
             "outlinewidth": 1,
             "tickcolor": "rgb(36,36,36)",
             "ticks": "outside"
            },
            "colorscale": [
             [
              0,
              "#440154"
             ],
             [
              0.1111111111111111,
              "#482878"
             ],
             [
              0.2222222222222222,
              "#3e4989"
             ],
             [
              0.3333333333333333,
              "#31688e"
             ],
             [
              0.4444444444444444,
              "#26828e"
             ],
             [
              0.5555555555555556,
              "#1f9e89"
             ],
             [
              0.6666666666666666,
              "#35b779"
             ],
             [
              0.7777777777777778,
              "#6ece58"
             ],
             [
              0.8888888888888888,
              "#b5de2b"
             ],
             [
              1,
              "#fde725"
             ]
            ],
            "type": "heatmap"
           }
          ],
          "heatmapgl": [
           {
            "colorbar": {
             "outlinewidth": 1,
             "tickcolor": "rgb(36,36,36)",
             "ticks": "outside"
            },
            "colorscale": [
             [
              0,
              "#440154"
             ],
             [
              0.1111111111111111,
              "#482878"
             ],
             [
              0.2222222222222222,
              "#3e4989"
             ],
             [
              0.3333333333333333,
              "#31688e"
             ],
             [
              0.4444444444444444,
              "#26828e"
             ],
             [
              0.5555555555555556,
              "#1f9e89"
             ],
             [
              0.6666666666666666,
              "#35b779"
             ],
             [
              0.7777777777777778,
              "#6ece58"
             ],
             [
              0.8888888888888888,
              "#b5de2b"
             ],
             [
              1,
              "#fde725"
             ]
            ],
            "type": "heatmapgl"
           }
          ],
          "histogram": [
           {
            "marker": {
             "line": {
              "color": "white",
              "width": 0.6
             }
            },
            "type": "histogram"
           }
          ],
          "histogram2d": [
           {
            "colorbar": {
             "outlinewidth": 1,
             "tickcolor": "rgb(36,36,36)",
             "ticks": "outside"
            },
            "colorscale": [
             [
              0,
              "#440154"
             ],
             [
              0.1111111111111111,
              "#482878"
             ],
             [
              0.2222222222222222,
              "#3e4989"
             ],
             [
              0.3333333333333333,
              "#31688e"
             ],
             [
              0.4444444444444444,
              "#26828e"
             ],
             [
              0.5555555555555556,
              "#1f9e89"
             ],
             [
              0.6666666666666666,
              "#35b779"
             ],
             [
              0.7777777777777778,
              "#6ece58"
             ],
             [
              0.8888888888888888,
              "#b5de2b"
             ],
             [
              1,
              "#fde725"
             ]
            ],
            "type": "histogram2d"
           }
          ],
          "histogram2dcontour": [
           {
            "colorbar": {
             "outlinewidth": 1,
             "tickcolor": "rgb(36,36,36)",
             "ticks": "outside"
            },
            "colorscale": [
             [
              0,
              "#440154"
             ],
             [
              0.1111111111111111,
              "#482878"
             ],
             [
              0.2222222222222222,
              "#3e4989"
             ],
             [
              0.3333333333333333,
              "#31688e"
             ],
             [
              0.4444444444444444,
              "#26828e"
             ],
             [
              0.5555555555555556,
              "#1f9e89"
             ],
             [
              0.6666666666666666,
              "#35b779"
             ],
             [
              0.7777777777777778,
              "#6ece58"
             ],
             [
              0.8888888888888888,
              "#b5de2b"
             ],
             [
              1,
              "#fde725"
             ]
            ],
            "type": "histogram2dcontour"
           }
          ],
          "mesh3d": [
           {
            "colorbar": {
             "outlinewidth": 1,
             "tickcolor": "rgb(36,36,36)",
             "ticks": "outside"
            },
            "type": "mesh3d"
           }
          ],
          "parcoords": [
           {
            "line": {
             "colorbar": {
              "outlinewidth": 1,
              "tickcolor": "rgb(36,36,36)",
              "ticks": "outside"
             }
            },
            "type": "parcoords"
           }
          ],
          "pie": [
           {
            "automargin": true,
            "type": "pie"
           }
          ],
          "scatter": [
           {
            "fillpattern": {
             "fillmode": "overlay",
             "size": 10,
             "solidity": 0.2
            },
            "type": "scatter"
           }
          ],
          "scatter3d": [
           {
            "line": {
             "colorbar": {
              "outlinewidth": 1,
              "tickcolor": "rgb(36,36,36)",
              "ticks": "outside"
             }
            },
            "marker": {
             "colorbar": {
              "outlinewidth": 1,
              "tickcolor": "rgb(36,36,36)",
              "ticks": "outside"
             }
            },
            "type": "scatter3d"
           }
          ],
          "scattercarpet": [
           {
            "marker": {
             "colorbar": {
              "outlinewidth": 1,
              "tickcolor": "rgb(36,36,36)",
              "ticks": "outside"
             }
            },
            "type": "scattercarpet"
           }
          ],
          "scattergeo": [
           {
            "marker": {
             "colorbar": {
              "outlinewidth": 1,
              "tickcolor": "rgb(36,36,36)",
              "ticks": "outside"
             }
            },
            "type": "scattergeo"
           }
          ],
          "scattergl": [
           {
            "marker": {
             "colorbar": {
              "outlinewidth": 1,
              "tickcolor": "rgb(36,36,36)",
              "ticks": "outside"
             }
            },
            "type": "scattergl"
           }
          ],
          "scattermapbox": [
           {
            "marker": {
             "colorbar": {
              "outlinewidth": 1,
              "tickcolor": "rgb(36,36,36)",
              "ticks": "outside"
             }
            },
            "type": "scattermapbox"
           }
          ],
          "scatterpolar": [
           {
            "marker": {
             "colorbar": {
              "outlinewidth": 1,
              "tickcolor": "rgb(36,36,36)",
              "ticks": "outside"
             }
            },
            "type": "scatterpolar"
           }
          ],
          "scatterpolargl": [
           {
            "marker": {
             "colorbar": {
              "outlinewidth": 1,
              "tickcolor": "rgb(36,36,36)",
              "ticks": "outside"
             }
            },
            "type": "scatterpolargl"
           }
          ],
          "scatterternary": [
           {
            "marker": {
             "colorbar": {
              "outlinewidth": 1,
              "tickcolor": "rgb(36,36,36)",
              "ticks": "outside"
             }
            },
            "type": "scatterternary"
           }
          ],
          "surface": [
           {
            "colorbar": {
             "outlinewidth": 1,
             "tickcolor": "rgb(36,36,36)",
             "ticks": "outside"
            },
            "colorscale": [
             [
              0,
              "#440154"
             ],
             [
              0.1111111111111111,
              "#482878"
             ],
             [
              0.2222222222222222,
              "#3e4989"
             ],
             [
              0.3333333333333333,
              "#31688e"
             ],
             [
              0.4444444444444444,
              "#26828e"
             ],
             [
              0.5555555555555556,
              "#1f9e89"
             ],
             [
              0.6666666666666666,
              "#35b779"
             ],
             [
              0.7777777777777778,
              "#6ece58"
             ],
             [
              0.8888888888888888,
              "#b5de2b"
             ],
             [
              1,
              "#fde725"
             ]
            ],
            "type": "surface"
           }
          ],
          "table": [
           {
            "cells": {
             "fill": {
              "color": "rgb(237,237,237)"
             },
             "line": {
              "color": "white"
             }
            },
            "header": {
             "fill": {
              "color": "rgb(217,217,217)"
             },
             "line": {
              "color": "white"
             }
            },
            "type": "table"
           }
          ]
         },
         "layout": {
          "annotationdefaults": {
           "arrowhead": 0,
           "arrowwidth": 1
          },
          "autotypenumbers": "strict",
          "coloraxis": {
           "colorbar": {
            "outlinewidth": 1,
            "tickcolor": "rgb(36,36,36)",
            "ticks": "outside"
           }
          },
          "colorscale": {
           "diverging": [
            [
             0,
             "rgb(103,0,31)"
            ],
            [
             0.1,
             "rgb(178,24,43)"
            ],
            [
             0.2,
             "rgb(214,96,77)"
            ],
            [
             0.3,
             "rgb(244,165,130)"
            ],
            [
             0.4,
             "rgb(253,219,199)"
            ],
            [
             0.5,
             "rgb(247,247,247)"
            ],
            [
             0.6,
             "rgb(209,229,240)"
            ],
            [
             0.7,
             "rgb(146,197,222)"
            ],
            [
             0.8,
             "rgb(67,147,195)"
            ],
            [
             0.9,
             "rgb(33,102,172)"
            ],
            [
             1,
             "rgb(5,48,97)"
            ]
           ],
           "sequential": [
            [
             0,
             "#440154"
            ],
            [
             0.1111111111111111,
             "#482878"
            ],
            [
             0.2222222222222222,
             "#3e4989"
            ],
            [
             0.3333333333333333,
             "#31688e"
            ],
            [
             0.4444444444444444,
             "#26828e"
            ],
            [
             0.5555555555555556,
             "#1f9e89"
            ],
            [
             0.6666666666666666,
             "#35b779"
            ],
            [
             0.7777777777777778,
             "#6ece58"
            ],
            [
             0.8888888888888888,
             "#b5de2b"
            ],
            [
             1,
             "#fde725"
            ]
           ],
           "sequentialminus": [
            [
             0,
             "#440154"
            ],
            [
             0.1111111111111111,
             "#482878"
            ],
            [
             0.2222222222222222,
             "#3e4989"
            ],
            [
             0.3333333333333333,
             "#31688e"
            ],
            [
             0.4444444444444444,
             "#26828e"
            ],
            [
             0.5555555555555556,
             "#1f9e89"
            ],
            [
             0.6666666666666666,
             "#35b779"
            ],
            [
             0.7777777777777778,
             "#6ece58"
            ],
            [
             0.8888888888888888,
             "#b5de2b"
            ],
            [
             1,
             "#fde725"
            ]
           ]
          },
          "colorway": [
           "#1F77B4",
           "#FF7F0E",
           "#2CA02C",
           "#D62728",
           "#9467BD",
           "#8C564B",
           "#E377C2",
           "#7F7F7F",
           "#BCBD22",
           "#17BECF"
          ],
          "font": {
           "color": "rgb(36,36,36)"
          },
          "geo": {
           "bgcolor": "white",
           "lakecolor": "white",
           "landcolor": "white",
           "showlakes": true,
           "showland": true,
           "subunitcolor": "white"
          },
          "hoverlabel": {
           "align": "left"
          },
          "hovermode": "closest",
          "mapbox": {
           "style": "light"
          },
          "paper_bgcolor": "white",
          "plot_bgcolor": "white",
          "polar": {
           "angularaxis": {
            "gridcolor": "rgb(232,232,232)",
            "linecolor": "rgb(36,36,36)",
            "showgrid": false,
            "showline": true,
            "ticks": "outside"
           },
           "bgcolor": "white",
           "radialaxis": {
            "gridcolor": "rgb(232,232,232)",
            "linecolor": "rgb(36,36,36)",
            "showgrid": false,
            "showline": true,
            "ticks": "outside"
           }
          },
          "scene": {
           "xaxis": {
            "backgroundcolor": "white",
            "gridcolor": "rgb(232,232,232)",
            "gridwidth": 2,
            "linecolor": "rgb(36,36,36)",
            "showbackground": true,
            "showgrid": false,
            "showline": true,
            "ticks": "outside",
            "zeroline": false,
            "zerolinecolor": "rgb(36,36,36)"
           },
           "yaxis": {
            "backgroundcolor": "white",
            "gridcolor": "rgb(232,232,232)",
            "gridwidth": 2,
            "linecolor": "rgb(36,36,36)",
            "showbackground": true,
            "showgrid": false,
            "showline": true,
            "ticks": "outside",
            "zeroline": false,
            "zerolinecolor": "rgb(36,36,36)"
           },
           "zaxis": {
            "backgroundcolor": "white",
            "gridcolor": "rgb(232,232,232)",
            "gridwidth": 2,
            "linecolor": "rgb(36,36,36)",
            "showbackground": true,
            "showgrid": false,
            "showline": true,
            "ticks": "outside",
            "zeroline": false,
            "zerolinecolor": "rgb(36,36,36)"
           }
          },
          "shapedefaults": {
           "fillcolor": "black",
           "line": {
            "width": 0
           },
           "opacity": 0.3
          },
          "ternary": {
           "aaxis": {
            "gridcolor": "rgb(232,232,232)",
            "linecolor": "rgb(36,36,36)",
            "showgrid": false,
            "showline": true,
            "ticks": "outside"
           },
           "baxis": {
            "gridcolor": "rgb(232,232,232)",
            "linecolor": "rgb(36,36,36)",
            "showgrid": false,
            "showline": true,
            "ticks": "outside"
           },
           "bgcolor": "white",
           "caxis": {
            "gridcolor": "rgb(232,232,232)",
            "linecolor": "rgb(36,36,36)",
            "showgrid": false,
            "showline": true,
            "ticks": "outside"
           }
          },
          "title": {
           "x": 0.05
          },
          "xaxis": {
           "automargin": true,
           "gridcolor": "rgb(232,232,232)",
           "linecolor": "rgb(36,36,36)",
           "showgrid": false,
           "showline": true,
           "ticks": "outside",
           "title": {
            "standoff": 15
           },
           "zeroline": false,
           "zerolinecolor": "rgb(36,36,36)"
          },
          "yaxis": {
           "automargin": true,
           "gridcolor": "rgb(232,232,232)",
           "linecolor": "rgb(36,36,36)",
           "showgrid": false,
           "showline": true,
           "ticks": "outside",
           "title": {
            "standoff": 15
           },
           "zeroline": false,
           "zerolinecolor": "rgb(36,36,36)"
          }
         }
        },
        "title": {
         "font": {
          "color": "Black",
          "size": 22
         },
         "text": "<b>Intertopic Distance Map",
         "x": 0.5,
         "xanchor": "center",
         "y": 0.95,
         "yanchor": "top"
        },
        "width": 650,
        "xaxis": {
         "anchor": "y",
         "domain": [
          0,
          1
         ],
         "range": [
          -12.447291135787964,
          11.780440378189088
         ],
         "title": {
          "text": ""
         },
         "visible": false
        },
        "yaxis": {
         "anchor": "x",
         "domain": [
          0,
          1
         ],
         "range": [
          -10.420126819610596,
          20.10615167617798
         ],
         "title": {
          "text": ""
         },
         "visible": false
        }
       }
      }
     },
     "metadata": {},
     "output_type": "display_data"
    }
   ],
   "source": [
    "model.visualize_topics()"
   ]
  },
  {
   "cell_type": "code",
   "execution_count": 5,
   "metadata": {},
   "outputs": [
    {
     "data": {
      "application/vnd.plotly.v1+json": {
       "config": {
        "plotlyServerURL": "https://plot.ly"
       },
       "data": [
        {
         "marker": {
          "color": "#D55E00"
         },
         "orientation": "h",
         "type": "bar",
         "x": [
          0.013227079561648428,
          0.014335544132673296,
          0.014452084594697278,
          0.0173707278221713,
          0.018527299793497112
         ],
         "xaxis": "x",
         "y": [
          "phone  ",
          "games  ",
          "technology  ",
          "people  ",
          "mobile  "
         ],
         "yaxis": "y"
        },
        {
         "marker": {
          "color": "#0072B2"
         },
         "orientation": "h",
         "type": "bar",
         "x": [
          0.018638534693742614,
          0.020180354372816085,
          0.02126560081331663,
          0.024309730431102874,
          0.025442580497401047
         ],
         "xaxis": "x2",
         "y": [
          "league  ",
          "liverpool  ",
          "arsenal  ",
          "club  ",
          "chelsea  "
         ],
         "yaxis": "y2"
        },
        {
         "marker": {
          "color": "#CC79A7"
         },
         "orientation": "h",
         "type": "bar",
         "x": [
          0.01981922445440417,
          0.021205174475845093,
          0.021512868882611384,
          0.032371806058056604,
          0.057363756551736346
         ],
         "xaxis": "x3",
         "y": [
          "director  ",
          "films  ",
          "actor  ",
          "best  ",
          "film  "
         ],
         "yaxis": "y3"
        },
        {
         "marker": {
          "color": "#E69F00"
         },
         "orientation": "h",
         "type": "bar",
         "x": [
          0.021117346621769072,
          0.026807653799134135,
          0.027141097745910808,
          0.027675900140854044,
          0.03611571261072436
         ],
         "xaxis": "x4",
         "y": [
          "nations  ",
          "rugby  ",
          "ireland  ",
          "wales  ",
          "england  "
         ],
         "yaxis": "y4"
        },
        {
         "marker": {
          "color": "#56B4E9"
         },
         "orientation": "h",
         "type": "bar",
         "x": [
          0.020218298866431002,
          0.024023103915100454,
          0.030020547761444975,
          0.031201063130141714,
          0.03364482864782999
         ],
         "xaxis": "x5",
         "y": [
          "best  ",
          "song  ",
          "album  ",
          "band  ",
          "music  "
         ],
         "yaxis": "y5"
        },
        {
         "marker": {
          "color": "#009E73"
         },
         "orientation": "h",
         "type": "bar",
         "x": [
          0.026074313870078518,
          0.028459425337466447,
          0.03216381382395014,
          0.03922353701932964,
          0.03983349526125963
         ],
         "xaxis": "x6",
         "y": [
          "match  ",
          "australian  ",
          "seed  ",
          "open  ",
          "roddick  "
         ],
         "yaxis": "y6"
        },
        {
         "marker": {
          "color": "#F0E442"
         },
         "orientation": "h",
         "type": "bar",
         "x": [
          0.026952961249716256,
          0.028032814571452812,
          0.031228793347132505,
          0.036125467974911125,
          0.036777670049377494
         ],
         "xaxis": "x7",
         "y": [
          "championships  ",
          "champion  ",
          "indoor  ",
          "olympic  ",
          "race  "
         ],
         "yaxis": "y7"
        },
        {
         "marker": {
          "color": "#D55E00"
         },
         "orientation": "h",
         "type": "bar",
         "x": [
          0.018559676835941372,
          0.019044620939192212,
          0.02384539389956373,
          0.02857106551064994,
          0.04284944570349316
         ],
         "xaxis": "x8",
         "y": [
          "comedy  ",
          "channel  ",
          "series  ",
          "tv  ",
          "show  "
         ],
         "yaxis": "y8"
        }
       ],
       "layout": {
        "annotations": [
         {
          "font": {
           "size": 16
          },
          "showarrow": false,
          "text": "Topic 0",
          "x": 0.0875,
          "xanchor": "center",
          "xref": "paper",
          "y": 1,
          "yanchor": "bottom",
          "yref": "paper"
         },
         {
          "font": {
           "size": 16
          },
          "showarrow": false,
          "text": "Topic 1",
          "x": 0.36250000000000004,
          "xanchor": "center",
          "xref": "paper",
          "y": 1,
          "yanchor": "bottom",
          "yref": "paper"
         },
         {
          "font": {
           "size": 16
          },
          "showarrow": false,
          "text": "Topic 2",
          "x": 0.6375000000000001,
          "xanchor": "center",
          "xref": "paper",
          "y": 1,
          "yanchor": "bottom",
          "yref": "paper"
         },
         {
          "font": {
           "size": 16
          },
          "showarrow": false,
          "text": "Topic 3",
          "x": 0.9125,
          "xanchor": "center",
          "xref": "paper",
          "y": 1,
          "yanchor": "bottom",
          "yref": "paper"
         },
         {
          "font": {
           "size": 16
          },
          "showarrow": false,
          "text": "Topic 4",
          "x": 0.0875,
          "xanchor": "center",
          "xref": "paper",
          "y": 0.4,
          "yanchor": "bottom",
          "yref": "paper"
         },
         {
          "font": {
           "size": 16
          },
          "showarrow": false,
          "text": "Topic 5",
          "x": 0.36250000000000004,
          "xanchor": "center",
          "xref": "paper",
          "y": 0.4,
          "yanchor": "bottom",
          "yref": "paper"
         },
         {
          "font": {
           "size": 16
          },
          "showarrow": false,
          "text": "Topic 6",
          "x": 0.6375000000000001,
          "xanchor": "center",
          "xref": "paper",
          "y": 0.4,
          "yanchor": "bottom",
          "yref": "paper"
         },
         {
          "font": {
           "size": 16
          },
          "showarrow": false,
          "text": "Topic 7",
          "x": 0.9125,
          "xanchor": "center",
          "xref": "paper",
          "y": 0.4,
          "yanchor": "bottom",
          "yref": "paper"
         }
        ],
        "height": 500,
        "hoverlabel": {
         "bgcolor": "white",
         "font": {
          "family": "Rockwell",
          "size": 16
         }
        },
        "showlegend": false,
        "template": {
         "data": {
          "bar": [
           {
            "error_x": {
             "color": "#2a3f5f"
            },
            "error_y": {
             "color": "#2a3f5f"
            },
            "marker": {
             "line": {
              "color": "white",
              "width": 0.5
             },
             "pattern": {
              "fillmode": "overlay",
              "size": 10,
              "solidity": 0.2
             }
            },
            "type": "bar"
           }
          ],
          "barpolar": [
           {
            "marker": {
             "line": {
              "color": "white",
              "width": 0.5
             },
             "pattern": {
              "fillmode": "overlay",
              "size": 10,
              "solidity": 0.2
             }
            },
            "type": "barpolar"
           }
          ],
          "carpet": [
           {
            "aaxis": {
             "endlinecolor": "#2a3f5f",
             "gridcolor": "#C8D4E3",
             "linecolor": "#C8D4E3",
             "minorgridcolor": "#C8D4E3",
             "startlinecolor": "#2a3f5f"
            },
            "baxis": {
             "endlinecolor": "#2a3f5f",
             "gridcolor": "#C8D4E3",
             "linecolor": "#C8D4E3",
             "minorgridcolor": "#C8D4E3",
             "startlinecolor": "#2a3f5f"
            },
            "type": "carpet"
           }
          ],
          "choropleth": [
           {
            "colorbar": {
             "outlinewidth": 0,
             "ticks": ""
            },
            "type": "choropleth"
           }
          ],
          "contour": [
           {
            "colorbar": {
             "outlinewidth": 0,
             "ticks": ""
            },
            "colorscale": [
             [
              0,
              "#0d0887"
             ],
             [
              0.1111111111111111,
              "#46039f"
             ],
             [
              0.2222222222222222,
              "#7201a8"
             ],
             [
              0.3333333333333333,
              "#9c179e"
             ],
             [
              0.4444444444444444,
              "#bd3786"
             ],
             [
              0.5555555555555556,
              "#d8576b"
             ],
             [
              0.6666666666666666,
              "#ed7953"
             ],
             [
              0.7777777777777778,
              "#fb9f3a"
             ],
             [
              0.8888888888888888,
              "#fdca26"
             ],
             [
              1,
              "#f0f921"
             ]
            ],
            "type": "contour"
           }
          ],
          "contourcarpet": [
           {
            "colorbar": {
             "outlinewidth": 0,
             "ticks": ""
            },
            "type": "contourcarpet"
           }
          ],
          "heatmap": [
           {
            "colorbar": {
             "outlinewidth": 0,
             "ticks": ""
            },
            "colorscale": [
             [
              0,
              "#0d0887"
             ],
             [
              0.1111111111111111,
              "#46039f"
             ],
             [
              0.2222222222222222,
              "#7201a8"
             ],
             [
              0.3333333333333333,
              "#9c179e"
             ],
             [
              0.4444444444444444,
              "#bd3786"
             ],
             [
              0.5555555555555556,
              "#d8576b"
             ],
             [
              0.6666666666666666,
              "#ed7953"
             ],
             [
              0.7777777777777778,
              "#fb9f3a"
             ],
             [
              0.8888888888888888,
              "#fdca26"
             ],
             [
              1,
              "#f0f921"
             ]
            ],
            "type": "heatmap"
           }
          ],
          "heatmapgl": [
           {
            "colorbar": {
             "outlinewidth": 0,
             "ticks": ""
            },
            "colorscale": [
             [
              0,
              "#0d0887"
             ],
             [
              0.1111111111111111,
              "#46039f"
             ],
             [
              0.2222222222222222,
              "#7201a8"
             ],
             [
              0.3333333333333333,
              "#9c179e"
             ],
             [
              0.4444444444444444,
              "#bd3786"
             ],
             [
              0.5555555555555556,
              "#d8576b"
             ],
             [
              0.6666666666666666,
              "#ed7953"
             ],
             [
              0.7777777777777778,
              "#fb9f3a"
             ],
             [
              0.8888888888888888,
              "#fdca26"
             ],
             [
              1,
              "#f0f921"
             ]
            ],
            "type": "heatmapgl"
           }
          ],
          "histogram": [
           {
            "marker": {
             "pattern": {
              "fillmode": "overlay",
              "size": 10,
              "solidity": 0.2
             }
            },
            "type": "histogram"
           }
          ],
          "histogram2d": [
           {
            "colorbar": {
             "outlinewidth": 0,
             "ticks": ""
            },
            "colorscale": [
             [
              0,
              "#0d0887"
             ],
             [
              0.1111111111111111,
              "#46039f"
             ],
             [
              0.2222222222222222,
              "#7201a8"
             ],
             [
              0.3333333333333333,
              "#9c179e"
             ],
             [
              0.4444444444444444,
              "#bd3786"
             ],
             [
              0.5555555555555556,
              "#d8576b"
             ],
             [
              0.6666666666666666,
              "#ed7953"
             ],
             [
              0.7777777777777778,
              "#fb9f3a"
             ],
             [
              0.8888888888888888,
              "#fdca26"
             ],
             [
              1,
              "#f0f921"
             ]
            ],
            "type": "histogram2d"
           }
          ],
          "histogram2dcontour": [
           {
            "colorbar": {
             "outlinewidth": 0,
             "ticks": ""
            },
            "colorscale": [
             [
              0,
              "#0d0887"
             ],
             [
              0.1111111111111111,
              "#46039f"
             ],
             [
              0.2222222222222222,
              "#7201a8"
             ],
             [
              0.3333333333333333,
              "#9c179e"
             ],
             [
              0.4444444444444444,
              "#bd3786"
             ],
             [
              0.5555555555555556,
              "#d8576b"
             ],
             [
              0.6666666666666666,
              "#ed7953"
             ],
             [
              0.7777777777777778,
              "#fb9f3a"
             ],
             [
              0.8888888888888888,
              "#fdca26"
             ],
             [
              1,
              "#f0f921"
             ]
            ],
            "type": "histogram2dcontour"
           }
          ],
          "mesh3d": [
           {
            "colorbar": {
             "outlinewidth": 0,
             "ticks": ""
            },
            "type": "mesh3d"
           }
          ],
          "parcoords": [
           {
            "line": {
             "colorbar": {
              "outlinewidth": 0,
              "ticks": ""
             }
            },
            "type": "parcoords"
           }
          ],
          "pie": [
           {
            "automargin": true,
            "type": "pie"
           }
          ],
          "scatter": [
           {
            "fillpattern": {
             "fillmode": "overlay",
             "size": 10,
             "solidity": 0.2
            },
            "type": "scatter"
           }
          ],
          "scatter3d": [
           {
            "line": {
             "colorbar": {
              "outlinewidth": 0,
              "ticks": ""
             }
            },
            "marker": {
             "colorbar": {
              "outlinewidth": 0,
              "ticks": ""
             }
            },
            "type": "scatter3d"
           }
          ],
          "scattercarpet": [
           {
            "marker": {
             "colorbar": {
              "outlinewidth": 0,
              "ticks": ""
             }
            },
            "type": "scattercarpet"
           }
          ],
          "scattergeo": [
           {
            "marker": {
             "colorbar": {
              "outlinewidth": 0,
              "ticks": ""
             }
            },
            "type": "scattergeo"
           }
          ],
          "scattergl": [
           {
            "marker": {
             "colorbar": {
              "outlinewidth": 0,
              "ticks": ""
             }
            },
            "type": "scattergl"
           }
          ],
          "scattermapbox": [
           {
            "marker": {
             "colorbar": {
              "outlinewidth": 0,
              "ticks": ""
             }
            },
            "type": "scattermapbox"
           }
          ],
          "scatterpolar": [
           {
            "marker": {
             "colorbar": {
              "outlinewidth": 0,
              "ticks": ""
             }
            },
            "type": "scatterpolar"
           }
          ],
          "scatterpolargl": [
           {
            "marker": {
             "colorbar": {
              "outlinewidth": 0,
              "ticks": ""
             }
            },
            "type": "scatterpolargl"
           }
          ],
          "scatterternary": [
           {
            "marker": {
             "colorbar": {
              "outlinewidth": 0,
              "ticks": ""
             }
            },
            "type": "scatterternary"
           }
          ],
          "surface": [
           {
            "colorbar": {
             "outlinewidth": 0,
             "ticks": ""
            },
            "colorscale": [
             [
              0,
              "#0d0887"
             ],
             [
              0.1111111111111111,
              "#46039f"
             ],
             [
              0.2222222222222222,
              "#7201a8"
             ],
             [
              0.3333333333333333,
              "#9c179e"
             ],
             [
              0.4444444444444444,
              "#bd3786"
             ],
             [
              0.5555555555555556,
              "#d8576b"
             ],
             [
              0.6666666666666666,
              "#ed7953"
             ],
             [
              0.7777777777777778,
              "#fb9f3a"
             ],
             [
              0.8888888888888888,
              "#fdca26"
             ],
             [
              1,
              "#f0f921"
             ]
            ],
            "type": "surface"
           }
          ],
          "table": [
           {
            "cells": {
             "fill": {
              "color": "#EBF0F8"
             },
             "line": {
              "color": "white"
             }
            },
            "header": {
             "fill": {
              "color": "#C8D4E3"
             },
             "line": {
              "color": "white"
             }
            },
            "type": "table"
           }
          ]
         },
         "layout": {
          "annotationdefaults": {
           "arrowcolor": "#2a3f5f",
           "arrowhead": 0,
           "arrowwidth": 1
          },
          "autotypenumbers": "strict",
          "coloraxis": {
           "colorbar": {
            "outlinewidth": 0,
            "ticks": ""
           }
          },
          "colorscale": {
           "diverging": [
            [
             0,
             "#8e0152"
            ],
            [
             0.1,
             "#c51b7d"
            ],
            [
             0.2,
             "#de77ae"
            ],
            [
             0.3,
             "#f1b6da"
            ],
            [
             0.4,
             "#fde0ef"
            ],
            [
             0.5,
             "#f7f7f7"
            ],
            [
             0.6,
             "#e6f5d0"
            ],
            [
             0.7,
             "#b8e186"
            ],
            [
             0.8,
             "#7fbc41"
            ],
            [
             0.9,
             "#4d9221"
            ],
            [
             1,
             "#276419"
            ]
           ],
           "sequential": [
            [
             0,
             "#0d0887"
            ],
            [
             0.1111111111111111,
             "#46039f"
            ],
            [
             0.2222222222222222,
             "#7201a8"
            ],
            [
             0.3333333333333333,
             "#9c179e"
            ],
            [
             0.4444444444444444,
             "#bd3786"
            ],
            [
             0.5555555555555556,
             "#d8576b"
            ],
            [
             0.6666666666666666,
             "#ed7953"
            ],
            [
             0.7777777777777778,
             "#fb9f3a"
            ],
            [
             0.8888888888888888,
             "#fdca26"
            ],
            [
             1,
             "#f0f921"
            ]
           ],
           "sequentialminus": [
            [
             0,
             "#0d0887"
            ],
            [
             0.1111111111111111,
             "#46039f"
            ],
            [
             0.2222222222222222,
             "#7201a8"
            ],
            [
             0.3333333333333333,
             "#9c179e"
            ],
            [
             0.4444444444444444,
             "#bd3786"
            ],
            [
             0.5555555555555556,
             "#d8576b"
            ],
            [
             0.6666666666666666,
             "#ed7953"
            ],
            [
             0.7777777777777778,
             "#fb9f3a"
            ],
            [
             0.8888888888888888,
             "#fdca26"
            ],
            [
             1,
             "#f0f921"
            ]
           ]
          },
          "colorway": [
           "#636efa",
           "#EF553B",
           "#00cc96",
           "#ab63fa",
           "#FFA15A",
           "#19d3f3",
           "#FF6692",
           "#B6E880",
           "#FF97FF",
           "#FECB52"
          ],
          "font": {
           "color": "#2a3f5f"
          },
          "geo": {
           "bgcolor": "white",
           "lakecolor": "white",
           "landcolor": "white",
           "showlakes": true,
           "showland": true,
           "subunitcolor": "#C8D4E3"
          },
          "hoverlabel": {
           "align": "left"
          },
          "hovermode": "closest",
          "mapbox": {
           "style": "light"
          },
          "paper_bgcolor": "white",
          "plot_bgcolor": "white",
          "polar": {
           "angularaxis": {
            "gridcolor": "#EBF0F8",
            "linecolor": "#EBF0F8",
            "ticks": ""
           },
           "bgcolor": "white",
           "radialaxis": {
            "gridcolor": "#EBF0F8",
            "linecolor": "#EBF0F8",
            "ticks": ""
           }
          },
          "scene": {
           "xaxis": {
            "backgroundcolor": "white",
            "gridcolor": "#DFE8F3",
            "gridwidth": 2,
            "linecolor": "#EBF0F8",
            "showbackground": true,
            "ticks": "",
            "zerolinecolor": "#EBF0F8"
           },
           "yaxis": {
            "backgroundcolor": "white",
            "gridcolor": "#DFE8F3",
            "gridwidth": 2,
            "linecolor": "#EBF0F8",
            "showbackground": true,
            "ticks": "",
            "zerolinecolor": "#EBF0F8"
           },
           "zaxis": {
            "backgroundcolor": "white",
            "gridcolor": "#DFE8F3",
            "gridwidth": 2,
            "linecolor": "#EBF0F8",
            "showbackground": true,
            "ticks": "",
            "zerolinecolor": "#EBF0F8"
           }
          },
          "shapedefaults": {
           "line": {
            "color": "#2a3f5f"
           }
          },
          "ternary": {
           "aaxis": {
            "gridcolor": "#DFE8F3",
            "linecolor": "#A2B1C6",
            "ticks": ""
           },
           "baxis": {
            "gridcolor": "#DFE8F3",
            "linecolor": "#A2B1C6",
            "ticks": ""
           },
           "bgcolor": "white",
           "caxis": {
            "gridcolor": "#DFE8F3",
            "linecolor": "#A2B1C6",
            "ticks": ""
           }
          },
          "title": {
           "x": 0.05
          },
          "xaxis": {
           "automargin": true,
           "gridcolor": "#EBF0F8",
           "linecolor": "#EBF0F8",
           "ticks": "",
           "title": {
            "standoff": 15
           },
           "zerolinecolor": "#EBF0F8",
           "zerolinewidth": 2
          },
          "yaxis": {
           "automargin": true,
           "gridcolor": "#EBF0F8",
           "linecolor": "#EBF0F8",
           "ticks": "",
           "title": {
            "standoff": 15
           },
           "zerolinecolor": "#EBF0F8",
           "zerolinewidth": 2
          }
         }
        },
        "title": {
         "font": {
          "color": "Black",
          "size": 22
         },
         "text": "<b>Topic Word Scores",
         "x": 0.5,
         "xanchor": "center",
         "yanchor": "top"
        },
        "width": 1000,
        "xaxis": {
         "anchor": "y",
         "domain": [
          0,
          0.175
         ],
         "showgrid": true
        },
        "xaxis2": {
         "anchor": "y2",
         "domain": [
          0.275,
          0.45
         ],
         "showgrid": true
        },
        "xaxis3": {
         "anchor": "y3",
         "domain": [
          0.55,
          0.7250000000000001
         ],
         "showgrid": true
        },
        "xaxis4": {
         "anchor": "y4",
         "domain": [
          0.825,
          1
         ],
         "showgrid": true
        },
        "xaxis5": {
         "anchor": "y5",
         "domain": [
          0,
          0.175
         ],
         "showgrid": true
        },
        "xaxis6": {
         "anchor": "y6",
         "domain": [
          0.275,
          0.45
         ],
         "showgrid": true
        },
        "xaxis7": {
         "anchor": "y7",
         "domain": [
          0.55,
          0.7250000000000001
         ],
         "showgrid": true
        },
        "xaxis8": {
         "anchor": "y8",
         "domain": [
          0.825,
          1
         ],
         "showgrid": true
        },
        "yaxis": {
         "anchor": "x",
         "domain": [
          0.6000000000000001,
          1
         ],
         "showgrid": true
        },
        "yaxis2": {
         "anchor": "x2",
         "domain": [
          0.6000000000000001,
          1
         ],
         "showgrid": true
        },
        "yaxis3": {
         "anchor": "x3",
         "domain": [
          0.6000000000000001,
          1
         ],
         "showgrid": true
        },
        "yaxis4": {
         "anchor": "x4",
         "domain": [
          0.6000000000000001,
          1
         ],
         "showgrid": true
        },
        "yaxis5": {
         "anchor": "x5",
         "domain": [
          0,
          0.4
         ],
         "showgrid": true
        },
        "yaxis6": {
         "anchor": "x6",
         "domain": [
          0,
          0.4
         ],
         "showgrid": true
        },
        "yaxis7": {
         "anchor": "x7",
         "domain": [
          0,
          0.4
         ],
         "showgrid": true
        },
        "yaxis8": {
         "anchor": "x8",
         "domain": [
          0,
          0.4
         ],
         "showgrid": true
        }
       }
      }
     },
     "metadata": {},
     "output_type": "display_data"
    }
   ],
   "source": [
    "'''\n",
    "Parameters                                                                      Default\n",
    "topics: List[int]   |       A selection of topics to visualize.             |   None\n",
    "\n",
    "\n",
    "top_n_topics: int   |       Only select the top n most frequent topics.     |   8\t\n",
    "\n",
    "\n",
    "n_words: int        |       Number of words to show in a topic              |   5\n",
    "'''\n",
    "\n",
    "model.visualize_barchart()"
   ]
  },
  {
   "cell_type": "markdown",
   "metadata": {},
   "source": [
    "Plotando como imagens fixas e não-interativas"
   ]
  },
  {
   "cell_type": "code",
   "execution_count": 4,
   "metadata": {},
   "outputs": [],
   "source": [
    "import plotly.io as pio\n",
    "pio.renderers.default = \"svg\""
   ]
  },
  {
   "cell_type": "code",
   "execution_count": 5,
   "metadata": {},
   "outputs": [
    {
     "data": {
      "image/svg+xml": "<svg class=\"main-svg\" xmlns=\"http://www.w3.org/2000/svg\" xmlns:xlink=\"http://www.w3.org/1999/xlink\" width=\"650\" height=\"650\" style=\"\" viewBox=\"0 0 650 650\"><rect x=\"0\" y=\"0\" width=\"650\" height=\"650\" style=\"fill: rgb(255, 255, 255); fill-opacity: 1;\"/><defs id=\"defs-a05c4e\"><g class=\"clips\"><clipPath id=\"clipa05c4exyplot\" class=\"plotclip\"><rect width=\"490\" height=\"456\"/></clipPath><clipPath class=\"axesclip\" id=\"clipa05c4ex\"><rect x=\"80\" y=\"0\" width=\"490\" height=\"650\"/></clipPath><clipPath class=\"axesclip\" id=\"clipa05c4ey\"><rect x=\"0\" y=\"60\" width=\"650\" height=\"456\"/></clipPath><clipPath class=\"axesclip\" id=\"clipa05c4exy\"><rect x=\"80\" y=\"60\" width=\"490\" height=\"456\"/></clipPath></g><g class=\"gradients\"/><g class=\"patterns\"/></defs><g class=\"bglayer\"/><g class=\"layer-below\"><g class=\"imagelayer\"/><g class=\"shapelayer\"/></g><g class=\"cartesianlayer\"><g class=\"subplot xy\"><g class=\"layer-subplot\"><g class=\"shapelayer\"/><g class=\"imagelayer\"/></g><g class=\"minor-gridlayer\"><g class=\"x\"/><g class=\"y\"/></g><g class=\"gridlayer\"><g class=\"x\"/><g class=\"y\"/></g><g class=\"zerolinelayer\"/><path class=\"xlines-below\"/><path class=\"ylines-below\"/><g class=\"overlines-below\"/><g class=\"xaxislayer-below\"/><g class=\"yaxislayer-below\"/><g class=\"overaxes-below\"/><g class=\"plot\" transform=\"translate(80,60)\" clip-path=\"url(#clipa05c4exyplot)\"><g class=\"scatterlayer mlayer\"><g class=\"trace scatter trace11b6e6\" style=\"stroke-miterlimit: 2; opacity: 1;\"><g class=\"fills\"/><g class=\"errorbars\"/><g class=\"lines\"/><g class=\"points\"><path class=\"point plotly-customdata\" transform=\"translate(323.59,115.18)\" d=\"M28.28,0A28.28,28.28 0 1,1 0,-28.28A28.28,28.28 0 0,1 28.28,0Z\" style=\"opacity: 0.7; stroke-width: 2px; fill: rgb(176, 190, 197); fill-opacity: 1; stroke: rgb(47, 79, 79); stroke-opacity: 1;\"/><path class=\"point plotly-customdata\" transform=\"translate(440.75,319.67)\" d=\"M26.74,0A26.74,26.74 0 1,1 0,-26.74A26.74,26.74 0 0,1 26.74,0Z\" style=\"opacity: 0.7; stroke-width: 2px; fill: rgb(176, 190, 197); fill-opacity: 1; stroke: rgb(47, 79, 79); stroke-opacity: 1;\"/><path class=\"point plotly-customdata\" transform=\"translate(323.59,115.18)\" d=\"M25.98,0A25.98,25.98 0 1,1 0,-25.98A25.98,25.98 0 0,1 25.98,0Z\" style=\"opacity: 0.7; stroke-width: 2px; fill: rgb(176, 190, 197); fill-opacity: 1; stroke: rgb(47, 79, 79); stroke-opacity: 1;\"/><path class=\"point plotly-customdata\" transform=\"translate(438.14,322.97)\" d=\"M23.45,0A23.45,23.45 0 1,1 0,-23.45A23.45,23.45 0 0,1 23.45,0Z\" style=\"opacity: 0.7; stroke-width: 2px; fill: rgb(176, 190, 197); fill-opacity: 1; stroke: rgb(47, 79, 79); stroke-opacity: 1;\"/><path class=\"point plotly-customdata\" transform=\"translate(15.37,175.46)\" d=\"M17.81,0A17.81,17.81 0 1,1 0,-17.81A17.81,17.81 0 0,1 17.81,0Z\" style=\"opacity: 0.7; stroke-width: 2px; fill: rgb(176, 190, 197); fill-opacity: 1; stroke: rgb(47, 79, 79); stroke-opacity: 1;\"/><path class=\"point plotly-customdata\" transform=\"translate(143.63,82.17)\" d=\"M17.69,0A17.69,17.69 0 1,1 0,-17.69A17.69,17.69 0 0,1 17.69,0Z\" style=\"opacity: 0.7; stroke-width: 2px; fill: rgb(176, 190, 197); fill-opacity: 1; stroke: rgb(47, 79, 79); stroke-opacity: 1;\"/><path class=\"point plotly-customdata\" transform=\"translate(439.01,321.87)\" d=\"M16.1,0A16.1,16.1 0 1,1 0,-16.1A16.1,16.1 0 0,1 16.1,0Z\" style=\"opacity: 0.7; stroke-width: 2px; fill: rgb(176, 190, 197); fill-opacity: 1; stroke: rgb(47, 79, 79); stroke-opacity: 1;\"/><path class=\"point plotly-customdata\" transform=\"translate(142.08,80.19)\" d=\"M15.82,0A15.82,15.82 0 1,1 0,-15.82A15.82,15.82 0 0,1 15.82,0Z\" style=\"opacity: 0.7; stroke-width: 2px; fill: rgb(176, 190, 197); fill-opacity: 1; stroke: rgb(47, 79, 79); stroke-opacity: 1;\"/><path class=\"point plotly-customdata\" transform=\"translate(237.09,442.96)\" d=\"M15.39,0A15.39,15.39 0 1,1 0,-15.39A15.39,15.39 0 0,1 15.39,0Z\" style=\"opacity: 0.7; stroke-width: 2px; fill: rgb(176, 190, 197); fill-opacity: 1; stroke: rgb(47, 79, 79); stroke-opacity: 1;\"/><path class=\"point plotly-customdata\" transform=\"translate(159.97,312.35)\" d=\"M14.95,0A14.95,14.95 0 1,1 0,-14.95A14.95,14.95 0 0,1 14.95,0Z\" style=\"opacity: 0.7; stroke-width: 2px; fill: rgb(176, 190, 197); fill-opacity: 1; stroke: rgb(47, 79, 79); stroke-opacity: 1;\"/><path class=\"point plotly-customdata\" transform=\"translate(237.49,431.45)\" d=\"M14.95,0A14.95,14.95 0 1,1 0,-14.95A14.95,14.95 0 0,1 14.95,0Z\" style=\"opacity: 0.7; stroke-width: 2px; fill: rgb(176, 190, 197); fill-opacity: 1; stroke: rgb(47, 79, 79); stroke-opacity: 1;\"/><path class=\"point plotly-customdata\" transform=\"translate(20.31,171.25)\" d=\"M14.8,0A14.8,14.8 0 1,1 0,-14.8A14.8,14.8 0 0,1 14.8,0Z\" style=\"opacity: 0.7; stroke-width: 2px; fill: rgb(176, 190, 197); fill-opacity: 1; stroke: rgb(47, 79, 79); stroke-opacity: 1;\"/><path class=\"point plotly-customdata\" transform=\"translate(22.47,168.93)\" d=\"M12.86,0A12.86,12.86 0 1,1 0,-12.86A12.86,12.86 0 0,1 12.86,0Z\" style=\"opacity: 0.7; stroke-width: 2px; fill: rgb(176, 190, 197); fill-opacity: 1; stroke: rgb(47, 79, 79); stroke-opacity: 1;\"/><path class=\"point plotly-customdata\" transform=\"translate(165.69,183.11)\" d=\"M12.51,0A12.51,12.51 0 1,1 0,-12.51A12.51,12.51 0 0,1 12.51,0Z\" style=\"opacity: 0.7; stroke-width: 2px; fill: rgb(176, 190, 197); fill-opacity: 1; stroke: rgb(47, 79, 79); stroke-opacity: 1;\"/><path class=\"point plotly-customdata\" transform=\"translate(158.91,310.99)\" d=\"M11.58,0A11.58,11.58 0 1,1 0,-11.58A11.58,11.58 0 0,1 11.58,0Z\" style=\"opacity: 0.7; stroke-width: 2px; fill: rgb(176, 190, 197); fill-opacity: 1; stroke: rgb(47, 79, 79); stroke-opacity: 1;\"/><path class=\"point plotly-customdata\" transform=\"translate(25.23,166.48)\" d=\"M11.58,0A11.58,11.58 0 1,1 0,-11.58A11.58,11.58 0 0,1 11.58,0Z\" style=\"opacity: 0.7; stroke-width: 2px; fill: rgb(176, 190, 197); fill-opacity: 1; stroke: rgb(47, 79, 79); stroke-opacity: 1;\"/><path class=\"point plotly-customdata\" transform=\"translate(166.47,181.21)\" d=\"M11.58,0A11.58,11.58 0 1,1 0,-11.58A11.58,11.58 0 0,1 11.58,0Z\" style=\"opacity: 0.7; stroke-width: 2px; fill: rgb(176, 190, 197); fill-opacity: 1; stroke: rgb(47, 79, 79); stroke-opacity: 1;\"/><path class=\"point plotly-customdata\" transform=\"translate(64.39,388.15)\" d=\"M11.38,0A11.38,11.38 0 1,1 0,-11.38A11.38,11.38 0 0,1 11.38,0Z\" style=\"opacity: 0.7; stroke-width: 2px; fill: rgb(176, 190, 197); fill-opacity: 1; stroke: rgb(47, 79, 79); stroke-opacity: 1;\"/><path class=\"point plotly-customdata\" transform=\"translate(166.81,189.22)\" d=\"M11.19,0A11.19,11.19 0 1,1 0,-11.19A11.19,11.19 0 0,1 11.19,0Z\" style=\"opacity: 0.7; stroke-width: 2px; fill: rgb(176, 190, 197); fill-opacity: 1; stroke: rgb(47, 79, 79); stroke-opacity: 1;\"/><path class=\"point plotly-customdata\" transform=\"translate(159.65,311.97)\" d=\"M11.19,0A11.19,11.19 0 1,1 0,-11.19A11.19,11.19 0 0,1 11.19,0Z\" style=\"opacity: 0.7; stroke-width: 2px; fill: rgb(176, 190, 197); fill-opacity: 1; stroke: rgb(47, 79, 79); stroke-opacity: 1;\"/><path class=\"point plotly-customdata\" transform=\"translate(67.38,377.16)\" d=\"M10.99,0A10.99,10.99 0 1,1 0,-10.99A10.99,10.99 0 0,1 10.99,0Z\" style=\"opacity: 0.7; stroke-width: 2px; fill: rgb(176, 190, 197); fill-opacity: 1; stroke: rgb(47, 79, 79); stroke-opacity: 1;\"/><path class=\"point plotly-customdata\" transform=\"translate(231.5,403.31)\" d=\"M10.78,0A10.78,10.78 0 1,1 0,-10.78A10.78,10.78 0 0,1 10.78,0Z\" style=\"opacity: 0.7; stroke-width: 2px; fill: rgb(176, 190, 197); fill-opacity: 1; stroke: rgb(47, 79, 79); stroke-opacity: 1;\"/><path class=\"point plotly-customdata\" transform=\"translate(122.44,138.67)\" d=\"M10.78,0A10.78,10.78 0 1,1 0,-10.78A10.78,10.78 0 0,1 10.78,0Z\" style=\"opacity: 0.7; stroke-width: 2px; fill: rgb(176, 190, 197); fill-opacity: 1; stroke: rgb(47, 79, 79); stroke-opacity: 1;\"/><path class=\"point plotly-customdata\" transform=\"translate(242.43,48.13)\" d=\"M10.57,0A10.57,10.57 0 1,1 0,-10.57A10.57,10.57 0 0,1 10.57,0Z\" style=\"opacity: 0.7; stroke-width: 2px; fill: rgb(176, 190, 197); fill-opacity: 1; stroke: rgb(47, 79, 79); stroke-opacity: 1;\"/><path class=\"point plotly-customdata\" transform=\"translate(123.5,137.33)\" d=\"M10.57,0A10.57,10.57 0 1,1 0,-10.57A10.57,10.57 0 0,1 10.57,0Z\" style=\"opacity: 0.7; stroke-width: 2px; fill: rgb(176, 190, 197); fill-opacity: 1; stroke: rgb(47, 79, 79); stroke-opacity: 1;\"/><path class=\"point plotly-customdata\" transform=\"translate(14.66,176.19)\" d=\"M10.36,0A10.36,10.36 0 1,1 0,-10.36A10.36,10.36 0 0,1 10.36,0Z\" style=\"opacity: 0.7; stroke-width: 2px; fill: rgb(176, 190, 197); fill-opacity: 1; stroke: rgb(47, 79, 79); stroke-opacity: 1;\"/><path class=\"point plotly-customdata\" transform=\"translate(229.87,396.94)\" d=\"M9.92,0A9.92,9.92 0 1,1 0,-9.92A9.92,9.92 0 0,1 9.92,0Z\" style=\"opacity: 0.7; stroke-width: 2px; fill: rgb(176, 190, 197); fill-opacity: 1; stroke: rgb(47, 79, 79); stroke-opacity: 1;\"/><path class=\"point plotly-customdata\" transform=\"translate(140.55,78.26)\" d=\"M9.92,0A9.92,9.92 0 1,1 0,-9.92A9.92,9.92 0 0,1 9.92,0Z\" style=\"opacity: 0.7; stroke-width: 2px; fill: rgb(176, 190, 197); fill-opacity: 1; stroke: rgb(47, 79, 79); stroke-opacity: 1;\"/><path class=\"point plotly-customdata\" transform=\"translate(69.01,385.87)\" d=\"M9.69,0A9.69,9.69 0 1,1 0,-9.69A9.69,9.69 0 0,1 9.69,0Z\" style=\"opacity: 0.7; stroke-width: 2px; fill: rgb(176, 190, 197); fill-opacity: 1; stroke: rgb(47, 79, 79); stroke-opacity: 1;\"/><path class=\"point plotly-customdata\" transform=\"translate(167.51,196.45)\" d=\"M9.45,0A9.45,9.45 0 1,1 0,-9.45A9.45,9.45 0 0,1 9.45,0Z\" style=\"opacity: 0.7; stroke-width: 2px; fill: rgb(176, 190, 197); fill-opacity: 1; stroke: rgb(47, 79, 79); stroke-opacity: 1;\"/><path class=\"point plotly-customdata\" transform=\"translate(241.81,426.88)\" d=\"M8.97,0A8.97,8.97 0 1,1 0,-8.97A8.97,8.97 0 0,1 8.97,0Z\" style=\"opacity: 0.7; stroke-width: 2px; fill: rgb(176, 190, 197); fill-opacity: 1; stroke: rgb(47, 79, 79); stroke-opacity: 1;\"/><path class=\"point plotly-customdata\" transform=\"translate(234.7,413.35)\" d=\"M8.72,0A8.72,8.72 0 1,1 0,-8.72A8.72,8.72 0 0,1 8.72,0Z\" style=\"opacity: 0.7; stroke-width: 2px; fill: rgb(176, 190, 197); fill-opacity: 1; stroke: rgb(47, 79, 79); stroke-opacity: 1;\"/><path class=\"point plotly-customdata\" transform=\"translate(233.04,400.94)\" d=\"M8.46,0A8.46,8.46 0 1,1 0,-8.46A8.46,8.46 0 0,1 8.46,0Z\" style=\"opacity: 0.7; stroke-width: 2px; fill: rgb(176, 190, 197); fill-opacity: 1; stroke: rgb(47, 79, 79); stroke-opacity: 1;\"/><path class=\"point plotly-customdata\" transform=\"translate(170.71,192.45)\" d=\"M8.46,0A8.46,8.46 0 1,1 0,-8.46A8.46,8.46 0 0,1 8.46,0Z\" style=\"opacity: 0.7; stroke-width: 2px; fill: rgb(176, 190, 197); fill-opacity: 1; stroke: rgb(47, 79, 79); stroke-opacity: 1;\"/><path class=\"point plotly-customdata\" transform=\"translate(229.09,394.6)\" d=\"M7.91,0A7.91,7.91 0 1,1 0,-7.91A7.91,7.91 0 0,1 7.91,0Z\" style=\"opacity: 0.7; stroke-width: 2px; fill: rgb(176, 190, 197); fill-opacity: 1; stroke: rgb(47, 79, 79); stroke-opacity: 1;\"/><path class=\"point plotly-customdata\" transform=\"translate(236.45,438.24)\" d=\"M7.91,0A7.91,7.91 0 1,1 0,-7.91A7.91,7.91 0 0,1 7.91,0Z\" style=\"opacity: 0.7; stroke-width: 2px; fill: rgb(176, 190, 197); fill-opacity: 1; stroke: rgb(47, 79, 79); stroke-opacity: 1;\"/><path class=\"point plotly-customdata\" transform=\"translate(67.68,387.08)\" d=\"M7.62,0A7.62,7.62 0 1,1 0,-7.62A7.62,7.62 0 0,1 7.62,0Z\" style=\"opacity: 0.7; stroke-width: 2px; fill: rgb(176, 190, 197); fill-opacity: 1; stroke: rgb(47, 79, 79); stroke-opacity: 1;\"/><path class=\"point plotly-customdata\" transform=\"translate(167.38,198.63)\" d=\"M7.32,0A7.32,7.32 0 1,1 0,-7.32A7.32,7.32 0 0,1 7.32,0Z\" style=\"opacity: 0.7; stroke-width: 2px; fill: rgb(176, 190, 197); fill-opacity: 1; stroke: rgb(47, 79, 79); stroke-opacity: 1;\"/><path class=\"point plotly-customdata\" transform=\"translate(66.16,394.13)\" d=\"M7.32,0A7.32,7.32 0 1,1 0,-7.32A7.32,7.32 0 0,1 7.32,0Z\" style=\"opacity: 0.7; stroke-width: 2px; fill: rgb(176, 190, 197); fill-opacity: 1; stroke: rgb(47, 79, 79); stroke-opacity: 1;\"/><path class=\"point plotly-customdata\" transform=\"translate(239.91,424.06)\" d=\"M7.32,0A7.32,7.32 0 1,1 0,-7.32A7.32,7.32 0 0,1 7.32,0Z\" style=\"opacity: 0.7; stroke-width: 2px; fill: rgb(176, 190, 197); fill-opacity: 1; stroke: rgb(47, 79, 79); stroke-opacity: 1;\"/><path class=\"point plotly-customdata\" transform=\"translate(28.07,163.12)\" d=\"M7.32,0A7.32,7.32 0 1,1 0,-7.32A7.32,7.32 0 0,1 7.32,0Z\" style=\"opacity: 0.7; stroke-width: 2px; fill: rgb(176, 190, 197); fill-opacity: 1; stroke: rgb(47, 79, 79); stroke-opacity: 1;\"/><path class=\"point plotly-customdata\" transform=\"translate(231.88,415.6)\" d=\"M7.32,0A7.32,7.32 0 1,1 0,-7.32A7.32,7.32 0 0,1 7.32,0Z\" style=\"opacity: 0.7; stroke-width: 2px; fill: rgb(176, 190, 197); fill-opacity: 1; stroke: rgb(47, 79, 79); stroke-opacity: 1;\"/><path class=\"point plotly-customdata\" transform=\"translate(243.77,46.43)\" d=\"M7.32,0A7.32,7.32 0 1,1 0,-7.32A7.32,7.32 0 0,1 7.32,0Z\" style=\"opacity: 0.7; stroke-width: 2px; fill: rgb(176, 190, 197); fill-opacity: 1; stroke: rgb(47, 79, 79); stroke-opacity: 1;\"/><path class=\"point plotly-customdata\" transform=\"translate(68.39,372.51)\" d=\"M7.01,0A7.01,7.01 0 1,1 0,-7.01A7.01,7.01 0 0,1 7.01,0Z\" style=\"opacity: 0.7; stroke-width: 2px; fill: rgb(176, 190, 197); fill-opacity: 1; stroke: rgb(47, 79, 79); stroke-opacity: 1;\"/><path class=\"point plotly-customdata\" transform=\"translate(64.24,393.6)\" d=\"M7.01,0A7.01,7.01 0 1,1 0,-7.01A7.01,7.01 0 0,1 7.01,0Z\" style=\"opacity: 0.7; stroke-width: 2px; fill: rgb(176, 190, 197); fill-opacity: 1; stroke: rgb(47, 79, 79); stroke-opacity: 1;\"/><path class=\"point plotly-customdata\" transform=\"translate(242.59,429.41)\" d=\"M7.01,0A7.01,7.01 0 1,1 0,-7.01A7.01,7.01 0 0,1 7.01,0Z\" style=\"opacity: 0.7; stroke-width: 2px; fill: rgb(176, 190, 197); fill-opacity: 1; stroke: rgb(47, 79, 79); stroke-opacity: 1;\"/></g><g class=\"text\"/></g></g></g><g class=\"overplot\"/><path class=\"xlines-above crisp\" d=\"M0,0\" style=\"fill: none;\"/><path class=\"ylines-above crisp\" d=\"M0,0\" style=\"fill: none;\"/><g class=\"overlines-above\"/><g class=\"xaxislayer-above\"/><g class=\"yaxislayer-above\"/><g class=\"overaxes-above\"/></g></g><g class=\"polarlayer\"/><g class=\"smithlayer\"/><g class=\"ternarylayer\"/><g class=\"geolayer\"/><g class=\"funnelarealayer\"/><g class=\"pielayer\"/><g class=\"iciclelayer\"/><g class=\"treemaplayer\"/><g class=\"sunburstlayer\"/><g class=\"glimages\"/><defs id=\"topdefs-a05c4e\"><g class=\"clips\"/></defs><g class=\"layer-above\"><g class=\"imagelayer\"/><g class=\"shapelayer\"><path data-index=\"0\" fill-rule=\"evenodd\" d=\"M325,516L325,60\" clip-path=\"url(#clipa05c4exy)\" style=\"opacity: 0.3; stroke: rgb(207, 216, 220); stroke-opacity: 1; fill: rgb(0, 0, 0); fill-opacity: 1; stroke-width: 2px;\"/><path data-index=\"1\" fill-rule=\"evenodd\" d=\"M80,288L570,288\" clip-path=\"url(#clipa05c4exy)\" style=\"opacity: 0.3; stroke: rgb(158, 158, 158); stroke-opacity: 1; fill: rgb(0, 0, 0); fill-opacity: 1; stroke-width: 2px;\"/></g></g><g class=\"infolayer\"><g class=\"slider-container\" style=\"cursor: ew-resize;\"><g class=\"slider-group\" transform=\"translate(80,566)\"><text class=\"slider-label\" text-anchor=\"left\" data-notex=\"1\" x=\"0\" y=\"15.600000000000001\" style=\"font-family: 'Open Sans', verdana, arial, sans-serif; font-size: 12px; fill: rgb(36, 36, 36); fill-opacity: 1; white-space: pre;\">Topic 0</text><rect class=\"slider-rail-rect\" width=\"474\" height=\"5\" rx=\"2\" ry=\"2\" shape-rendering=\"crispEdges\" transform=\"translate(8,32.5)\" style=\"stroke: rgb(190, 200, 217); stroke-opacity: 1; fill: rgb(248, 250, 252); fill-opacity: 1; stroke-width: 1px;\"/><g class=\"slider-labels\"><g class=\"slider-label-group\" transform=\"translate(10,72.6)\"><text class=\"slider-label\" text-anchor=\"middle\" data-notex=\"1\" x=\"0\" y=\"0\" style=\"font-family: 'Open Sans', verdana, arial, sans-serif; font-size: 12px; fill: rgb(36, 36, 36); fill-opacity: 1; white-space: pre;\">Topic 0</text></g><g class=\"slider-label-group\" transform=\"translate(72.66666666666666,72.6)\"><text class=\"slider-label\" text-anchor=\"middle\" data-notex=\"1\" x=\"0\" y=\"0\" style=\"font-family: 'Open Sans', verdana, arial, sans-serif; font-size: 12px; fill: rgb(36, 36, 36); fill-opacity: 1; white-space: pre;\">Topic 6</text></g><g class=\"slider-label-group\" transform=\"translate(135.33333333333331,72.6)\"><text class=\"slider-label\" text-anchor=\"middle\" data-notex=\"1\" x=\"0\" y=\"0\" style=\"font-family: 'Open Sans', verdana, arial, sans-serif; font-size: 12px; fill: rgb(36, 36, 36); fill-opacity: 1; white-space: pre;\">Topic 12</text></g><g class=\"slider-label-group\" transform=\"translate(198,72.6)\"><text class=\"slider-label\" text-anchor=\"middle\" data-notex=\"1\" x=\"0\" y=\"0\" style=\"font-family: 'Open Sans', verdana, arial, sans-serif; font-size: 12px; fill: rgb(36, 36, 36); fill-opacity: 1; white-space: pre;\">Topic 18</text></g><g class=\"slider-label-group\" transform=\"translate(260.66666666666663,72.6)\"><text class=\"slider-label\" text-anchor=\"middle\" data-notex=\"1\" x=\"0\" y=\"0\" style=\"font-family: 'Open Sans', verdana, arial, sans-serif; font-size: 12px; fill: rgb(36, 36, 36); fill-opacity: 1; white-space: pre;\">Topic 24</text></g><g class=\"slider-label-group\" transform=\"translate(323.3333333333333,72.6)\"><text class=\"slider-label\" text-anchor=\"middle\" data-notex=\"1\" x=\"0\" y=\"0\" style=\"font-family: 'Open Sans', verdana, arial, sans-serif; font-size: 12px; fill: rgb(36, 36, 36); fill-opacity: 1; white-space: pre;\">Topic 30</text></g><g class=\"slider-label-group\" transform=\"translate(386,72.6)\"><text class=\"slider-label\" text-anchor=\"middle\" data-notex=\"1\" x=\"0\" y=\"0\" style=\"font-family: 'Open Sans', verdana, arial, sans-serif; font-size: 12px; fill: rgb(36, 36, 36); fill-opacity: 1; white-space: pre;\">Topic 36</text></g><g class=\"slider-label-group\" transform=\"translate(448.6666666666667,72.6)\"><text class=\"slider-label\" text-anchor=\"middle\" data-notex=\"1\" x=\"0\" y=\"0\" style=\"font-family: 'Open Sans', verdana, arial, sans-serif; font-size: 12px; fill: rgb(36, 36, 36); fill-opacity: 1; white-space: pre;\">Topic 42</text></g></g><rect class=\"slider-tick-rect\" width=\"1px\" shape-rendering=\"crispEdges\" height=\"7\" transform=\"translate(9.5,50)\" style=\"fill: rgb(51, 51, 51); fill-opacity: 1;\"/><rect class=\"slider-tick-rect\" width=\"1px\" shape-rendering=\"crispEdges\" height=\"4\" transform=\"translate(19.944444444444443,50)\" style=\"fill: rgb(51, 51, 51); fill-opacity: 1;\"/><rect class=\"slider-tick-rect\" width=\"1px\" shape-rendering=\"crispEdges\" height=\"4\" transform=\"translate(30.38888888888889,50)\" style=\"fill: rgb(51, 51, 51); fill-opacity: 1;\"/><rect class=\"slider-tick-rect\" width=\"1px\" shape-rendering=\"crispEdges\" height=\"4\" transform=\"translate(40.83333333333333,50)\" style=\"fill: rgb(51, 51, 51); fill-opacity: 1;\"/><rect class=\"slider-tick-rect\" width=\"1px\" shape-rendering=\"crispEdges\" height=\"4\" transform=\"translate(51.27777777777778,50)\" style=\"fill: rgb(51, 51, 51); fill-opacity: 1;\"/><rect class=\"slider-tick-rect\" width=\"1px\" shape-rendering=\"crispEdges\" height=\"4\" transform=\"translate(61.72222222222222,50)\" style=\"fill: rgb(51, 51, 51); fill-opacity: 1;\"/><rect class=\"slider-tick-rect\" width=\"1px\" shape-rendering=\"crispEdges\" height=\"7\" transform=\"translate(72.16666666666666,50)\" style=\"fill: rgb(51, 51, 51); fill-opacity: 1;\"/><rect class=\"slider-tick-rect\" width=\"1px\" shape-rendering=\"crispEdges\" height=\"4\" transform=\"translate(82.61111111111111,50)\" style=\"fill: rgb(51, 51, 51); fill-opacity: 1;\"/><rect class=\"slider-tick-rect\" width=\"1px\" shape-rendering=\"crispEdges\" height=\"4\" transform=\"translate(93.05555555555556,50)\" style=\"fill: rgb(51, 51, 51); fill-opacity: 1;\"/><rect class=\"slider-tick-rect\" width=\"1px\" shape-rendering=\"crispEdges\" height=\"4\" transform=\"translate(103.5,50)\" style=\"fill: rgb(51, 51, 51); fill-opacity: 1;\"/><rect class=\"slider-tick-rect\" width=\"1px\" shape-rendering=\"crispEdges\" height=\"4\" transform=\"translate(113.94444444444444,50)\" style=\"fill: rgb(51, 51, 51); fill-opacity: 1;\"/><rect class=\"slider-tick-rect\" width=\"1px\" shape-rendering=\"crispEdges\" height=\"4\" transform=\"translate(124.38888888888889,50)\" style=\"fill: rgb(51, 51, 51); fill-opacity: 1;\"/><rect class=\"slider-tick-rect\" width=\"1px\" shape-rendering=\"crispEdges\" height=\"7\" transform=\"translate(134.83333333333331,50)\" style=\"fill: rgb(51, 51, 51); fill-opacity: 1;\"/><rect class=\"slider-tick-rect\" width=\"1px\" shape-rendering=\"crispEdges\" height=\"4\" transform=\"translate(145.27777777777777,50)\" style=\"fill: rgb(51, 51, 51); fill-opacity: 1;\"/><rect class=\"slider-tick-rect\" width=\"1px\" shape-rendering=\"crispEdges\" height=\"4\" transform=\"translate(155.72222222222223,50)\" style=\"fill: rgb(51, 51, 51); fill-opacity: 1;\"/><rect class=\"slider-tick-rect\" width=\"1px\" shape-rendering=\"crispEdges\" height=\"4\" transform=\"translate(166.16666666666666,50)\" style=\"fill: rgb(51, 51, 51); fill-opacity: 1;\"/><rect class=\"slider-tick-rect\" width=\"1px\" shape-rendering=\"crispEdges\" height=\"4\" transform=\"translate(176.61111111111111,50)\" style=\"fill: rgb(51, 51, 51); fill-opacity: 1;\"/><rect class=\"slider-tick-rect\" width=\"1px\" shape-rendering=\"crispEdges\" height=\"4\" transform=\"translate(187.05555555555554,50)\" style=\"fill: rgb(51, 51, 51); fill-opacity: 1;\"/><rect class=\"slider-tick-rect\" width=\"1px\" shape-rendering=\"crispEdges\" height=\"7\" transform=\"translate(197.5,50)\" style=\"fill: rgb(51, 51, 51); fill-opacity: 1;\"/><rect class=\"slider-tick-rect\" width=\"1px\" shape-rendering=\"crispEdges\" height=\"4\" transform=\"translate(207.94444444444446,50)\" style=\"fill: rgb(51, 51, 51); fill-opacity: 1;\"/><rect class=\"slider-tick-rect\" width=\"1px\" shape-rendering=\"crispEdges\" height=\"4\" transform=\"translate(218.38888888888889,50)\" style=\"fill: rgb(51, 51, 51); fill-opacity: 1;\"/><rect class=\"slider-tick-rect\" width=\"1px\" shape-rendering=\"crispEdges\" height=\"4\" transform=\"translate(228.83333333333334,50)\" style=\"fill: rgb(51, 51, 51); fill-opacity: 1;\"/><rect class=\"slider-tick-rect\" width=\"1px\" shape-rendering=\"crispEdges\" height=\"4\" transform=\"translate(239.27777777777777,50)\" style=\"fill: rgb(51, 51, 51); fill-opacity: 1;\"/><rect class=\"slider-tick-rect\" width=\"1px\" shape-rendering=\"crispEdges\" height=\"4\" transform=\"translate(249.7222222222222,50)\" style=\"fill: rgb(51, 51, 51); fill-opacity: 1;\"/><rect class=\"slider-tick-rect\" width=\"1px\" shape-rendering=\"crispEdges\" height=\"7\" transform=\"translate(260.16666666666663,50)\" style=\"fill: rgb(51, 51, 51); fill-opacity: 1;\"/><rect class=\"slider-tick-rect\" width=\"1px\" shape-rendering=\"crispEdges\" height=\"4\" transform=\"translate(270.61111111111114,50)\" style=\"fill: rgb(51, 51, 51); fill-opacity: 1;\"/><rect class=\"slider-tick-rect\" width=\"1px\" shape-rendering=\"crispEdges\" height=\"4\" transform=\"translate(281.05555555555554,50)\" style=\"fill: rgb(51, 51, 51); fill-opacity: 1;\"/><rect class=\"slider-tick-rect\" width=\"1px\" shape-rendering=\"crispEdges\" height=\"4\" transform=\"translate(291.5,50)\" style=\"fill: rgb(51, 51, 51); fill-opacity: 1;\"/><rect class=\"slider-tick-rect\" width=\"1px\" shape-rendering=\"crispEdges\" height=\"4\" transform=\"translate(301.94444444444446,50)\" style=\"fill: rgb(51, 51, 51); fill-opacity: 1;\"/><rect class=\"slider-tick-rect\" width=\"1px\" shape-rendering=\"crispEdges\" height=\"4\" transform=\"translate(312.3888888888889,50)\" style=\"fill: rgb(51, 51, 51); fill-opacity: 1;\"/><rect class=\"slider-tick-rect\" width=\"1px\" shape-rendering=\"crispEdges\" height=\"7\" transform=\"translate(322.8333333333333,50)\" style=\"fill: rgb(51, 51, 51); fill-opacity: 1;\"/><rect class=\"slider-tick-rect\" width=\"1px\" shape-rendering=\"crispEdges\" height=\"4\" transform=\"translate(333.27777777777777,50)\" style=\"fill: rgb(51, 51, 51); fill-opacity: 1;\"/><rect class=\"slider-tick-rect\" width=\"1px\" shape-rendering=\"crispEdges\" height=\"4\" transform=\"translate(343.72222222222223,50)\" style=\"fill: rgb(51, 51, 51); fill-opacity: 1;\"/><rect class=\"slider-tick-rect\" width=\"1px\" shape-rendering=\"crispEdges\" height=\"4\" transform=\"translate(354.16666666666663,50)\" style=\"fill: rgb(51, 51, 51); fill-opacity: 1;\"/><rect class=\"slider-tick-rect\" width=\"1px\" shape-rendering=\"crispEdges\" height=\"4\" transform=\"translate(364.6111111111111,50)\" style=\"fill: rgb(51, 51, 51); fill-opacity: 1;\"/><rect class=\"slider-tick-rect\" width=\"1px\" shape-rendering=\"crispEdges\" height=\"4\" transform=\"translate(375.05555555555554,50)\" style=\"fill: rgb(51, 51, 51); fill-opacity: 1;\"/><rect class=\"slider-tick-rect\" width=\"1px\" shape-rendering=\"crispEdges\" height=\"7\" transform=\"translate(385.5,50)\" style=\"fill: rgb(51, 51, 51); fill-opacity: 1;\"/><rect class=\"slider-tick-rect\" width=\"1px\" shape-rendering=\"crispEdges\" height=\"4\" transform=\"translate(395.9444444444444,50)\" style=\"fill: rgb(51, 51, 51); fill-opacity: 1;\"/><rect class=\"slider-tick-rect\" width=\"1px\" shape-rendering=\"crispEdges\" height=\"4\" transform=\"translate(406.3888888888889,50)\" style=\"fill: rgb(51, 51, 51); fill-opacity: 1;\"/><rect class=\"slider-tick-rect\" width=\"1px\" shape-rendering=\"crispEdges\" height=\"4\" transform=\"translate(416.83333333333337,50)\" style=\"fill: rgb(51, 51, 51); fill-opacity: 1;\"/><rect class=\"slider-tick-rect\" width=\"1px\" shape-rendering=\"crispEdges\" height=\"4\" transform=\"translate(427.27777777777777,50)\" style=\"fill: rgb(51, 51, 51); fill-opacity: 1;\"/><rect class=\"slider-tick-rect\" width=\"1px\" shape-rendering=\"crispEdges\" height=\"4\" transform=\"translate(437.72222222222223,50)\" style=\"fill: rgb(51, 51, 51); fill-opacity: 1;\"/><rect class=\"slider-tick-rect\" width=\"1px\" shape-rendering=\"crispEdges\" height=\"7\" transform=\"translate(448.1666666666667,50)\" style=\"fill: rgb(51, 51, 51); fill-opacity: 1;\"/><rect class=\"slider-tick-rect\" width=\"1px\" shape-rendering=\"crispEdges\" height=\"4\" transform=\"translate(458.61111111111114,50)\" style=\"fill: rgb(51, 51, 51); fill-opacity: 1;\"/><rect class=\"slider-tick-rect\" width=\"1px\" shape-rendering=\"crispEdges\" height=\"4\" transform=\"translate(469.05555555555554,50)\" style=\"fill: rgb(51, 51, 51); fill-opacity: 1;\"/><rect class=\"slider-tick-rect\" width=\"1px\" shape-rendering=\"crispEdges\" height=\"4\" transform=\"translate(479.5,50)\" style=\"fill: rgb(51, 51, 51); fill-opacity: 1;\"/><rect class=\"slider-rail-touch-rect\" width=\"490\" height=\"47\" opacity=\"0\" transform=\"translate(0,25)\" style=\"pointer-events: all; fill: rgb(248, 250, 252); fill-opacity: 1;\"/><rect class=\"slider-grip-rect\" width=\"20\" height=\"20\" rx=\"10\" ry=\"10\" transform=\"translate(0,25)\" style=\"pointer-events: all; stroke: rgb(190, 200, 217); stroke-opacity: 1; fill: rgb(248, 250, 252); fill-opacity: 1; stroke-width: 1px;\"/></g></g><g class=\"g-gtitle\"><text class=\"gtitle\" x=\"325\" y=\"32.5\" text-anchor=\"middle\" dy=\"0.7em\" style=\"font-family: 'Open Sans', verdana, arial, sans-serif; font-size: 22px; fill: rgb(0, 0, 0); opacity: 1; font-weight: normal; white-space: pre;\"><tspan style=\"font-weight:bold\">Intertopic Distance Map</tspan></text></g><g class=\"annotation\" data-index=\"0\" style=\"opacity: 1;\"><g class=\"annotation-text-g\" transform=\"rotate(0,80,278)\"><g class=\"cursor-pointer\" transform=\"translate(70,269)\"><rect class=\"bg\" x=\"0.5\" y=\"0.5\" width=\"20\" height=\"18\" style=\"stroke-width: 1px; stroke: rgb(0, 0, 0); stroke-opacity: 0; fill: rgb(0, 0, 0); fill-opacity: 0;\"/><text class=\"annotation-text\" text-anchor=\"middle\" x=\"10.4375\" y=\"14\" style=\"font-family: 'Open Sans', verdana, arial, sans-serif; font-size: 12px; fill: rgb(36, 36, 36); fill-opacity: 1; white-space: pre;\">D1</text></g></g></g><g class=\"annotation\" data-index=\"1\" style=\"opacity: 1;\"><g class=\"annotation-text-g\" transform=\"rotate(0,335,60)\"><g class=\"cursor-pointer\" transform=\"translate(325,51)\"><rect class=\"bg\" x=\"0.5\" y=\"0.5\" width=\"20\" height=\"18\" style=\"stroke-width: 1px; stroke: rgb(0, 0, 0); stroke-opacity: 0; fill: rgb(0, 0, 0); fill-opacity: 0;\"/><text class=\"annotation-text\" text-anchor=\"middle\" x=\"10.4375\" y=\"14\" style=\"font-family: 'Open Sans', verdana, arial, sans-serif; font-size: 12px; fill: rgb(36, 36, 36); fill-opacity: 1; white-space: pre;\">D2</text></g></g></g></g></svg>"
     },
     "metadata": {},
     "output_type": "display_data"
    }
   ],
   "source": [
    "model.visualize_topics()"
   ]
  },
  {
   "cell_type": "code",
   "execution_count": 6,
   "metadata": {},
   "outputs": [
    {
     "data": {
      "image/svg+xml": "<svg class=\"main-svg\" xmlns=\"http://www.w3.org/2000/svg\" xmlns:xlink=\"http://www.w3.org/1999/xlink\" width=\"1000\" height=\"500\" style=\"\" viewBox=\"0 0 1000 500\"><rect x=\"0\" y=\"0\" width=\"1000\" height=\"500\" style=\"fill: rgb(255, 255, 255); fill-opacity: 1;\"/><defs id=\"defs-66004f\"><g class=\"clips\"><clipPath id=\"clip66004fxyplot\" class=\"plotclip\"><rect width=\"147\" height=\"127.99999999999997\"/></clipPath><clipPath id=\"clip66004fx2y2plot\" class=\"plotclip\"><rect width=\"147\" height=\"127.99999999999997\"/></clipPath><clipPath id=\"clip66004fx3y3plot\" class=\"plotclip\"><rect width=\"147.00000000000003\" height=\"127.99999999999997\"/></clipPath><clipPath id=\"clip66004fx4y4plot\" class=\"plotclip\"><rect width=\"147.00000000000003\" height=\"127.99999999999997\"/></clipPath><clipPath id=\"clip66004fx5y5plot\" class=\"plotclip\"><rect width=\"147\" height=\"128\"/></clipPath><clipPath id=\"clip66004fx6y6plot\" class=\"plotclip\"><rect width=\"147\" height=\"128\"/></clipPath><clipPath id=\"clip66004fx7y7plot\" class=\"plotclip\"><rect width=\"147.00000000000003\" height=\"128\"/></clipPath><clipPath id=\"clip66004fx8y8plot\" class=\"plotclip\"><rect width=\"147.00000000000003\" height=\"128\"/></clipPath><clipPath class=\"axesclip\" id=\"clip66004fx\"><rect x=\"80\" y=\"0\" width=\"147\" height=\"500\"/></clipPath><clipPath class=\"axesclip\" id=\"clip66004fy\"><rect x=\"0\" y=\"100\" width=\"1000\" height=\"127.99999999999997\"/></clipPath><clipPath class=\"axesclip\" id=\"clip66004fxy\"><rect x=\"80\" y=\"100\" width=\"147\" height=\"127.99999999999997\"/></clipPath><clipPath class=\"axesclip\" id=\"clip66004fy2\"><rect x=\"0\" y=\"100\" width=\"1000\" height=\"127.99999999999997\"/></clipPath><clipPath class=\"axesclip\" id=\"clip66004fxy2\"><rect x=\"80\" y=\"100\" width=\"147\" height=\"127.99999999999997\"/></clipPath><clipPath class=\"axesclip\" id=\"clip66004fy3\"><rect x=\"0\" y=\"100\" width=\"1000\" height=\"127.99999999999997\"/></clipPath><clipPath class=\"axesclip\" id=\"clip66004fxy3\"><rect x=\"80\" y=\"100\" width=\"147\" height=\"127.99999999999997\"/></clipPath><clipPath class=\"axesclip\" id=\"clip66004fy4\"><rect x=\"0\" y=\"100\" width=\"1000\" height=\"127.99999999999997\"/></clipPath><clipPath class=\"axesclip\" id=\"clip66004fxy4\"><rect x=\"80\" y=\"100\" width=\"147\" height=\"127.99999999999997\"/></clipPath><clipPath class=\"axesclip\" id=\"clip66004fy5\"><rect x=\"0\" y=\"292\" width=\"1000\" height=\"128\"/></clipPath><clipPath class=\"axesclip\" id=\"clip66004fxy5\"><rect x=\"80\" y=\"292\" width=\"147\" height=\"128\"/></clipPath><clipPath class=\"axesclip\" id=\"clip66004fy6\"><rect x=\"0\" y=\"292\" width=\"1000\" height=\"128\"/></clipPath><clipPath class=\"axesclip\" id=\"clip66004fxy6\"><rect x=\"80\" y=\"292\" width=\"147\" height=\"128\"/></clipPath><clipPath class=\"axesclip\" id=\"clip66004fy7\"><rect x=\"0\" y=\"292\" width=\"1000\" height=\"128\"/></clipPath><clipPath class=\"axesclip\" id=\"clip66004fxy7\"><rect x=\"80\" y=\"292\" width=\"147\" height=\"128\"/></clipPath><clipPath class=\"axesclip\" id=\"clip66004fy8\"><rect x=\"0\" y=\"292\" width=\"1000\" height=\"128\"/></clipPath><clipPath class=\"axesclip\" id=\"clip66004fxy8\"><rect x=\"80\" y=\"292\" width=\"147\" height=\"128\"/></clipPath><clipPath class=\"axesclip\" id=\"clip66004fx2\"><rect x=\"311\" y=\"0\" width=\"147\" height=\"500\"/></clipPath><clipPath class=\"axesclip\" id=\"clip66004fx2y\"><rect x=\"311\" y=\"100\" width=\"147\" height=\"127.99999999999997\"/></clipPath><clipPath class=\"axesclip\" id=\"clip66004fx2y2\"><rect x=\"311\" y=\"100\" width=\"147\" height=\"127.99999999999997\"/></clipPath><clipPath class=\"axesclip\" id=\"clip66004fx2y3\"><rect x=\"311\" y=\"100\" width=\"147\" height=\"127.99999999999997\"/></clipPath><clipPath class=\"axesclip\" id=\"clip66004fx2y4\"><rect x=\"311\" y=\"100\" width=\"147\" height=\"127.99999999999997\"/></clipPath><clipPath class=\"axesclip\" id=\"clip66004fx2y5\"><rect x=\"311\" y=\"292\" width=\"147\" height=\"128\"/></clipPath><clipPath class=\"axesclip\" id=\"clip66004fx2y6\"><rect x=\"311\" y=\"292\" width=\"147\" height=\"128\"/></clipPath><clipPath class=\"axesclip\" id=\"clip66004fx2y7\"><rect x=\"311\" y=\"292\" width=\"147\" height=\"128\"/></clipPath><clipPath class=\"axesclip\" id=\"clip66004fx2y8\"><rect x=\"311\" y=\"292\" width=\"147\" height=\"128\"/></clipPath><clipPath class=\"axesclip\" id=\"clip66004fx3\"><rect x=\"542\" y=\"0\" width=\"147.00000000000003\" height=\"500\"/></clipPath><clipPath class=\"axesclip\" id=\"clip66004fx3y\"><rect x=\"542\" y=\"100\" width=\"147.00000000000003\" height=\"127.99999999999997\"/></clipPath><clipPath class=\"axesclip\" id=\"clip66004fx3y2\"><rect x=\"542\" y=\"100\" width=\"147.00000000000003\" height=\"127.99999999999997\"/></clipPath><clipPath class=\"axesclip\" id=\"clip66004fx3y3\"><rect x=\"542\" y=\"100\" width=\"147.00000000000003\" height=\"127.99999999999997\"/></clipPath><clipPath class=\"axesclip\" id=\"clip66004fx3y4\"><rect x=\"542\" y=\"100\" width=\"147.00000000000003\" height=\"127.99999999999997\"/></clipPath><clipPath class=\"axesclip\" id=\"clip66004fx3y5\"><rect x=\"542\" y=\"292\" width=\"147.00000000000003\" height=\"128\"/></clipPath><clipPath class=\"axesclip\" id=\"clip66004fx3y6\"><rect x=\"542\" y=\"292\" width=\"147.00000000000003\" height=\"128\"/></clipPath><clipPath class=\"axesclip\" id=\"clip66004fx3y7\"><rect x=\"542\" y=\"292\" width=\"147.00000000000003\" height=\"128\"/></clipPath><clipPath class=\"axesclip\" id=\"clip66004fx3y8\"><rect x=\"542\" y=\"292\" width=\"147.00000000000003\" height=\"128\"/></clipPath><clipPath class=\"axesclip\" id=\"clip66004fx4\"><rect x=\"773\" y=\"0\" width=\"147.00000000000003\" height=\"500\"/></clipPath><clipPath class=\"axesclip\" id=\"clip66004fx4y\"><rect x=\"773\" y=\"100\" width=\"147.00000000000003\" height=\"127.99999999999997\"/></clipPath><clipPath class=\"axesclip\" id=\"clip66004fx4y2\"><rect x=\"773\" y=\"100\" width=\"147.00000000000003\" height=\"127.99999999999997\"/></clipPath><clipPath class=\"axesclip\" id=\"clip66004fx4y3\"><rect x=\"773\" y=\"100\" width=\"147.00000000000003\" height=\"127.99999999999997\"/></clipPath><clipPath class=\"axesclip\" id=\"clip66004fx4y4\"><rect x=\"773\" y=\"100\" width=\"147.00000000000003\" height=\"127.99999999999997\"/></clipPath><clipPath class=\"axesclip\" id=\"clip66004fx4y5\"><rect x=\"773\" y=\"292\" width=\"147.00000000000003\" height=\"128\"/></clipPath><clipPath class=\"axesclip\" id=\"clip66004fx4y6\"><rect x=\"773\" y=\"292\" width=\"147.00000000000003\" height=\"128\"/></clipPath><clipPath class=\"axesclip\" id=\"clip66004fx4y7\"><rect x=\"773\" y=\"292\" width=\"147.00000000000003\" height=\"128\"/></clipPath><clipPath class=\"axesclip\" id=\"clip66004fx4y8\"><rect x=\"773\" y=\"292\" width=\"147.00000000000003\" height=\"128\"/></clipPath><clipPath class=\"axesclip\" id=\"clip66004fx5\"><rect x=\"80\" y=\"0\" width=\"147\" height=\"500\"/></clipPath><clipPath class=\"axesclip\" id=\"clip66004fx5y\"><rect x=\"80\" y=\"100\" width=\"147\" height=\"127.99999999999997\"/></clipPath><clipPath class=\"axesclip\" id=\"clip66004fx5y2\"><rect x=\"80\" y=\"100\" width=\"147\" height=\"127.99999999999997\"/></clipPath><clipPath class=\"axesclip\" id=\"clip66004fx5y3\"><rect x=\"80\" y=\"100\" width=\"147\" height=\"127.99999999999997\"/></clipPath><clipPath class=\"axesclip\" id=\"clip66004fx5y4\"><rect x=\"80\" y=\"100\" width=\"147\" height=\"127.99999999999997\"/></clipPath><clipPath class=\"axesclip\" id=\"clip66004fx5y5\"><rect x=\"80\" y=\"292\" width=\"147\" height=\"128\"/></clipPath><clipPath class=\"axesclip\" id=\"clip66004fx5y6\"><rect x=\"80\" y=\"292\" width=\"147\" height=\"128\"/></clipPath><clipPath class=\"axesclip\" id=\"clip66004fx5y7\"><rect x=\"80\" y=\"292\" width=\"147\" height=\"128\"/></clipPath><clipPath class=\"axesclip\" id=\"clip66004fx5y8\"><rect x=\"80\" y=\"292\" width=\"147\" height=\"128\"/></clipPath><clipPath class=\"axesclip\" id=\"clip66004fx6\"><rect x=\"311\" y=\"0\" width=\"147\" height=\"500\"/></clipPath><clipPath class=\"axesclip\" id=\"clip66004fx6y\"><rect x=\"311\" y=\"100\" width=\"147\" height=\"127.99999999999997\"/></clipPath><clipPath class=\"axesclip\" id=\"clip66004fx6y2\"><rect x=\"311\" y=\"100\" width=\"147\" height=\"127.99999999999997\"/></clipPath><clipPath class=\"axesclip\" id=\"clip66004fx6y3\"><rect x=\"311\" y=\"100\" width=\"147\" height=\"127.99999999999997\"/></clipPath><clipPath class=\"axesclip\" id=\"clip66004fx6y4\"><rect x=\"311\" y=\"100\" width=\"147\" height=\"127.99999999999997\"/></clipPath><clipPath class=\"axesclip\" id=\"clip66004fx6y5\"><rect x=\"311\" y=\"292\" width=\"147\" height=\"128\"/></clipPath><clipPath class=\"axesclip\" id=\"clip66004fx6y6\"><rect x=\"311\" y=\"292\" width=\"147\" height=\"128\"/></clipPath><clipPath class=\"axesclip\" id=\"clip66004fx6y7\"><rect x=\"311\" y=\"292\" width=\"147\" height=\"128\"/></clipPath><clipPath class=\"axesclip\" id=\"clip66004fx6y8\"><rect x=\"311\" y=\"292\" width=\"147\" height=\"128\"/></clipPath><clipPath class=\"axesclip\" id=\"clip66004fx7\"><rect x=\"542\" y=\"0\" width=\"147.00000000000003\" height=\"500\"/></clipPath><clipPath class=\"axesclip\" id=\"clip66004fx7y\"><rect x=\"542\" y=\"100\" width=\"147.00000000000003\" height=\"127.99999999999997\"/></clipPath><clipPath class=\"axesclip\" id=\"clip66004fx7y2\"><rect x=\"542\" y=\"100\" width=\"147.00000000000003\" height=\"127.99999999999997\"/></clipPath><clipPath class=\"axesclip\" id=\"clip66004fx7y3\"><rect x=\"542\" y=\"100\" width=\"147.00000000000003\" height=\"127.99999999999997\"/></clipPath><clipPath class=\"axesclip\" id=\"clip66004fx7y4\"><rect x=\"542\" y=\"100\" width=\"147.00000000000003\" height=\"127.99999999999997\"/></clipPath><clipPath class=\"axesclip\" id=\"clip66004fx7y5\"><rect x=\"542\" y=\"292\" width=\"147.00000000000003\" height=\"128\"/></clipPath><clipPath class=\"axesclip\" id=\"clip66004fx7y6\"><rect x=\"542\" y=\"292\" width=\"147.00000000000003\" height=\"128\"/></clipPath><clipPath class=\"axesclip\" id=\"clip66004fx7y7\"><rect x=\"542\" y=\"292\" width=\"147.00000000000003\" height=\"128\"/></clipPath><clipPath class=\"axesclip\" id=\"clip66004fx7y8\"><rect x=\"542\" y=\"292\" width=\"147.00000000000003\" height=\"128\"/></clipPath><clipPath class=\"axesclip\" id=\"clip66004fx8\"><rect x=\"773\" y=\"0\" width=\"147.00000000000003\" height=\"500\"/></clipPath><clipPath class=\"axesclip\" id=\"clip66004fx8y\"><rect x=\"773\" y=\"100\" width=\"147.00000000000003\" height=\"127.99999999999997\"/></clipPath><clipPath class=\"axesclip\" id=\"clip66004fx8y2\"><rect x=\"773\" y=\"100\" width=\"147.00000000000003\" height=\"127.99999999999997\"/></clipPath><clipPath class=\"axesclip\" id=\"clip66004fx8y3\"><rect x=\"773\" y=\"100\" width=\"147.00000000000003\" height=\"127.99999999999997\"/></clipPath><clipPath class=\"axesclip\" id=\"clip66004fx8y4\"><rect x=\"773\" y=\"100\" width=\"147.00000000000003\" height=\"127.99999999999997\"/></clipPath><clipPath class=\"axesclip\" id=\"clip66004fx8y5\"><rect x=\"773\" y=\"292\" width=\"147.00000000000003\" height=\"128\"/></clipPath><clipPath class=\"axesclip\" id=\"clip66004fx8y6\"><rect x=\"773\" y=\"292\" width=\"147.00000000000003\" height=\"128\"/></clipPath><clipPath class=\"axesclip\" id=\"clip66004fx8y7\"><rect x=\"773\" y=\"292\" width=\"147.00000000000003\" height=\"128\"/></clipPath><clipPath class=\"axesclip\" id=\"clip66004fx8y8\"><rect x=\"773\" y=\"292\" width=\"147.00000000000003\" height=\"128\"/></clipPath></g><g class=\"gradients\"/><g class=\"patterns\"/></defs><g class=\"bglayer\"/><g class=\"layer-below\"><g class=\"imagelayer\"/><g class=\"shapelayer\"/></g><g class=\"cartesianlayer\"><g class=\"subplot xy\"><g class=\"layer-subplot\"><g class=\"shapelayer\"/><g class=\"imagelayer\"/></g><g class=\"minor-gridlayer\"><g class=\"x\"/><g class=\"y\"/></g><g class=\"gridlayer\"><g class=\"x\"><path class=\"xgrid crisp\" transform=\"translate(136.45,0)\" d=\"M0,100v127.99999999999997\" style=\"stroke: rgb(235, 240, 248); stroke-opacity: 1; stroke-width: 1px;\"/><path class=\"xgrid crisp\" transform=\"translate(192.9,0)\" d=\"M0,100v127.99999999999997\" style=\"stroke: rgb(235, 240, 248); stroke-opacity: 1; stroke-width: 1px;\"/></g><g class=\"y\"><path class=\"ygrid crisp\" transform=\"translate(0,215.2)\" d=\"M80,0h147\" style=\"stroke: rgb(235, 240, 248); stroke-opacity: 1; stroke-width: 1px;\"/><path class=\"ygrid crisp\" transform=\"translate(0,189.6)\" d=\"M80,0h147\" style=\"stroke: rgb(235, 240, 248); stroke-opacity: 1; stroke-width: 1px;\"/><path class=\"ygrid crisp\" transform=\"translate(0,164)\" d=\"M80,0h147\" style=\"stroke: rgb(235, 240, 248); stroke-opacity: 1; stroke-width: 1px;\"/><path class=\"ygrid crisp\" transform=\"translate(0,138.4)\" d=\"M80,0h147\" style=\"stroke: rgb(235, 240, 248); stroke-opacity: 1; stroke-width: 1px;\"/><path class=\"ygrid crisp\" transform=\"translate(0,112.8)\" d=\"M80,0h147\" style=\"stroke: rgb(235, 240, 248); stroke-opacity: 1; stroke-width: 1px;\"/></g></g><g class=\"zerolinelayer\"><path class=\"xzl zl crisp\" transform=\"translate(80,0)\" d=\"M0,100v127.99999999999997\" style=\"stroke: rgb(235, 240, 248); stroke-opacity: 1; stroke-width: 2px;\"/></g><path class=\"xlines-below\"/><path class=\"ylines-below\"/><g class=\"overlines-below\"/><g class=\"xaxislayer-below\"/><g class=\"yaxislayer-below\"/><g class=\"overaxes-below\"/><g class=\"plot\" transform=\"translate(80,100)\" clip-path=\"url(#clip66004fxyplot)\"><g class=\"barlayer mlayer\"><g class=\"trace bars\" style=\"opacity: 1;\"><g class=\"points\"><g class=\"point\"><path d=\"M0,125.44V104.96H101.57V125.44Z\" style=\"vector-effect: non-scaling-stroke; opacity: 1; stroke-width: 0.5px; fill: rgb(213, 94, 0); fill-opacity: 1; stroke: rgb(255, 255, 255); stroke-opacity: 1;\"/></g><g class=\"point\"><path d=\"M0,99.84V79.36H109.3V99.84Z\" style=\"vector-effect: non-scaling-stroke; opacity: 1; stroke-width: 0.5px; fill: rgb(213, 94, 0); fill-opacity: 1; stroke: rgb(255, 255, 255); stroke-opacity: 1;\"/></g><g class=\"point\"><path d=\"M0,74.24V53.76H114.42V74.24Z\" style=\"vector-effect: non-scaling-stroke; opacity: 1; stroke-width: 0.5px; fill: rgb(213, 94, 0); fill-opacity: 1; stroke: rgb(255, 255, 255); stroke-opacity: 1;\"/></g><g class=\"point\"><path d=\"M0,48.64V28.16H136.67V48.64Z\" style=\"vector-effect: non-scaling-stroke; opacity: 1; stroke-width: 0.5px; fill: rgb(213, 94, 0); fill-opacity: 1; stroke: rgb(255, 255, 255); stroke-opacity: 1;\"/></g><g class=\"point\"><path d=\"M0,23.04V2.56H139.65V23.04Z\" style=\"vector-effect: non-scaling-stroke; opacity: 1; stroke-width: 0.5px; fill: rgb(213, 94, 0); fill-opacity: 1; stroke: rgb(255, 255, 255); stroke-opacity: 1;\"/></g></g></g></g></g><g class=\"overplot\"/><path class=\"xlines-above crisp\" d=\"M0,0\" style=\"fill: none;\"/><path class=\"ylines-above crisp\" d=\"M0,0\" style=\"fill: none;\"/><g class=\"overlines-above\"/><g class=\"xaxislayer-above\"><g class=\"xtick\"><text text-anchor=\"middle\" x=\"0\" y=\"240.99999999999997\" transform=\"translate(80,0)\" style=\"font-family: 'Open Sans', verdana, arial, sans-serif; font-size: 12px; fill: rgb(42, 63, 95); fill-opacity: 1; white-space: pre; opacity: 1;\">0</text></g><g class=\"xtick\"><text text-anchor=\"middle\" x=\"0\" y=\"240.99999999999997\" style=\"font-family: 'Open Sans', verdana, arial, sans-serif; font-size: 12px; fill: rgb(42, 63, 95); fill-opacity: 1; white-space: pre; opacity: 1;\" transform=\"translate(136.45,0)\">0.01</text></g><g class=\"xtick\"><text text-anchor=\"middle\" x=\"0\" y=\"240.99999999999997\" style=\"font-family: 'Open Sans', verdana, arial, sans-serif; font-size: 12px; fill: rgb(42, 63, 95); fill-opacity: 1; white-space: pre; opacity: 1;\" transform=\"translate(192.9,0)\">0.02</text></g></g><g class=\"yaxislayer-above\"><g class=\"ytick\"><text text-anchor=\"end\" x=\"79\" y=\"4.199999999999999\" transform=\"translate(0,215.2)\" style=\"font-family: 'Open Sans', verdana, arial, sans-serif; font-size: 12px; fill: rgb(42, 63, 95); fill-opacity: 1; white-space: pre; opacity: 1;\">league  </text></g><g class=\"ytick\"><text text-anchor=\"end\" x=\"79\" y=\"4.199999999999999\" transform=\"translate(0,189.6)\" style=\"font-family: 'Open Sans', verdana, arial, sans-serif; font-size: 12px; fill: rgb(42, 63, 95); fill-opacity: 1; white-space: pre; opacity: 1;\">liverpool  </text></g><g class=\"ytick\"><text text-anchor=\"end\" x=\"79\" y=\"4.199999999999999\" transform=\"translate(0,164)\" style=\"font-family: 'Open Sans', verdana, arial, sans-serif; font-size: 12px; fill: rgb(42, 63, 95); fill-opacity: 1; white-space: pre; opacity: 1;\">arsenal  </text></g><g class=\"ytick\"><text text-anchor=\"end\" x=\"79\" y=\"4.199999999999999\" transform=\"translate(0,138.4)\" style=\"font-family: 'Open Sans', verdana, arial, sans-serif; font-size: 12px; fill: rgb(42, 63, 95); fill-opacity: 1; white-space: pre; opacity: 1;\">chelsea  </text></g><g class=\"ytick\"><text text-anchor=\"end\" x=\"79\" y=\"4.199999999999999\" transform=\"translate(0,112.8)\" style=\"font-family: 'Open Sans', verdana, arial, sans-serif; font-size: 12px; fill: rgb(42, 63, 95); fill-opacity: 1; white-space: pre; opacity: 1;\">club  </text></g></g><g class=\"overaxes-above\"/></g><g class=\"subplot x2y2\"><g class=\"layer-subplot\"><g class=\"shapelayer\"/><g class=\"imagelayer\"/></g><g class=\"minor-gridlayer\"><g class=\"x2\"/><g class=\"y2\"/></g><g class=\"gridlayer\"><g class=\"x2\"><path class=\"x2grid crisp\" transform=\"translate(361.13,0)\" d=\"M0,100v127.99999999999997\" style=\"stroke: rgb(235, 240, 248); stroke-opacity: 1; stroke-width: 1px;\"/><path class=\"x2grid crisp\" transform=\"translate(411.27,0)\" d=\"M0,100v127.99999999999997\" style=\"stroke: rgb(235, 240, 248); stroke-opacity: 1; stroke-width: 1px;\"/></g><g class=\"y2\"><path class=\"y2grid crisp\" transform=\"translate(0,215.2)\" d=\"M311,0h147\" style=\"stroke: rgb(235, 240, 248); stroke-opacity: 1; stroke-width: 1px;\"/><path class=\"y2grid crisp\" transform=\"translate(0,189.6)\" d=\"M311,0h147\" style=\"stroke: rgb(235, 240, 248); stroke-opacity: 1; stroke-width: 1px;\"/><path class=\"y2grid crisp\" transform=\"translate(0,164)\" d=\"M311,0h147\" style=\"stroke: rgb(235, 240, 248); stroke-opacity: 1; stroke-width: 1px;\"/><path class=\"y2grid crisp\" transform=\"translate(0,138.4)\" d=\"M311,0h147\" style=\"stroke: rgb(235, 240, 248); stroke-opacity: 1; stroke-width: 1px;\"/><path class=\"y2grid crisp\" transform=\"translate(0,112.8)\" d=\"M311,0h147\" style=\"stroke: rgb(235, 240, 248); stroke-opacity: 1; stroke-width: 1px;\"/></g></g><g class=\"zerolinelayer\"><path class=\"x2zl zl crisp\" transform=\"translate(311,0)\" d=\"M0,100v127.99999999999997\" style=\"stroke: rgb(235, 240, 248); stroke-opacity: 1; stroke-width: 2px;\"/></g><path class=\"xlines-below\"/><path class=\"ylines-below\"/><g class=\"overlines-below\"/><g class=\"xaxislayer-below\"/><g class=\"yaxislayer-below\"/><g class=\"overaxes-below\"/><g class=\"plot\" transform=\"translate(311,100)\" clip-path=\"url(#clip66004fx2y2plot)\"><g class=\"barlayer mlayer\"><g class=\"trace bars\" style=\"opacity: 1;\"><g class=\"points\"><g class=\"point\"><path d=\"M0,125.44V104.96H48.27V125.44Z\" style=\"vector-effect: non-scaling-stroke; opacity: 1; stroke-width: 0.5px; fill: rgb(0, 114, 178); fill-opacity: 1; stroke: rgb(255, 255, 255); stroke-opacity: 1;\"/></g><g class=\"point\"><path d=\"M0,99.84V79.36H51.86V99.84Z\" style=\"vector-effect: non-scaling-stroke; opacity: 1; stroke-width: 0.5px; fill: rgb(0, 114, 178); fill-opacity: 1; stroke: rgb(255, 255, 255); stroke-opacity: 1;\"/></g><g class=\"point\"><path d=\"M0,74.24V53.76H53.02V74.24Z\" style=\"vector-effect: non-scaling-stroke; opacity: 1; stroke-width: 0.5px; fill: rgb(0, 114, 178); fill-opacity: 1; stroke: rgb(255, 255, 255); stroke-opacity: 1;\"/></g><g class=\"point\"><path d=\"M0,48.64V28.16H77.59V48.64Z\" style=\"vector-effect: non-scaling-stroke; opacity: 1; stroke-width: 0.5px; fill: rgb(0, 114, 178); fill-opacity: 1; stroke: rgb(255, 255, 255); stroke-opacity: 1;\"/></g><g class=\"point\"><path d=\"M0,23.04V2.56H139.65V23.04Z\" style=\"vector-effect: non-scaling-stroke; opacity: 1; stroke-width: 0.5px; fill: rgb(0, 114, 178); fill-opacity: 1; stroke: rgb(255, 255, 255); stroke-opacity: 1;\"/></g></g></g></g></g><g class=\"overplot\"/><path class=\"xlines-above crisp\" d=\"M0,0\" style=\"fill: none;\"/><path class=\"ylines-above crisp\" d=\"M0,0\" style=\"fill: none;\"/><g class=\"overlines-above\"/><g class=\"xaxislayer-above\"><g class=\"x2tick\"><text text-anchor=\"middle\" x=\"0\" y=\"240.99999999999997\" transform=\"translate(311,0)\" style=\"font-family: 'Open Sans', verdana, arial, sans-serif; font-size: 12px; fill: rgb(42, 63, 95); fill-opacity: 1; white-space: pre; opacity: 1;\">0</text></g><g class=\"x2tick\"><text text-anchor=\"middle\" x=\"0\" y=\"240.99999999999997\" style=\"font-family: 'Open Sans', verdana, arial, sans-serif; font-size: 12px; fill: rgb(42, 63, 95); fill-opacity: 1; white-space: pre; opacity: 1;\" transform=\"translate(361.13,0)\">0.02</text></g><g class=\"x2tick\"><text text-anchor=\"middle\" x=\"0\" y=\"240.99999999999997\" style=\"font-family: 'Open Sans', verdana, arial, sans-serif; font-size: 12px; fill: rgb(42, 63, 95); fill-opacity: 1; white-space: pre; opacity: 1;\" transform=\"translate(411.27,0)\">0.04</text></g></g><g class=\"yaxislayer-above\"><g class=\"y2tick\"><text text-anchor=\"end\" x=\"310\" y=\"4.199999999999999\" transform=\"translate(0,215.2)\" style=\"font-family: 'Open Sans', verdana, arial, sans-serif; font-size: 12px; fill: rgb(42, 63, 95); fill-opacity: 1; white-space: pre; opacity: 1;\">director  </text></g><g class=\"y2tick\"><text text-anchor=\"end\" x=\"310\" y=\"4.199999999999999\" transform=\"translate(0,189.6)\" style=\"font-family: 'Open Sans', verdana, arial, sans-serif; font-size: 12px; fill: rgb(42, 63, 95); fill-opacity: 1; white-space: pre; opacity: 1;\">films  </text></g><g class=\"y2tick\"><text text-anchor=\"end\" x=\"310\" y=\"4.199999999999999\" transform=\"translate(0,164)\" style=\"font-family: 'Open Sans', verdana, arial, sans-serif; font-size: 12px; fill: rgb(42, 63, 95); fill-opacity: 1; white-space: pre; opacity: 1;\">actor  </text></g><g class=\"y2tick\"><text text-anchor=\"end\" x=\"310\" y=\"4.199999999999999\" transform=\"translate(0,138.4)\" style=\"font-family: 'Open Sans', verdana, arial, sans-serif; font-size: 12px; fill: rgb(42, 63, 95); fill-opacity: 1; white-space: pre; opacity: 1;\">best  </text></g><g class=\"y2tick\"><text text-anchor=\"end\" x=\"310\" y=\"4.199999999999999\" transform=\"translate(0,112.8)\" style=\"font-family: 'Open Sans', verdana, arial, sans-serif; font-size: 12px; fill: rgb(42, 63, 95); fill-opacity: 1; white-space: pre; opacity: 1;\">film  </text></g></g><g class=\"overaxes-above\"/></g><g class=\"subplot x3y3\"><g class=\"layer-subplot\"><g class=\"shapelayer\"/><g class=\"imagelayer\"/></g><g class=\"minor-gridlayer\"><g class=\"x3\"/><g class=\"y3\"/></g><g class=\"gridlayer\"><g class=\"x3\"><path class=\"x3grid crisp\" transform=\"translate(582.23,0)\" d=\"M0,100v127.99999999999997\" style=\"stroke: rgb(235, 240, 248); stroke-opacity: 1; stroke-width: 1px;\"/><path class=\"x3grid crisp\" transform=\"translate(622.46,0)\" d=\"M0,100v127.99999999999997\" style=\"stroke: rgb(235, 240, 248); stroke-opacity: 1; stroke-width: 1px;\"/><path class=\"x3grid crisp\" transform=\"translate(662.69,0)\" d=\"M0,100v127.99999999999997\" style=\"stroke: rgb(235, 240, 248); stroke-opacity: 1; stroke-width: 1px;\"/></g><g class=\"y3\"><path class=\"y3grid crisp\" transform=\"translate(0,215.2)\" d=\"M542,0h147.00000000000003\" style=\"stroke: rgb(235, 240, 248); stroke-opacity: 1; stroke-width: 1px;\"/><path class=\"y3grid crisp\" transform=\"translate(0,189.6)\" d=\"M542,0h147.00000000000003\" style=\"stroke: rgb(235, 240, 248); stroke-opacity: 1; stroke-width: 1px;\"/><path class=\"y3grid crisp\" transform=\"translate(0,164)\" d=\"M542,0h147.00000000000003\" style=\"stroke: rgb(235, 240, 248); stroke-opacity: 1; stroke-width: 1px;\"/><path class=\"y3grid crisp\" transform=\"translate(0,138.4)\" d=\"M542,0h147.00000000000003\" style=\"stroke: rgb(235, 240, 248); stroke-opacity: 1; stroke-width: 1px;\"/><path class=\"y3grid crisp\" transform=\"translate(0,112.8)\" d=\"M542,0h147.00000000000003\" style=\"stroke: rgb(235, 240, 248); stroke-opacity: 1; stroke-width: 1px;\"/></g></g><g class=\"zerolinelayer\"><path class=\"x3zl zl crisp\" transform=\"translate(542,0)\" d=\"M0,100v127.99999999999997\" style=\"stroke: rgb(235, 240, 248); stroke-opacity: 1; stroke-width: 2px;\"/></g><path class=\"xlines-below\"/><path class=\"ylines-below\"/><g class=\"overlines-below\"/><g class=\"xaxislayer-below\"/><g class=\"yaxislayer-below\"/><g class=\"overaxes-below\"/><g class=\"plot\" transform=\"translate(542,100)\" clip-path=\"url(#clip66004fx3y3plot)\"><g class=\"barlayer mlayer\"><g class=\"trace bars\" style=\"opacity: 1;\"><g class=\"points\"><g class=\"point\"><path d=\"M0,125.44V104.96H82.62V125.44Z\" style=\"vector-effect: non-scaling-stroke; opacity: 1; stroke-width: 0.5px; fill: rgb(204, 121, 167); fill-opacity: 1; stroke: rgb(255, 255, 255); stroke-opacity: 1;\"/></g><g class=\"point\"><path d=\"M0,99.84V79.36H104.53V99.84Z\" style=\"vector-effect: non-scaling-stroke; opacity: 1; stroke-width: 0.5px; fill: rgb(204, 121, 167); fill-opacity: 1; stroke: rgb(255, 255, 255); stroke-opacity: 1;\"/></g><g class=\"point\"><path d=\"M0,74.24V53.76H105.51V74.24Z\" style=\"vector-effect: non-scaling-stroke; opacity: 1; stroke-width: 0.5px; fill: rgb(204, 121, 167); fill-opacity: 1; stroke: rgb(255, 255, 255); stroke-opacity: 1;\"/></g><g class=\"point\"><path d=\"M0,48.64V28.16H107.47V48.64Z\" style=\"vector-effect: non-scaling-stroke; opacity: 1; stroke-width: 0.5px; fill: rgb(204, 121, 167); fill-opacity: 1; stroke: rgb(255, 255, 255); stroke-opacity: 1;\"/></g><g class=\"point\"><path d=\"M0,23.04V2.56H139.65V23.04Z\" style=\"vector-effect: non-scaling-stroke; opacity: 1; stroke-width: 0.5px; fill: rgb(204, 121, 167); fill-opacity: 1; stroke: rgb(255, 255, 255); stroke-opacity: 1;\"/></g></g></g></g></g><g class=\"overplot\"/><path class=\"xlines-above crisp\" d=\"M0,0\" style=\"fill: none;\"/><path class=\"ylines-above crisp\" d=\"M0,0\" style=\"fill: none;\"/><g class=\"overlines-above\"/><g class=\"xaxislayer-above\"><g class=\"x3tick\"><text text-anchor=\"middle\" x=\"0\" y=\"240.99999999999997\" transform=\"translate(542,0)\" style=\"font-family: 'Open Sans', verdana, arial, sans-serif; font-size: 12px; fill: rgb(42, 63, 95); fill-opacity: 1; white-space: pre; opacity: 1;\">0</text></g><g class=\"x3tick\"><text text-anchor=\"middle\" x=\"0\" y=\"240.99999999999997\" style=\"font-family: 'Open Sans', verdana, arial, sans-serif; font-size: 12px; fill: rgb(42, 63, 95); fill-opacity: 1; white-space: pre; opacity: 1;\" transform=\"translate(582.23,0)\">0.01</text></g><g class=\"x3tick\"><text text-anchor=\"middle\" x=\"0\" y=\"240.99999999999997\" style=\"font-family: 'Open Sans', verdana, arial, sans-serif; font-size: 12px; fill: rgb(42, 63, 95); fill-opacity: 1; white-space: pre; opacity: 1;\" transform=\"translate(622.46,0)\">0.02</text></g><g class=\"x3tick\"><text text-anchor=\"middle\" x=\"0\" y=\"240.99999999999997\" style=\"font-family: 'Open Sans', verdana, arial, sans-serif; font-size: 12px; fill: rgb(42, 63, 95); fill-opacity: 1; white-space: pre; opacity: 1;\" transform=\"translate(662.69,0)\">0.03</text></g></g><g class=\"yaxislayer-above\"><g class=\"y3tick\"><text text-anchor=\"end\" x=\"541\" y=\"4.199999999999999\" transform=\"translate(0,215.2)\" style=\"font-family: 'Open Sans', verdana, arial, sans-serif; font-size: 12px; fill: rgb(42, 63, 95); fill-opacity: 1; white-space: pre; opacity: 1;\">nations  </text></g><g class=\"y3tick\"><text text-anchor=\"end\" x=\"541\" y=\"4.199999999999999\" transform=\"translate(0,189.6)\" style=\"font-family: 'Open Sans', verdana, arial, sans-serif; font-size: 12px; fill: rgb(42, 63, 95); fill-opacity: 1; white-space: pre; opacity: 1;\">rugby  </text></g><g class=\"y3tick\"><text text-anchor=\"end\" x=\"541\" y=\"4.199999999999999\" transform=\"translate(0,164)\" style=\"font-family: 'Open Sans', verdana, arial, sans-serif; font-size: 12px; fill: rgb(42, 63, 95); fill-opacity: 1; white-space: pre; opacity: 1;\">ireland  </text></g><g class=\"y3tick\"><text text-anchor=\"end\" x=\"541\" y=\"4.199999999999999\" transform=\"translate(0,138.4)\" style=\"font-family: 'Open Sans', verdana, arial, sans-serif; font-size: 12px; fill: rgb(42, 63, 95); fill-opacity: 1; white-space: pre; opacity: 1;\">wales  </text></g><g class=\"y3tick\"><text text-anchor=\"end\" x=\"541\" y=\"4.199999999999999\" transform=\"translate(0,112.8)\" style=\"font-family: 'Open Sans', verdana, arial, sans-serif; font-size: 12px; fill: rgb(42, 63, 95); fill-opacity: 1; white-space: pre; opacity: 1;\">england  </text></g></g><g class=\"overaxes-above\"/></g><g class=\"subplot x4y4\"><g class=\"layer-subplot\"><g class=\"shapelayer\"/><g class=\"imagelayer\"/></g><g class=\"minor-gridlayer\"><g class=\"x4\"/><g class=\"y4\"/></g><g class=\"gridlayer\"><g class=\"x4\"><path class=\"x4grid crisp\" transform=\"translate(815.67,0)\" d=\"M0,100v127.99999999999997\" style=\"stroke: rgb(235, 240, 248); stroke-opacity: 1; stroke-width: 1px;\"/><path class=\"x4grid crisp\" transform=\"translate(858.35,0)\" d=\"M0,100v127.99999999999997\" style=\"stroke: rgb(235, 240, 248); stroke-opacity: 1; stroke-width: 1px;\"/><path class=\"x4grid crisp\" transform=\"translate(901.02,0)\" d=\"M0,100v127.99999999999997\" style=\"stroke: rgb(235, 240, 248); stroke-opacity: 1; stroke-width: 1px;\"/></g><g class=\"y4\"><path class=\"y4grid crisp\" transform=\"translate(0,215.2)\" d=\"M773,0h147.00000000000003\" style=\"stroke: rgb(235, 240, 248); stroke-opacity: 1; stroke-width: 1px;\"/><path class=\"y4grid crisp\" transform=\"translate(0,189.6)\" d=\"M773,0h147.00000000000003\" style=\"stroke: rgb(235, 240, 248); stroke-opacity: 1; stroke-width: 1px;\"/><path class=\"y4grid crisp\" transform=\"translate(0,164)\" d=\"M773,0h147.00000000000003\" style=\"stroke: rgb(235, 240, 248); stroke-opacity: 1; stroke-width: 1px;\"/><path class=\"y4grid crisp\" transform=\"translate(0,138.4)\" d=\"M773,0h147.00000000000003\" style=\"stroke: rgb(235, 240, 248); stroke-opacity: 1; stroke-width: 1px;\"/><path class=\"y4grid crisp\" transform=\"translate(0,112.8)\" d=\"M773,0h147.00000000000003\" style=\"stroke: rgb(235, 240, 248); stroke-opacity: 1; stroke-width: 1px;\"/></g></g><g class=\"zerolinelayer\"><path class=\"x4zl zl crisp\" transform=\"translate(773,0)\" d=\"M0,100v127.99999999999997\" style=\"stroke: rgb(235, 240, 248); stroke-opacity: 1; stroke-width: 2px;\"/></g><path class=\"xlines-below\"/><path class=\"ylines-below\"/><g class=\"overlines-below\"/><g class=\"xaxislayer-below\"/><g class=\"yaxislayer-below\"/><g class=\"overaxes-below\"/><g class=\"plot\" transform=\"translate(773,100)\" clip-path=\"url(#clip66004fx4y4plot)\"><g class=\"barlayer mlayer\"><g class=\"trace bars\" style=\"opacity: 1;\"><g class=\"points\"><g class=\"point\"><path d=\"M0,125.44V104.96H81.02V125.44Z\" style=\"vector-effect: non-scaling-stroke; opacity: 1; stroke-width: 0.5px; fill: rgb(230, 159, 0); fill-opacity: 1; stroke: rgb(255, 255, 255); stroke-opacity: 1;\"/></g><g class=\"point\"><path d=\"M0,99.84V79.36H99.23V99.84Z\" style=\"vector-effect: non-scaling-stroke; opacity: 1; stroke-width: 0.5px; fill: rgb(230, 159, 0); fill-opacity: 1; stroke: rgb(255, 255, 255); stroke-opacity: 1;\"/></g><g class=\"point\"><path d=\"M0,74.24V53.76H121.39V74.24Z\" style=\"vector-effect: non-scaling-stroke; opacity: 1; stroke-width: 0.5px; fill: rgb(230, 159, 0); fill-opacity: 1; stroke: rgb(255, 255, 255); stroke-opacity: 1;\"/></g><g class=\"point\"><path d=\"M0,48.64V28.16H130.55V48.64Z\" style=\"vector-effect: non-scaling-stroke; opacity: 1; stroke-width: 0.5px; fill: rgb(230, 159, 0); fill-opacity: 1; stroke: rgb(255, 255, 255); stroke-opacity: 1;\"/></g><g class=\"point\"><path d=\"M0,23.04V2.56H139.65V23.04Z\" style=\"vector-effect: non-scaling-stroke; opacity: 1; stroke-width: 0.5px; fill: rgb(230, 159, 0); fill-opacity: 1; stroke: rgb(255, 255, 255); stroke-opacity: 1;\"/></g></g></g></g></g><g class=\"overplot\"/><path class=\"xlines-above crisp\" d=\"M0,0\" style=\"fill: none;\"/><path class=\"ylines-above crisp\" d=\"M0,0\" style=\"fill: none;\"/><g class=\"overlines-above\"/><g class=\"xaxislayer-above\"><g class=\"x4tick\"><text text-anchor=\"middle\" x=\"0\" y=\"240.99999999999997\" transform=\"translate(773,0)\" style=\"font-family: 'Open Sans', verdana, arial, sans-serif; font-size: 12px; fill: rgb(42, 63, 95); fill-opacity: 1; white-space: pre; opacity: 1;\">0</text></g><g class=\"x4tick\"><text text-anchor=\"middle\" x=\"0\" y=\"240.99999999999997\" style=\"font-family: 'Open Sans', verdana, arial, sans-serif; font-size: 12px; fill: rgb(42, 63, 95); fill-opacity: 1; white-space: pre; opacity: 1;\" transform=\"translate(815.67,0)\">0.01</text></g><g class=\"x4tick\"><text text-anchor=\"middle\" x=\"0\" y=\"240.99999999999997\" style=\"font-family: 'Open Sans', verdana, arial, sans-serif; font-size: 12px; fill: rgb(42, 63, 95); fill-opacity: 1; white-space: pre; opacity: 1;\" transform=\"translate(858.35,0)\">0.02</text></g><g class=\"x4tick\"><text text-anchor=\"middle\" x=\"0\" y=\"240.99999999999997\" style=\"font-family: 'Open Sans', verdana, arial, sans-serif; font-size: 12px; fill: rgb(42, 63, 95); fill-opacity: 1; white-space: pre; opacity: 1;\" transform=\"translate(901.02,0)\">0.03</text></g></g><g class=\"yaxislayer-above\"><g class=\"y4tick\"><text text-anchor=\"end\" x=\"772\" y=\"4.199999999999999\" transform=\"translate(0,215.2)\" style=\"font-family: 'Open Sans', verdana, arial, sans-serif; font-size: 12px; fill: rgb(42, 63, 95); fill-opacity: 1; white-space: pre; opacity: 1;\">best  </text></g><g class=\"y4tick\"><text text-anchor=\"end\" x=\"772\" y=\"4.199999999999999\" transform=\"translate(0,189.6)\" style=\"font-family: 'Open Sans', verdana, arial, sans-serif; font-size: 12px; fill: rgb(42, 63, 95); fill-opacity: 1; white-space: pre; opacity: 1;\">song  </text></g><g class=\"y4tick\"><text text-anchor=\"end\" x=\"772\" y=\"4.199999999999999\" transform=\"translate(0,164)\" style=\"font-family: 'Open Sans', verdana, arial, sans-serif; font-size: 12px; fill: rgb(42, 63, 95); fill-opacity: 1; white-space: pre; opacity: 1;\">album  </text></g><g class=\"y4tick\"><text text-anchor=\"end\" x=\"772\" y=\"4.199999999999999\" transform=\"translate(0,138.4)\" style=\"font-family: 'Open Sans', verdana, arial, sans-serif; font-size: 12px; fill: rgb(42, 63, 95); fill-opacity: 1; white-space: pre; opacity: 1;\">band  </text></g><g class=\"y4tick\"><text text-anchor=\"end\" x=\"772\" y=\"4.199999999999999\" transform=\"translate(0,112.8)\" style=\"font-family: 'Open Sans', verdana, arial, sans-serif; font-size: 12px; fill: rgb(42, 63, 95); fill-opacity: 1; white-space: pre; opacity: 1;\">music  </text></g></g><g class=\"overaxes-above\"/></g><g class=\"subplot x5y5\"><g class=\"layer-subplot\"><g class=\"shapelayer\"/><g class=\"imagelayer\"/></g><g class=\"minor-gridlayer\"><g class=\"x5\"/><g class=\"y5\"/></g><g class=\"gridlayer\"><g class=\"x5\"><path class=\"x5grid crisp\" transform=\"translate(117.95,0)\" d=\"M0,292v128\" style=\"stroke: rgb(235, 240, 248); stroke-opacity: 1; stroke-width: 1px;\"/><path class=\"x5grid crisp\" transform=\"translate(155.9,0)\" d=\"M0,292v128\" style=\"stroke: rgb(235, 240, 248); stroke-opacity: 1; stroke-width: 1px;\"/><path class=\"x5grid crisp\" transform=\"translate(193.85,0)\" d=\"M0,292v128\" style=\"stroke: rgb(235, 240, 248); stroke-opacity: 1; stroke-width: 1px;\"/></g><g class=\"y5\"><path class=\"y5grid crisp\" transform=\"translate(0,407.2)\" d=\"M80,0h147\" style=\"stroke: rgb(235, 240, 248); stroke-opacity: 1; stroke-width: 1px;\"/><path class=\"y5grid crisp\" transform=\"translate(0,381.6)\" d=\"M80,0h147\" style=\"stroke: rgb(235, 240, 248); stroke-opacity: 1; stroke-width: 1px;\"/><path class=\"y5grid crisp\" transform=\"translate(0,356)\" d=\"M80,0h147\" style=\"stroke: rgb(235, 240, 248); stroke-opacity: 1; stroke-width: 1px;\"/><path class=\"y5grid crisp\" transform=\"translate(0,330.4)\" d=\"M80,0h147\" style=\"stroke: rgb(235, 240, 248); stroke-opacity: 1; stroke-width: 1px;\"/><path class=\"y5grid crisp\" transform=\"translate(0,304.8)\" d=\"M80,0h147\" style=\"stroke: rgb(235, 240, 248); stroke-opacity: 1; stroke-width: 1px;\"/></g></g><g class=\"zerolinelayer\"><path class=\"x5zl zl crisp\" transform=\"translate(80,0)\" d=\"M0,292v128\" style=\"stroke: rgb(235, 240, 248); stroke-opacity: 1; stroke-width: 2px;\"/></g><path class=\"xlines-below\"/><path class=\"ylines-below\"/><g class=\"overlines-below\"/><g class=\"xaxislayer-below\"/><g class=\"yaxislayer-below\"/><g class=\"overaxes-below\"/><g class=\"plot\" transform=\"translate(80,292)\" clip-path=\"url(#clip66004fx5y5plot)\"><g class=\"barlayer mlayer\"><g class=\"trace bars\" style=\"opacity: 1;\"><g class=\"points\"><g class=\"point\"><path d=\"M0,125.44V104.96H94.42V125.44Z\" style=\"vector-effect: non-scaling-stroke; opacity: 1; stroke-width: 0.5px; fill: rgb(86, 180, 233); fill-opacity: 1; stroke: rgb(255, 255, 255); stroke-opacity: 1;\"/></g><g class=\"point\"><path d=\"M0,99.84V79.36H112.24V99.84Z\" style=\"vector-effect: non-scaling-stroke; opacity: 1; stroke-width: 0.5px; fill: rgb(86, 180, 233); fill-opacity: 1; stroke: rgb(255, 255, 255); stroke-opacity: 1;\"/></g><g class=\"point\"><path d=\"M0,74.24V53.76H112.57V74.24Z\" style=\"vector-effect: non-scaling-stroke; opacity: 1; stroke-width: 0.5px; fill: rgb(86, 180, 233); fill-opacity: 1; stroke: rgb(255, 255, 255); stroke-opacity: 1;\"/></g><g class=\"point\"><path d=\"M0,48.64V28.16H137.12V48.64Z\" style=\"vector-effect: non-scaling-stroke; opacity: 1; stroke-width: 0.5px; fill: rgb(86, 180, 233); fill-opacity: 1; stroke: rgb(255, 255, 255); stroke-opacity: 1;\"/></g><g class=\"point\"><path d=\"M0,23.04V2.56H139.65V23.04Z\" style=\"vector-effect: non-scaling-stroke; opacity: 1; stroke-width: 0.5px; fill: rgb(86, 180, 233); fill-opacity: 1; stroke: rgb(255, 255, 255); stroke-opacity: 1;\"/></g></g></g></g></g><g class=\"overplot\"/><path class=\"xlines-above crisp\" d=\"M0,0\" style=\"fill: none;\"/><path class=\"ylines-above crisp\" d=\"M0,0\" style=\"fill: none;\"/><g class=\"overlines-above\"/><g class=\"xaxislayer-above\"><g class=\"x5tick\"><text text-anchor=\"middle\" x=\"0\" y=\"433\" transform=\"translate(80,0)\" style=\"font-family: 'Open Sans', verdana, arial, sans-serif; font-size: 12px; fill: rgb(42, 63, 95); fill-opacity: 1; white-space: pre; opacity: 1;\">0</text></g><g class=\"x5tick\"><text text-anchor=\"middle\" x=\"0\" y=\"433\" style=\"font-family: 'Open Sans', verdana, arial, sans-serif; font-size: 12px; fill: rgb(42, 63, 95); fill-opacity: 1; white-space: pre; opacity: 1;\" transform=\"translate(117.95,0)\">0.01</text></g><g class=\"x5tick\"><text text-anchor=\"middle\" x=\"0\" y=\"433\" style=\"font-family: 'Open Sans', verdana, arial, sans-serif; font-size: 12px; fill: rgb(42, 63, 95); fill-opacity: 1; white-space: pre; opacity: 1;\" transform=\"translate(155.9,0)\">0.02</text></g><g class=\"x5tick\"><text text-anchor=\"middle\" x=\"0\" y=\"433\" style=\"font-family: 'Open Sans', verdana, arial, sans-serif; font-size: 12px; fill: rgb(42, 63, 95); fill-opacity: 1; white-space: pre; opacity: 1;\" transform=\"translate(193.85,0)\">0.03</text></g></g><g class=\"yaxislayer-above\"><g class=\"y5tick\"><text text-anchor=\"end\" x=\"79\" y=\"4.199999999999999\" transform=\"translate(0,407.2)\" style=\"font-family: 'Open Sans', verdana, arial, sans-serif; font-size: 12px; fill: rgb(42, 63, 95); fill-opacity: 1; white-space: pre; opacity: 1;\">users  </text></g><g class=\"y5tick\"><text text-anchor=\"end\" x=\"79\" y=\"4.199999999999999\" transform=\"translate(0,381.6)\" style=\"font-family: 'Open Sans', verdana, arial, sans-serif; font-size: 12px; fill: rgb(42, 63, 95); fill-opacity: 1; white-space: pre; opacity: 1;\">mail  </text></g><g class=\"y5tick\"><text text-anchor=\"end\" x=\"79\" y=\"4.199999999999999\" transform=\"translate(0,356)\" style=\"font-family: 'Open Sans', verdana, arial, sans-serif; font-size: 12px; fill: rgb(42, 63, 95); fill-opacity: 1; white-space: pre; opacity: 1;\">spam  </text></g><g class=\"y5tick\"><text text-anchor=\"end\" x=\"79\" y=\"4.199999999999999\" transform=\"translate(0,330.4)\" style=\"font-family: 'Open Sans', verdana, arial, sans-serif; font-size: 12px; fill: rgb(42, 63, 95); fill-opacity: 1; white-space: pre; opacity: 1;\">security  </text></g><g class=\"y5tick\"><text text-anchor=\"end\" x=\"79\" y=\"4.199999999999999\" transform=\"translate(0,304.8)\" style=\"font-family: 'Open Sans', verdana, arial, sans-serif; font-size: 12px; fill: rgb(42, 63, 95); fill-opacity: 1; white-space: pre; opacity: 1;\">virus  </text></g></g><g class=\"overaxes-above\"/></g><g class=\"subplot x6y6\"><g class=\"layer-subplot\"><g class=\"shapelayer\"/><g class=\"imagelayer\"/></g><g class=\"minor-gridlayer\"><g class=\"x6\"/><g class=\"y6\"/></g><g class=\"gridlayer\"><g class=\"x6\"><path class=\"x6grid crisp\" transform=\"translate(349.79,0)\" d=\"M0,292v128\" style=\"stroke: rgb(235, 240, 248); stroke-opacity: 1; stroke-width: 1px;\"/><path class=\"x6grid crisp\" transform=\"translate(388.58,0)\" d=\"M0,292v128\" style=\"stroke: rgb(235, 240, 248); stroke-opacity: 1; stroke-width: 1px;\"/><path class=\"x6grid crisp\" transform=\"translate(427.37,0)\" d=\"M0,292v128\" style=\"stroke: rgb(235, 240, 248); stroke-opacity: 1; stroke-width: 1px;\"/></g><g class=\"y6\"><path class=\"y6grid crisp\" transform=\"translate(0,407.2)\" d=\"M311,0h147\" style=\"stroke: rgb(235, 240, 248); stroke-opacity: 1; stroke-width: 1px;\"/><path class=\"y6grid crisp\" transform=\"translate(0,381.6)\" d=\"M311,0h147\" style=\"stroke: rgb(235, 240, 248); stroke-opacity: 1; stroke-width: 1px;\"/><path class=\"y6grid crisp\" transform=\"translate(0,356)\" d=\"M311,0h147\" style=\"stroke: rgb(235, 240, 248); stroke-opacity: 1; stroke-width: 1px;\"/><path class=\"y6grid crisp\" transform=\"translate(0,330.4)\" d=\"M311,0h147\" style=\"stroke: rgb(235, 240, 248); stroke-opacity: 1; stroke-width: 1px;\"/><path class=\"y6grid crisp\" transform=\"translate(0,304.8)\" d=\"M311,0h147\" style=\"stroke: rgb(235, 240, 248); stroke-opacity: 1; stroke-width: 1px;\"/></g></g><g class=\"zerolinelayer\"><path class=\"x6zl zl crisp\" transform=\"translate(311,0)\" d=\"M0,292v128\" style=\"stroke: rgb(235, 240, 248); stroke-opacity: 1; stroke-width: 2px;\"/></g><path class=\"xlines-below\"/><path class=\"ylines-below\"/><g class=\"overlines-below\"/><g class=\"xaxislayer-below\"/><g class=\"yaxislayer-below\"/><g class=\"overaxes-below\"/><g class=\"plot\" transform=\"translate(311,292)\" clip-path=\"url(#clip66004fx6y6plot)\"><g class=\"barlayer mlayer\"><g class=\"trace bars\" style=\"opacity: 1;\"><g class=\"points\"><g class=\"point\"><path d=\"M0,125.44V104.96H100.6V125.44Z\" style=\"vector-effect: non-scaling-stroke; opacity: 1; stroke-width: 0.5px; fill: rgb(0, 158, 115); fill-opacity: 1; stroke: rgb(255, 255, 255); stroke-opacity: 1;\"/></g><g class=\"point\"><path d=\"M0,99.84V79.36H106.14V99.84Z\" style=\"vector-effect: non-scaling-stroke; opacity: 1; stroke-width: 0.5px; fill: rgb(0, 158, 115); fill-opacity: 1; stroke: rgb(255, 255, 255); stroke-opacity: 1;\"/></g><g class=\"point\"><path d=\"M0,74.24V53.76H120.14V74.24Z\" style=\"vector-effect: non-scaling-stroke; opacity: 1; stroke-width: 0.5px; fill: rgb(0, 158, 115); fill-opacity: 1; stroke: rgb(255, 255, 255); stroke-opacity: 1;\"/></g><g class=\"point\"><path d=\"M0,48.64V28.16H138.57V48.64Z\" style=\"vector-effect: non-scaling-stroke; opacity: 1; stroke-width: 0.5px; fill: rgb(0, 158, 115); fill-opacity: 1; stroke: rgb(255, 255, 255); stroke-opacity: 1;\"/></g><g class=\"point\"><path d=\"M0,23.04V2.56H139.65V23.04Z\" style=\"vector-effect: non-scaling-stroke; opacity: 1; stroke-width: 0.5px; fill: rgb(0, 158, 115); fill-opacity: 1; stroke: rgb(255, 255, 255); stroke-opacity: 1;\"/></g></g></g></g></g><g class=\"overplot\"/><path class=\"xlines-above crisp\" d=\"M0,0\" style=\"fill: none;\"/><path class=\"ylines-above crisp\" d=\"M0,0\" style=\"fill: none;\"/><g class=\"overlines-above\"/><g class=\"xaxislayer-above\"><g class=\"x6tick\"><text text-anchor=\"middle\" x=\"0\" y=\"433\" transform=\"translate(311,0)\" style=\"font-family: 'Open Sans', verdana, arial, sans-serif; font-size: 12px; fill: rgb(42, 63, 95); fill-opacity: 1; white-space: pre; opacity: 1;\">0</text></g><g class=\"x6tick\"><text text-anchor=\"middle\" x=\"0\" y=\"433\" style=\"font-family: 'Open Sans', verdana, arial, sans-serif; font-size: 12px; fill: rgb(42, 63, 95); fill-opacity: 1; white-space: pre; opacity: 1;\" transform=\"translate(349.79,0)\">0.01</text></g><g class=\"x6tick\"><text text-anchor=\"middle\" x=\"0\" y=\"433\" style=\"font-family: 'Open Sans', verdana, arial, sans-serif; font-size: 12px; fill: rgb(42, 63, 95); fill-opacity: 1; white-space: pre; opacity: 1;\" transform=\"translate(388.58,0)\">0.02</text></g><g class=\"x6tick\"><text text-anchor=\"middle\" x=\"0\" y=\"433\" style=\"font-family: 'Open Sans', verdana, arial, sans-serif; font-size: 12px; fill: rgb(42, 63, 95); fill-opacity: 1; white-space: pre; opacity: 1;\" transform=\"translate(427.37,0)\">0.03</text></g></g><g class=\"yaxislayer-above\"><g class=\"y6tick\"><text text-anchor=\"end\" x=\"310\" y=\"4.199999999999999\" transform=\"translate(0,407.2)\" style=\"font-family: 'Open Sans', verdana, arial, sans-serif; font-size: 12px; fill: rgb(42, 63, 95); fill-opacity: 1; white-space: pre; opacity: 1;\">championships  </text></g><g class=\"y6tick\"><text text-anchor=\"end\" x=\"310\" y=\"4.199999999999999\" transform=\"translate(0,381.6)\" style=\"font-family: 'Open Sans', verdana, arial, sans-serif; font-size: 12px; fill: rgb(42, 63, 95); fill-opacity: 1; white-space: pre; opacity: 1;\">champion  </text></g><g class=\"y6tick\"><text text-anchor=\"end\" x=\"310\" y=\"4.199999999999999\" transform=\"translate(0,356)\" style=\"font-family: 'Open Sans', verdana, arial, sans-serif; font-size: 12px; fill: rgb(42, 63, 95); fill-opacity: 1; white-space: pre; opacity: 1;\">indoor  </text></g><g class=\"y6tick\"><text text-anchor=\"end\" x=\"310\" y=\"4.199999999999999\" transform=\"translate(0,330.4)\" style=\"font-family: 'Open Sans', verdana, arial, sans-serif; font-size: 12px; fill: rgb(42, 63, 95); fill-opacity: 1; white-space: pre; opacity: 1;\">olympic  </text></g><g class=\"y6tick\"><text text-anchor=\"end\" x=\"310\" y=\"4.199999999999999\" transform=\"translate(0,304.8)\" style=\"font-family: 'Open Sans', verdana, arial, sans-serif; font-size: 12px; fill: rgb(42, 63, 95); fill-opacity: 1; white-space: pre; opacity: 1;\">race  </text></g></g><g class=\"overaxes-above\"/></g><g class=\"subplot x7y7\"><g class=\"layer-subplot\"><g class=\"shapelayer\"/><g class=\"imagelayer\"/></g><g class=\"minor-gridlayer\"><g class=\"x7\"/><g class=\"y7\"/></g><g class=\"gridlayer\"><g class=\"x7\"><path class=\"x7grid crisp\" transform=\"translate(574.07,0)\" d=\"M0,292v128\" style=\"stroke: rgb(235, 240, 248); stroke-opacity: 1; stroke-width: 1px;\"/><path class=\"x7grid crisp\" transform=\"translate(606.15,0)\" d=\"M0,292v128\" style=\"stroke: rgb(235, 240, 248); stroke-opacity: 1; stroke-width: 1px;\"/><path class=\"x7grid crisp\" transform=\"translate(638.22,0)\" d=\"M0,292v128\" style=\"stroke: rgb(235, 240, 248); stroke-opacity: 1; stroke-width: 1px;\"/><path class=\"x7grid crisp\" transform=\"translate(670.29,0)\" d=\"M0,292v128\" style=\"stroke: rgb(235, 240, 248); stroke-opacity: 1; stroke-width: 1px;\"/></g><g class=\"y7\"><path class=\"y7grid crisp\" transform=\"translate(0,407.2)\" d=\"M542,0h147.00000000000003\" style=\"stroke: rgb(235, 240, 248); stroke-opacity: 1; stroke-width: 1px;\"/><path class=\"y7grid crisp\" transform=\"translate(0,381.6)\" d=\"M542,0h147.00000000000003\" style=\"stroke: rgb(235, 240, 248); stroke-opacity: 1; stroke-width: 1px;\"/><path class=\"y7grid crisp\" transform=\"translate(0,356)\" d=\"M542,0h147.00000000000003\" style=\"stroke: rgb(235, 240, 248); stroke-opacity: 1; stroke-width: 1px;\"/><path class=\"y7grid crisp\" transform=\"translate(0,330.4)\" d=\"M542,0h147.00000000000003\" style=\"stroke: rgb(235, 240, 248); stroke-opacity: 1; stroke-width: 1px;\"/><path class=\"y7grid crisp\" transform=\"translate(0,304.8)\" d=\"M542,0h147.00000000000003\" style=\"stroke: rgb(235, 240, 248); stroke-opacity: 1; stroke-width: 1px;\"/></g></g><g class=\"zerolinelayer\"><path class=\"x7zl zl crisp\" transform=\"translate(542,0)\" d=\"M0,292v128\" style=\"stroke: rgb(235, 240, 248); stroke-opacity: 1; stroke-width: 2px;\"/></g><path class=\"xlines-below\"/><path class=\"ylines-below\"/><g class=\"overlines-below\"/><g class=\"xaxislayer-below\"/><g class=\"yaxislayer-below\"/><g class=\"overaxes-below\"/><g class=\"plot\" transform=\"translate(542,292)\" clip-path=\"url(#clip66004fx7y7plot)\"><g class=\"barlayer mlayer\"><g class=\"trace bars\" style=\"opacity: 1;\"><g class=\"points\"><g class=\"point\"><path d=\"M0,125.44V104.96H60.25V125.44Z\" style=\"vector-effect: non-scaling-stroke; opacity: 1; stroke-width: 0.5px; fill: rgb(240, 228, 66); fill-opacity: 1; stroke: rgb(255, 255, 255); stroke-opacity: 1;\"/></g><g class=\"point\"><path d=\"M0,99.84V79.36H61.94V99.84Z\" style=\"vector-effect: non-scaling-stroke; opacity: 1; stroke-width: 0.5px; fill: rgb(240, 228, 66); fill-opacity: 1; stroke: rgb(255, 255, 255); stroke-opacity: 1;\"/></g><g class=\"point\"><path d=\"M0,74.24V53.76H77.1V74.24Z\" style=\"vector-effect: non-scaling-stroke; opacity: 1; stroke-width: 0.5px; fill: rgb(240, 228, 66); fill-opacity: 1; stroke: rgb(255, 255, 255); stroke-opacity: 1;\"/></g><g class=\"point\"><path d=\"M0,48.64V28.16H90.84V48.64Z\" style=\"vector-effect: non-scaling-stroke; opacity: 1; stroke-width: 0.5px; fill: rgb(240, 228, 66); fill-opacity: 1; stroke: rgb(255, 255, 255); stroke-opacity: 1;\"/></g><g class=\"point\"><path d=\"M0,23.04V2.56H139.65V23.04Z\" style=\"vector-effect: non-scaling-stroke; opacity: 1; stroke-width: 0.5px; fill: rgb(240, 228, 66); fill-opacity: 1; stroke: rgb(255, 255, 255); stroke-opacity: 1;\"/></g></g></g></g></g><g class=\"overplot\"/><path class=\"xlines-above crisp\" d=\"M0,0\" style=\"fill: none;\"/><path class=\"ylines-above crisp\" d=\"M0,0\" style=\"fill: none;\"/><g class=\"overlines-above\"/><g class=\"xaxislayer-above\"><g class=\"x7tick\"><text text-anchor=\"middle\" x=\"0\" y=\"433\" transform=\"translate(542,0)\" style=\"font-family: 'Open Sans', verdana, arial, sans-serif; font-size: 12px; fill: rgb(42, 63, 95); fill-opacity: 1; white-space: pre; opacity: 1;\">0</text></g><g class=\"x7tick\"><text text-anchor=\"middle\" x=\"0\" y=\"433\" style=\"font-family: 'Open Sans', verdana, arial, sans-serif; font-size: 12px; fill: rgb(42, 63, 95); fill-opacity: 1; white-space: pre; opacity: 1;\" transform=\"translate(574.07,0)\">0.01</text></g><g class=\"x7tick\"><text text-anchor=\"middle\" x=\"0\" y=\"433\" style=\"font-family: 'Open Sans', verdana, arial, sans-serif; font-size: 12px; fill: rgb(42, 63, 95); fill-opacity: 1; white-space: pre; opacity: 1;\" transform=\"translate(606.15,0)\">0.02</text></g><g class=\"x7tick\"><text text-anchor=\"middle\" x=\"0\" y=\"433\" style=\"font-family: 'Open Sans', verdana, arial, sans-serif; font-size: 12px; fill: rgb(42, 63, 95); fill-opacity: 1; white-space: pre; opacity: 1;\" transform=\"translate(638.22,0)\">0.03</text></g><g class=\"x7tick\"><text text-anchor=\"middle\" x=\"0\" y=\"433\" style=\"font-family: 'Open Sans', verdana, arial, sans-serif; font-size: 12px; fill: rgb(42, 63, 95); fill-opacity: 1; white-space: pre; opacity: 1;\" transform=\"translate(670.29,0)\">0.04</text></g></g><g class=\"yaxislayer-above\"><g class=\"y7tick\"><text text-anchor=\"end\" x=\"541\" y=\"4.199999999999999\" transform=\"translate(0,407.2)\" style=\"font-family: 'Open Sans', verdana, arial, sans-serif; font-size: 12px; fill: rgb(42, 63, 95); fill-opacity: 1; white-space: pre; opacity: 1;\">comedy  </text></g><g class=\"y7tick\"><text text-anchor=\"end\" x=\"541\" y=\"4.199999999999999\" transform=\"translate(0,381.6)\" style=\"font-family: 'Open Sans', verdana, arial, sans-serif; font-size: 12px; fill: rgb(42, 63, 95); fill-opacity: 1; white-space: pre; opacity: 1;\">channel  </text></g><g class=\"y7tick\"><text text-anchor=\"end\" x=\"541\" y=\"4.199999999999999\" transform=\"translate(0,356)\" style=\"font-family: 'Open Sans', verdana, arial, sans-serif; font-size: 12px; fill: rgb(42, 63, 95); fill-opacity: 1; white-space: pre; opacity: 1;\">series  </text></g><g class=\"y7tick\"><text text-anchor=\"end\" x=\"541\" y=\"4.199999999999999\" transform=\"translate(0,330.4)\" style=\"font-family: 'Open Sans', verdana, arial, sans-serif; font-size: 12px; fill: rgb(42, 63, 95); fill-opacity: 1; white-space: pre; opacity: 1;\">tv  </text></g><g class=\"y7tick\"><text text-anchor=\"end\" x=\"541\" y=\"4.199999999999999\" transform=\"translate(0,304.8)\" style=\"font-family: 'Open Sans', verdana, arial, sans-serif; font-size: 12px; fill: rgb(42, 63, 95); fill-opacity: 1; white-space: pre; opacity: 1;\">show  </text></g></g><g class=\"overaxes-above\"/></g><g class=\"subplot x8y8\"><g class=\"layer-subplot\"><g class=\"shapelayer\"/><g class=\"imagelayer\"/></g><g class=\"minor-gridlayer\"><g class=\"x8\"/><g class=\"y8\"/></g><g class=\"gridlayer\"><g class=\"x8\"><path class=\"x8grid crisp\" transform=\"translate(825.4,0)\" d=\"M0,292v128\" style=\"stroke: rgb(235, 240, 248); stroke-opacity: 1; stroke-width: 1px;\"/><path class=\"x8grid crisp\" transform=\"translate(877.8,0)\" d=\"M0,292v128\" style=\"stroke: rgb(235, 240, 248); stroke-opacity: 1; stroke-width: 1px;\"/></g><g class=\"y8\"><path class=\"y8grid crisp\" transform=\"translate(0,407.2)\" d=\"M773,0h147.00000000000003\" style=\"stroke: rgb(235, 240, 248); stroke-opacity: 1; stroke-width: 1px;\"/><path class=\"y8grid crisp\" transform=\"translate(0,381.6)\" d=\"M773,0h147.00000000000003\" style=\"stroke: rgb(235, 240, 248); stroke-opacity: 1; stroke-width: 1px;\"/><path class=\"y8grid crisp\" transform=\"translate(0,356)\" d=\"M773,0h147.00000000000003\" style=\"stroke: rgb(235, 240, 248); stroke-opacity: 1; stroke-width: 1px;\"/><path class=\"y8grid crisp\" transform=\"translate(0,330.4)\" d=\"M773,0h147.00000000000003\" style=\"stroke: rgb(235, 240, 248); stroke-opacity: 1; stroke-width: 1px;\"/><path class=\"y8grid crisp\" transform=\"translate(0,304.8)\" d=\"M773,0h147.00000000000003\" style=\"stroke: rgb(235, 240, 248); stroke-opacity: 1; stroke-width: 1px;\"/></g></g><g class=\"zerolinelayer\"><path class=\"x8zl zl crisp\" transform=\"translate(773,0)\" d=\"M0,292v128\" style=\"stroke: rgb(235, 240, 248); stroke-opacity: 1; stroke-width: 2px;\"/></g><path class=\"xlines-below\"/><path class=\"ylines-below\"/><g class=\"overlines-below\"/><g class=\"xaxislayer-below\"/><g class=\"yaxislayer-below\"/><g class=\"overaxes-below\"/><g class=\"plot\" transform=\"translate(773,292)\" clip-path=\"url(#clip66004fx8y8plot)\"><g class=\"barlayer mlayer\"><g class=\"trace bars\" style=\"opacity: 1;\"><g class=\"points\"><g class=\"point\"><path d=\"M0,125.44V104.96H75.33V125.44Z\" style=\"vector-effect: non-scaling-stroke; opacity: 1; stroke-width: 0.5px; fill: rgb(213, 94, 0); fill-opacity: 1; stroke: rgb(255, 255, 255); stroke-opacity: 1;\"/></g><g class=\"point\"><path d=\"M0,99.84V79.36H85.73V99.84Z\" style=\"vector-effect: non-scaling-stroke; opacity: 1; stroke-width: 0.5px; fill: rgb(213, 94, 0); fill-opacity: 1; stroke: rgb(255, 255, 255); stroke-opacity: 1;\"/></g><g class=\"point\"><path d=\"M0,74.24V53.76H89.67V74.24Z\" style=\"vector-effect: non-scaling-stroke; opacity: 1; stroke-width: 0.5px; fill: rgb(213, 94, 0); fill-opacity: 1; stroke: rgb(255, 255, 255); stroke-opacity: 1;\"/></g><g class=\"point\"><path d=\"M0,48.64V28.16H94.68V48.64Z\" style=\"vector-effect: non-scaling-stroke; opacity: 1; stroke-width: 0.5px; fill: rgb(213, 94, 0); fill-opacity: 1; stroke: rgb(255, 255, 255); stroke-opacity: 1;\"/></g><g class=\"point\"><path d=\"M0,23.04V2.56H139.65V23.04Z\" style=\"vector-effect: non-scaling-stroke; opacity: 1; stroke-width: 0.5px; fill: rgb(213, 94, 0); fill-opacity: 1; stroke: rgb(255, 255, 255); stroke-opacity: 1;\"/></g></g></g></g></g><g class=\"overplot\"/><path class=\"xlines-above crisp\" d=\"M0,0\" style=\"fill: none;\"/><path class=\"ylines-above crisp\" d=\"M0,0\" style=\"fill: none;\"/><g class=\"overlines-above\"/><g class=\"xaxislayer-above\"><g class=\"x8tick\"><text text-anchor=\"middle\" x=\"0\" y=\"433\" transform=\"translate(773,0)\" style=\"font-family: 'Open Sans', verdana, arial, sans-serif; font-size: 12px; fill: rgb(42, 63, 95); fill-opacity: 1; white-space: pre; opacity: 1;\">0</text></g><g class=\"x8tick\"><text text-anchor=\"middle\" x=\"0\" y=\"433\" style=\"font-family: 'Open Sans', verdana, arial, sans-serif; font-size: 12px; fill: rgb(42, 63, 95); fill-opacity: 1; white-space: pre; opacity: 1;\" transform=\"translate(825.4,0)\">0.02</text></g><g class=\"x8tick\"><text text-anchor=\"middle\" x=\"0\" y=\"433\" style=\"font-family: 'Open Sans', verdana, arial, sans-serif; font-size: 12px; fill: rgb(42, 63, 95); fill-opacity: 1; white-space: pre; opacity: 1;\" transform=\"translate(877.8,0)\">0.04</text></g></g><g class=\"yaxislayer-above\"><g class=\"y8tick\"><text text-anchor=\"end\" x=\"772\" y=\"4.199999999999999\" transform=\"translate(0,407.2)\" style=\"font-family: 'Open Sans', verdana, arial, sans-serif; font-size: 12px; fill: rgb(42, 63, 95); fill-opacity: 1; white-space: pre; opacity: 1;\">set  </text></g><g class=\"y8tick\"><text text-anchor=\"end\" x=\"772\" y=\"4.199999999999999\" transform=\"translate(0,381.6)\" style=\"font-family: 'Open Sans', verdana, arial, sans-serif; font-size: 12px; fill: rgb(42, 63, 95); fill-opacity: 1; white-space: pre; opacity: 1;\">nadal  </text></g><g class=\"y8tick\"><text text-anchor=\"end\" x=\"772\" y=\"4.199999999999999\" transform=\"translate(0,356)\" style=\"font-family: 'Open Sans', verdana, arial, sans-serif; font-size: 12px; fill: rgb(42, 63, 95); fill-opacity: 1; white-space: pre; opacity: 1;\">open  </text></g><g class=\"y8tick\"><text text-anchor=\"end\" x=\"772\" y=\"4.199999999999999\" transform=\"translate(0,330.4)\" style=\"font-family: 'Open Sans', verdana, arial, sans-serif; font-size: 12px; fill: rgb(42, 63, 95); fill-opacity: 1; white-space: pre; opacity: 1;\">seed  </text></g><g class=\"y8tick\"><text text-anchor=\"end\" x=\"772\" y=\"4.199999999999999\" transform=\"translate(0,304.8)\" style=\"font-family: 'Open Sans', verdana, arial, sans-serif; font-size: 12px; fill: rgb(42, 63, 95); fill-opacity: 1; white-space: pre; opacity: 1;\">roddick  </text></g></g><g class=\"overaxes-above\"/></g></g><g class=\"polarlayer\"/><g class=\"smithlayer\"/><g class=\"ternarylayer\"/><g class=\"geolayer\"/><g class=\"funnelarealayer\"/><g class=\"pielayer\"/><g class=\"iciclelayer\"/><g class=\"treemaplayer\"/><g class=\"sunburstlayer\"/><g class=\"glimages\"/><defs id=\"topdefs-66004f\"><g class=\"clips\"/></defs><g class=\"layer-above\"><g class=\"imagelayer\"/><g class=\"shapelayer\"/></g><g class=\"infolayer\"><g class=\"g-gtitle\"><text class=\"gtitle\" x=\"500\" y=\"50\" text-anchor=\"middle\" dy=\"0.7em\" style=\"font-family: 'Open Sans', verdana, arial, sans-serif; font-size: 22px; fill: rgb(0, 0, 0); opacity: 1; font-weight: normal; white-space: pre;\"><tspan style=\"font-weight:bold\">Topic Word Scores</tspan></text></g><g class=\"g-xtitle\"/><g class=\"g-x2title\"/><g class=\"g-x3title\"/><g class=\"g-x4title\"/><g class=\"g-x5title\"/><g class=\"g-x6title\"/><g class=\"g-x7title\"/><g class=\"g-x8title\"/><g class=\"g-ytitle\"/><g class=\"g-y2title\"/><g class=\"g-y3title\"/><g class=\"g-y4title\"/><g class=\"g-y5title\"/><g class=\"g-y6title\"/><g class=\"g-y7title\"/><g class=\"g-y8title\"/><g class=\"annotation\" data-index=\"0\" style=\"opacity: 1;\"><g class=\"annotation-text-g\" transform=\"rotate(0,153.5,88.5)\"><g class=\"cursor-pointer\" transform=\"translate(123,77)\"><rect class=\"bg\" x=\"0.5\" y=\"0.5\" width=\"60\" height=\"22\" style=\"stroke-width: 1px; stroke: rgb(0, 0, 0); stroke-opacity: 0; fill: rgb(0, 0, 0); fill-opacity: 0;\"/><text class=\"annotation-text\" text-anchor=\"middle\" x=\"31.171875\" y=\"18\" style=\"font-family: 'Open Sans', verdana, arial, sans-serif; font-size: 16px; fill: rgb(42, 63, 95); fill-opacity: 1; white-space: pre;\">Topic 0</text></g></g></g><g class=\"annotation\" data-index=\"1\" style=\"opacity: 1;\"><g class=\"annotation-text-g\" transform=\"rotate(0,384.50000000000006,88.5)\"><g class=\"cursor-pointer\" transform=\"translate(354,77)\"><rect class=\"bg\" x=\"0.5\" y=\"0.5\" width=\"60\" height=\"22\" style=\"stroke-width: 1px; stroke: rgb(0, 0, 0); stroke-opacity: 0; fill: rgb(0, 0, 0); fill-opacity: 0;\"/><text class=\"annotation-text\" text-anchor=\"middle\" x=\"31.171875\" y=\"18\" style=\"font-family: 'Open Sans', verdana, arial, sans-serif; font-size: 16px; fill: rgb(42, 63, 95); fill-opacity: 1; white-space: pre;\">Topic 1</text></g></g></g><g class=\"annotation\" data-index=\"2\" style=\"opacity: 1;\"><g class=\"annotation-text-g\" transform=\"rotate(0,615.5,88.5)\"><g class=\"cursor-pointer\" transform=\"translate(585,77)\"><rect class=\"bg\" x=\"0.5\" y=\"0.5\" width=\"60\" height=\"22\" style=\"stroke-width: 1px; stroke: rgb(0, 0, 0); stroke-opacity: 0; fill: rgb(0, 0, 0); fill-opacity: 0;\"/><text class=\"annotation-text\" text-anchor=\"middle\" x=\"31.171875\" y=\"18\" style=\"font-family: 'Open Sans', verdana, arial, sans-serif; font-size: 16px; fill: rgb(42, 63, 95); fill-opacity: 1; white-space: pre;\">Topic 2</text></g></g></g><g class=\"annotation\" data-index=\"3\" style=\"opacity: 1;\"><g class=\"annotation-text-g\" transform=\"rotate(0,846.5,88.5)\"><g class=\"cursor-pointer\" transform=\"translate(816,77)\"><rect class=\"bg\" x=\"0.5\" y=\"0.5\" width=\"60\" height=\"22\" style=\"stroke-width: 1px; stroke: rgb(0, 0, 0); stroke-opacity: 0; fill: rgb(0, 0, 0); fill-opacity: 0;\"/><text class=\"annotation-text\" text-anchor=\"middle\" x=\"31.171875\" y=\"18\" style=\"font-family: 'Open Sans', verdana, arial, sans-serif; font-size: 16px; fill: rgb(42, 63, 95); fill-opacity: 1; white-space: pre;\">Topic 3</text></g></g></g><g class=\"annotation\" data-index=\"4\" style=\"opacity: 1;\"><g class=\"annotation-text-g\" transform=\"rotate(0,153.5,280.5)\"><g class=\"cursor-pointer\" transform=\"translate(123,269)\"><rect class=\"bg\" x=\"0.5\" y=\"0.5\" width=\"60\" height=\"22\" style=\"stroke-width: 1px; stroke: rgb(0, 0, 0); stroke-opacity: 0; fill: rgb(0, 0, 0); fill-opacity: 0;\"/><text class=\"annotation-text\" text-anchor=\"middle\" x=\"31.171875\" y=\"18\" style=\"font-family: 'Open Sans', verdana, arial, sans-serif; font-size: 16px; fill: rgb(42, 63, 95); fill-opacity: 1; white-space: pre;\">Topic 4</text></g></g></g><g class=\"annotation\" data-index=\"5\" style=\"opacity: 1;\"><g class=\"annotation-text-g\" transform=\"rotate(0,384.50000000000006,280.5)\"><g class=\"cursor-pointer\" transform=\"translate(354,269)\"><rect class=\"bg\" x=\"0.5\" y=\"0.5\" width=\"60\" height=\"22\" style=\"stroke-width: 1px; stroke: rgb(0, 0, 0); stroke-opacity: 0; fill: rgb(0, 0, 0); fill-opacity: 0;\"/><text class=\"annotation-text\" text-anchor=\"middle\" x=\"31.171875\" y=\"18\" style=\"font-family: 'Open Sans', verdana, arial, sans-serif; font-size: 16px; fill: rgb(42, 63, 95); fill-opacity: 1; white-space: pre;\">Topic 5</text></g></g></g><g class=\"annotation\" data-index=\"6\" style=\"opacity: 1;\"><g class=\"annotation-text-g\" transform=\"rotate(0,615.5,280.5)\"><g class=\"cursor-pointer\" transform=\"translate(585,269)\"><rect class=\"bg\" x=\"0.5\" y=\"0.5\" width=\"60\" height=\"22\" style=\"stroke-width: 1px; stroke: rgb(0, 0, 0); stroke-opacity: 0; fill: rgb(0, 0, 0); fill-opacity: 0;\"/><text class=\"annotation-text\" text-anchor=\"middle\" x=\"31.171875\" y=\"18\" style=\"font-family: 'Open Sans', verdana, arial, sans-serif; font-size: 16px; fill: rgb(42, 63, 95); fill-opacity: 1; white-space: pre;\">Topic 6</text></g></g></g><g class=\"annotation\" data-index=\"7\" style=\"opacity: 1;\"><g class=\"annotation-text-g\" transform=\"rotate(0,846.5,280.5)\"><g class=\"cursor-pointer\" transform=\"translate(816,269)\"><rect class=\"bg\" x=\"0.5\" y=\"0.5\" width=\"60\" height=\"22\" style=\"stroke-width: 1px; stroke: rgb(0, 0, 0); stroke-opacity: 0; fill: rgb(0, 0, 0); fill-opacity: 0;\"/><text class=\"annotation-text\" text-anchor=\"middle\" x=\"31.171875\" y=\"18\" style=\"font-family: 'Open Sans', verdana, arial, sans-serif; font-size: 16px; fill: rgb(42, 63, 95); fill-opacity: 1; white-space: pre;\">Topic 7</text></g></g></g></g></svg>"
     },
     "metadata": {},
     "output_type": "display_data"
    }
   ],
   "source": [
    "model.visualize_barchart()"
   ]
  },
  {
   "cell_type": "markdown",
   "metadata": {},
   "source": [
    "# 3. Para apresentação final do curso, organize os principais resultados obtidos nas quatro listas:"
   ]
  },
  {
   "cell_type": "markdown",
   "metadata": {},
   "source": [
    "### a) Lista 1: questões 6, 7 e 8"
   ]
  },
  {
   "cell_type": "markdown",
   "metadata": {},
   "source": [
    "Arquivo Lista4/lista1.ipynb"
   ]
  },
  {
   "cell_type": "markdown",
   "metadata": {},
   "source": [
    "### b) Lista 2: questões 2, 3, 4 e 5"
   ]
  },
  {
   "cell_type": "markdown",
   "metadata": {},
   "source": [
    "Arquivo Lista4/lista2.ipynb"
   ]
  },
  {
   "cell_type": "markdown",
   "metadata": {},
   "source": [
    "### c) Lista 3: questões 2 e 4"
   ]
  },
  {
   "cell_type": "markdown",
   "metadata": {},
   "source": [
    "Arquivo Lista4/lista3.ipynb"
   ]
  },
  {
   "cell_type": "markdown",
   "metadata": {},
   "source": [
    "### a) Lista 4: questões 6, 7 e 8"
   ]
  },
  {
   "cell_type": "markdown",
   "metadata": {},
   "source": [
    "Arquivo Lista4/lista4.ipynb"
   ]
  }
 ],
 "metadata": {
  "kernelspec": {
   "display_name": "Python 3.9.13 ('pln')",
   "language": "python",
   "name": "python3"
  },
  "language_info": {
   "codemirror_mode": {
    "name": "ipython",
    "version": 3
   },
   "file_extension": ".py",
   "mimetype": "text/x-python",
   "name": "python",
   "nbconvert_exporter": "python",
   "pygments_lexer": "ipython3",
   "version": "3.9.13"
  },
  "orig_nbformat": 4,
  "vscode": {
   "interpreter": {
    "hash": "cf1c6814613082b7ed494c008cea4b2304f61caa5fbdd7ed02b9c65d1140fe1f"
   }
  }
 },
 "nbformat": 4,
 "nbformat_minor": 2
}
